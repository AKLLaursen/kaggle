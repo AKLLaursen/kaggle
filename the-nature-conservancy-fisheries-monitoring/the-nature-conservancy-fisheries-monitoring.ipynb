{
 "cells": [
  {
   "cell_type": "markdown",
   "metadata": {},
   "source": [
    "# The Nature Conservancy Fisheries Monitoring\n",
    "\n",
    "This notebook contains code for the nature conservancy fisheries monitoring competition for Kaggle"
   ]
  },
  {
   "cell_type": "markdown",
   "metadata": {},
   "source": [
    "## Initial Setup\n",
    "\n",
    "Import libraries and functions for future use."
   ]
  },
  {
   "cell_type": "code",
   "execution_count": 1,
   "metadata": {
    "collapsed": true
   },
   "outputs": [],
   "source": [
    "# Plots displayed inline in notebook\n",
    "%matplotlib inline\n",
    "\n",
    "# Make help libraries available\n",
    "import sys\n",
    "\n",
    "#sys.path.append('/home/ubuntu/personal-libraries')\n",
    "sys.path.append('D:/anlaursen/libraries')\n",
    "\n",
    "# Set visible devices, so as to just use a single GPU.\n",
    "import os\n",
    "os.environ[\"CUDA_DEVICE_ORDER\"] = \"PCI_BUS_ID\"   # see issue #152\n",
    "os.environ[\"CUDA_VISIBLE_DEVICES\"] = \"0\""
   ]
  },
  {
   "cell_type": "code",
   "execution_count": 58,
   "metadata": {},
   "outputs": [],
   "source": [
    "import numpy as np\n",
    "import ujson as json\n",
    "import scipy\n",
    "\n",
    "from glob import glob\n",
    "from shutil import copyfile\n",
    "from collections import Counter\n",
    "from PIL import Image\n",
    "from matplotlib import pyplot as plt\n",
    "\n",
    "from kerastools.utils import (get_batches, get_data, save_array, load_array,\n",
    "                              get_classes, split_at, to_plot, plot)\n",
    "from kerastools.vgg16 import Vgg16\n",
    "\n",
    "from keras.models import Sequential, Model\n",
    "from keras.layers import Dense, Dropout, Flatten, Input, Activation\n",
    "from keras.layers.convolutional import Conv2D\n",
    "from keras.layers.merge import concatenate\n",
    "from keras.layers.normalization import BatchNormalization\n",
    "from keras.layers.pooling import MaxPooling2D, GlobalAveragePooling2D\n",
    "from keras.optimizers import Adam\n",
    "from keras.utils import to_categorical, get_file\n",
    "from keras import backend as K"
   ]
  },
  {
   "cell_type": "markdown",
   "metadata": {},
   "source": [
    "We create the desired folder structure. First setup relevant path names that will be utilised repeatedly:"
   ]
  },
  {
   "cell_type": "code",
   "execution_count": 3,
   "metadata": {
    "collapsed": true
   },
   "outputs": [],
   "source": [
    "current_dir = os.getcwd()\n",
    "DATA_HOME_DIR = current_dir\n",
    "\n",
    "# Allow relative imports to directories above root/\n",
    "sys.path.insert(1, os.path.join(sys.path[0], '..'))\n",
    "\n",
    "#path = 'sample'\n",
    "path = ''\n",
    "batch_size = 32"
   ]
  },
  {
   "cell_type": "markdown",
   "metadata": {},
   "source": [
    "Set up initial batches"
   ]
  },
  {
   "cell_type": "code",
   "execution_count": 4,
   "metadata": {},
   "outputs": [
    {
     "name": "stdout",
     "output_type": "stream",
     "text": [
      "Found 3281 images belonging to 8 classes.\n",
      "Found 3281 images belonging to 8 classes.\n",
      "Found 496 images belonging to 8 classes.\n",
      "Found 1000 images belonging to 1 classes.\n"
     ]
    }
   ],
   "source": [
    "train_batches = get_batches(path + 'train', batch_size = batch_size)\n",
    "\n",
    "(valid_classes, train_classes, valid_labels, train_labels, \n",
    "    valid_filenames, filenames, test_filenames) = get_classes(path)\n",
    "\n",
    "fish_classes = list(train_batches.class_indices.keys())"
   ]
  },
  {
   "cell_type": "markdown",
   "metadata": {},
   "source": [
    "Get paths to the raw files."
   ]
  },
  {
   "cell_type": "code",
   "execution_count": 5,
   "metadata": {
    "collapsed": true
   },
   "outputs": [],
   "source": [
    "raw_filenames = [f.split('/')[-1] for f in filenames]\n",
    "raw_test_filenames = [f.split('/')[-1] for f in test_filenames]\n",
    "raw_valid_filenames = [f.split('/')[-1] for f in valid_filenames]"
   ]
  },
  {
   "cell_type": "markdown",
   "metadata": {
    "heading_collapsed": true
   },
   "source": [
    "## Setting up the right folder structure\n",
    "\n",
    "Assumed dataset is from the Kaggle [nature conservancy fisheries monitoring](https://www.kaggle.com/c/the-nature-conservancy-fisheries-monitoring/data)"
   ]
  },
  {
   "cell_type": "markdown",
   "metadata": {
    "hidden": true
   },
   "source": [
    "Unzipping the data yields this folder structure:\n",
    "```\n",
    "train/\n",
    "    ALB\n",
    "        img_2213.jpg\n",
    "        img_1245.jpg\n",
    "        img_5654.jpg\n",
    "        ...\n",
    "    BET\n",
    "        img_5434.jpg\n",
    "        img_1254.jpg\n",
    "        img_6324.jpg\n",
    "        ...\n",
    "    DOL\n",
    "        img_3421.jpg\n",
    "        img_5314.jpg\n",
    "        img_1335.jpg\n",
    "        ...\n",
    "    ...\n",
    "test/\n",
    "    img_00005.jpg\n",
    "    img_00007.jpg\n",
    "    img_00009.jpg\n",
    "    ...\n",
    "test_stg2/\n",
    "    img_00001.jpg\n",
    "    img_00002.jpg\n",
    "    img_00003.jpg\n",
    "    ...\n",
    "```\n",
    "Working directory is root of this folder structure."
   ]
  },
  {
   "cell_type": "markdown",
   "metadata": {
    "hidden": true
   },
   "source": [
    "We create the top directories"
   ]
  },
  {
   "cell_type": "code",
   "execution_count": 12,
   "metadata": {
    "hidden": true
   },
   "outputs": [
    {
     "name": "stdout",
     "output_type": "stream",
     "text": [
      "D:\\anlaursen\\kaggle\\the-nature-conservancy-fisheries-monitoring\n"
     ]
    },
    {
     "name": "stderr",
     "output_type": "stream",
     "text": [
      "A subdirectory or file valid already exists.\n",
      "A subdirectory or file sample\\train already exists.\n",
      "A subdirectory or file sample\\valid already exists.\n",
      "A subdirectory or file test_stg1\\unknown already exists.\n",
      "A subdirectory or file test_stg2\\unknown already exists.\n",
      "A subdirectory or file models already exists.\n",
      "A subdirectory or file results already exists.\n"
     ]
    }
   ],
   "source": [
    "%cd $DATA_HOME_DIR\n",
    "\n",
    "%mkdir valid\n",
    "%mkdir sample\\train\n",
    "%mkdir sample\\valid\n",
    "%mkdir test\\unknown\n",
    "%mkdir test_stg2\\unknown\n",
    "%mkdir models\n",
    "%mkdir results\n",
    "%mkdir sample\\results"
   ]
  },
  {
   "cell_type": "markdown",
   "metadata": {
    "hidden": true
   },
   "source": [
    "Next we make the class subfolder"
   ]
  },
  {
   "cell_type": "code",
   "execution_count": 5,
   "metadata": {
    "hidden": true
   },
   "outputs": [
    {
     "name": "stdout",
     "output_type": "stream",
     "text": [
      "[WinError 3] The system cannot find the path specified: 'DATA_HOME_DIR\\\\valid'\n",
      "D:\\anlaursen\\kaggle\\the-nature-conservancy-fisheries-monitoring\n"
     ]
    }
   ],
   "source": [
    "%cd DATA_HOME_DIR\\valid\n",
    "for fish in fish_classes:\n",
    "    os.mkdir(fish)"
   ]
  },
  {
   "cell_type": "code",
   "execution_count": 29,
   "metadata": {
    "hidden": true
   },
   "outputs": [
    {
     "name": "stdout",
     "output_type": "stream",
     "text": [
      "D:\\anlaursen\\kaggle\\the-nature-conservancy-fisheries-monitoring\\sample\\train\n"
     ]
    }
   ],
   "source": [
    "%cd $DATA_HOME_DIR\\sample\\train\n",
    "for fish in fish_classes:\n",
    "    os.mkdir(fish)"
   ]
  },
  {
   "cell_type": "code",
   "execution_count": 30,
   "metadata": {
    "hidden": true
   },
   "outputs": [
    {
     "name": "stdout",
     "output_type": "stream",
     "text": [
      "D:\\anlaursen\\kaggle\\the-nature-conservancy-fisheries-monitoring\\sample\\valid\n"
     ]
    }
   ],
   "source": [
    "%cd $DATA_HOME_DIR\\sample\\valid\n",
    "for fish in fish_classes:\n",
    "    os.mkdir(fish)"
   ]
  },
  {
   "cell_type": "markdown",
   "metadata": {
    "hidden": true
   },
   "source": [
    "First we move the test data."
   ]
  },
  {
   "cell_type": "code",
   "execution_count": 45,
   "metadata": {
    "hidden": true
   },
   "outputs": [
    {
     "name": "stdout",
     "output_type": "stream",
     "text": [
      "D:\\anlaursen\\kaggle\\the-nature-conservancy-fisheries-monitoring\\test_stg1\n"
     ]
    }
   ],
   "source": [
    "%cd $DATA_HOME_DIR\\test\n",
    "\n",
    "test_stg1_files = [f for f in os.listdir() if os.path.isfile(os.path.join(f))]\n",
    "for f in test_stg1_files:\n",
    "    os.rename(DATA_HOME_DIR + '\\\\test\\\\' + f, DATA_HOME_DIR + '\\\\test\\\\unknown\\\\' + f)"
   ]
  },
  {
   "cell_type": "code",
   "execution_count": 46,
   "metadata": {
    "hidden": true
   },
   "outputs": [
    {
     "name": "stdout",
     "output_type": "stream",
     "text": [
      "D:\\anlaursen\\kaggle\\the-nature-conservancy-fisheries-monitoring\\test_stg2\n"
     ]
    }
   ],
   "source": [
    "%cd $DATA_HOME_DIR\\test_stg2\n",
    "\n",
    "test_stg2_files = [f for f in os.listdir() if os.path.isfile(os.path.join(f))]\n",
    "for f in test_stg2_files:\n",
    "    os.rename(DATA_HOME_DIR + '\\\\test_stg2\\\\' + f, DATA_HOME_DIR + '\\\\test_stg2\\\\unknown\\\\' + f)"
   ]
  },
  {
   "cell_type": "markdown",
   "metadata": {
    "hidden": true
   },
   "source": [
    "Next we move the validation files."
   ]
  },
  {
   "cell_type": "code",
   "execution_count": 6,
   "metadata": {
    "hidden": true
   },
   "outputs": [
    {
     "name": "stdout",
     "output_type": "stream",
     "text": [
      "D:\\anlaursen\\kaggle\\the-nature-conservancy-fisheries-monitoring\\train\n"
     ]
    }
   ],
   "source": [
    "% cd $DATA_HOME_DIR\\train\n",
    "\n",
    "valid_size = 500\n",
    "total_train = len(glob('*/*.jpg'))\n",
    "\n",
    "# Make the validation set reflect the composition of the training set\n",
    "for fish in fish_classes:\n",
    "    g = os.listdir(fish + '\\\\')\n",
    "    shuf = np.random.permutation(g)\n",
    "    for i in range(int(valid_size * len(g) / total_train)):\n",
    "        os.rename(DATA_HOME_DIR + '\\\\train\\\\' + fish + '\\\\' + shuf[i], DATA_HOME_DIR + '\\\\valid\\\\' + fish + '\\\\' + shuf[i])"
   ]
  },
  {
   "cell_type": "markdown",
   "metadata": {
    "hidden": true
   },
   "source": [
    "Finally we make copys of both train and validation to the sample folder."
   ]
  },
  {
   "cell_type": "code",
   "execution_count": 76,
   "metadata": {
    "hidden": true
   },
   "outputs": [
    {
     "data": {
      "text/plain": [
       "range(0, 70)"
      ]
     },
     "execution_count": 76,
     "metadata": {},
     "output_type": "execute_result"
    }
   ],
   "source": [
    "% cd $DATA_HOME_DIR\\train\n",
    "\n",
    "sample_train_size = 400\n",
    "\n",
    "# Make the validation set reflect the composition of the training set\n",
    "for fish in fish_classes:\n",
    "    g = os.listdir(fish + '\\\\')\n",
    "    shuf = np.random.permutation(g)\n",
    "    for i in range(int(sample_train_size * len(g) / total_train)):\n",
    "        copyfile(DATA_HOME_DIR + '\\\\train\\\\' + fish + '\\\\' + shuf[i], DATA_HOME_DIR + '\\\\sample\\\\train\\\\' + fish + '\\\\' + shuf[i])"
   ]
  },
  {
   "cell_type": "code",
   "execution_count": 18,
   "metadata": {
    "hidden": true
   },
   "outputs": [
    {
     "data": {
      "text/plain": [
       "'D:\\\\anlaursen\\\\kaggle\\\\the-nature-conservancy-fisheries-monitoring'"
      ]
     },
     "execution_count": 18,
     "metadata": {},
     "output_type": "execute_result"
    }
   ],
   "source": [
    "% cd $DATA_HOME_DIR\\valid\n",
    "\n",
    "sample_valid_size = 200\n",
    "total_valid = len(glob('*/*.jpg'))\n",
    "\n",
    "# Make the validation set reflect the composition of the training set\n",
    "for fish in fish_classes:\n",
    "    g = os.listdir(fish + '\\\\')\n",
    "    shuf = np.random.permutation(g)\n",
    "    for i in range(int(sample_valid_size * len(g) / total_valid)):\n",
    "        copyfile(DATA_HOME_DIR + '\\\\valid\\\\' + fish + '\\\\' + shuf[i], DATA_HOME_DIR + '\\\\sample\\\\valid\\\\' + fish + '\\\\' + shuf[i])"
   ]
  },
  {
   "cell_type": "markdown",
   "metadata": {
    "hidden": true
   },
   "source": [
    "Finally make sure to reset to the home directory"
   ]
  },
  {
   "cell_type": "markdown",
   "metadata": {
    "heading_collapsed": true
   },
   "source": [
    "## Basic VGG\n",
    "\n",
    "We start with our usual VGG approach. We will be using VGG with batch normalization. We start by defining the model."
   ]
  },
  {
   "cell_type": "code",
   "execution_count": 18,
   "metadata": {
    "collapsed": true,
    "hidden": true
   },
   "outputs": [],
   "source": [
    "vgg = Vgg16(use_batchnorm = True)"
   ]
  },
  {
   "cell_type": "markdown",
   "metadata": {
    "hidden": true
   },
   "source": [
    "The dataset is not that large so we load everything into memory."
   ]
  },
  {
   "cell_type": "code",
   "execution_count": 6,
   "metadata": {
    "hidden": true
   },
   "outputs": [
    {
     "name": "stdout",
     "output_type": "stream",
     "text": [
      "Found 3281 images belonging to 8 classes.\n",
      "Found 496 images belonging to 8 classes.\n",
      "Found 1000 images belonging to 1 classes.\n",
      "Found 12153 images belonging to 1 classes.\n"
     ]
    }
   ],
   "source": [
    "train = get_data(path + 'train')\n",
    "valid = get_data(path + 'valid')\n",
    "test_stg1 = get_data(path + 'test')\n",
    "test_stg2 = get_data(path + 'test_stg2')"
   ]
  },
  {
   "cell_type": "markdown",
   "metadata": {
    "hidden": true
   },
   "source": [
    "We then save it for easy access in numpy array format later on."
   ]
  },
  {
   "cell_type": "code",
   "execution_count": 6,
   "metadata": {
    "collapsed": true,
    "hidden": true
   },
   "outputs": [],
   "source": [
    "save_array(path + 'results/train.dat', train)\n",
    "save_array(path + 'results/valid.dat', valid)\n",
    "save_array(path + 'results/test_stg1.dat', test_stg1)\n",
    "save_array(path + 'results/test_stg2.dat', test_stg2)"
   ]
  },
  {
   "cell_type": "markdown",
   "metadata": {
    "hidden": true
   },
   "source": [
    "And then load the images"
   ]
  },
  {
   "cell_type": "code",
   "execution_count": 7,
   "metadata": {
    "collapsed": true,
    "hidden": true
   },
   "outputs": [],
   "source": [
    "train = load_array(path + 'results/train.dat')\n",
    "valid = load_array(path + 'results/valid.dat')\n",
    "test_stg1 = load_array(path + 'results/test_stg1.dat')\n",
    "test_stg2 = load_array(path + 'results/test_stg2.dat')"
   ]
  },
  {
   "cell_type": "markdown",
   "metadata": {
    "hidden": true
   },
   "source": [
    "Fine tune the model."
   ]
  },
  {
   "cell_type": "code",
   "execution_count": 20,
   "metadata": {
    "collapsed": true,
    "hidden": true
   },
   "outputs": [],
   "source": [
    "vgg.finetune(train_batches)"
   ]
  },
  {
   "cell_type": "markdown",
   "metadata": {
    "hidden": true
   },
   "source": [
    "And then run the first training."
   ]
  },
  {
   "cell_type": "code",
   "execution_count": 23,
   "metadata": {
    "hidden": true
   },
   "outputs": [
    {
     "name": "stdout",
     "output_type": "stream",
     "text": [
      "Train on 3281 samples, validate on 496 samples\n",
      "Epoch 1/6\n",
      "3281/3281 [==============================] - 22s - loss: 3.3625 - acc: 0.4203 - val_loss: 5.3241 - val_acc: 0.4637\n",
      "Epoch 2/6\n",
      "3281/3281 [==============================] - 22s - loss: 2.1842 - acc: 0.5706 - val_loss: 2.5104 - val_acc: 0.5403\n",
      "Epoch 3/6\n",
      "3281/3281 [==============================] - 22s - loss: 1.7985 - acc: 0.6202 - val_loss: 0.9990 - val_acc: 0.7702\n",
      "Epoch 4/6\n",
      "3281/3281 [==============================] - 22s - loss: 1.6443 - acc: 0.6535 - val_loss: 0.7600 - val_acc: 0.8085\n",
      "Epoch 5/6\n",
      "3281/3281 [==============================] - 22s - loss: 1.4985 - acc: 0.6721 - val_loss: 0.7334 - val_acc: 0.8185\n",
      "Epoch 6/6\n",
      "3281/3281 [==============================] - 22s - loss: 1.4344 - acc: 0.6861 - val_loss: 0.7230 - val_acc: 0.8206\n"
     ]
    },
    {
     "data": {
      "text/plain": [
       "<keras.callbacks.History at 0x1a0fb1b8f98>"
      ]
     },
     "execution_count": 23,
     "metadata": {},
     "output_type": "execute_result"
    }
   ],
   "source": [
    "vgg.model.optimizer.lr = 1e-3\n",
    "\n",
    "vgg.model.fit(x = train,\n",
    "              y = train_labels,\n",
    "              batch_size = batch_size,\n",
    "              epochs = 6,\n",
    "              validation_data = (valid, valid_labels))"
   ]
  },
  {
   "cell_type": "markdown",
   "metadata": {
    "hidden": true
   },
   "source": [
    "Let's save the weights and try something else."
   ]
  },
  {
   "cell_type": "code",
   "execution_count": 24,
   "metadata": {
    "collapsed": true,
    "hidden": true
   },
   "outputs": [],
   "source": [
    "vgg.model.save_weights(path + 'results/ft1.h5')"
   ]
  },
  {
   "cell_type": "markdown",
   "metadata": {
    "heading_collapsed": true
   },
   "source": [
    "## Precompute convolutional output"
   ]
  },
  {
   "cell_type": "markdown",
   "metadata": {
    "hidden": true
   },
   "source": [
    "Start by reloading old weights"
   ]
  },
  {
   "cell_type": "code",
   "execution_count": 21,
   "metadata": {
    "collapsed": true,
    "hidden": true
   },
   "outputs": [],
   "source": [
    "vgg.model.load_weights(path + 'results/ft1.h5')"
   ]
  },
  {
   "cell_type": "markdown",
   "metadata": {
    "hidden": true
   },
   "source": [
    "Split the model in the convolutional and the fully connected parts"
   ]
  },
  {
   "cell_type": "code",
   "execution_count": 22,
   "metadata": {
    "collapsed": true,
    "hidden": true
   },
   "outputs": [],
   "source": [
    "conv_layers, fc_layers = split_at(vgg.model, Conv2D)"
   ]
  },
  {
   "cell_type": "markdown",
   "metadata": {
    "hidden": true
   },
   "source": [
    "Then define a model only with the convolutional layers."
   ]
  },
  {
   "cell_type": "code",
   "execution_count": 23,
   "metadata": {
    "collapsed": true,
    "hidden": true
   },
   "outputs": [],
   "source": [
    "vgg_conv = Sequential(conv_layers)"
   ]
  },
  {
   "cell_type": "markdown",
   "metadata": {
    "hidden": true
   },
   "source": [
    "Next pre-compute the convolutional, validation and test features."
   ]
  },
  {
   "cell_type": "code",
   "execution_count": 20,
   "metadata": {
    "collapsed": true,
    "hidden": true
   },
   "outputs": [],
   "source": [
    "conv_feat = vgg_conv.predict(train, batch_size = 17)\n",
    "conv_valid_feat = vgg_conv.predict(valid, batch_size = 31)\n",
    "conv_test_stg1_feat = vgg_conv.predict(test_stg1, batch_size = 20)\n",
    "conv_test_stg2_feat = vgg_conv.predict(test_stg2, batch_size = 31)"
   ]
  },
  {
   "cell_type": "markdown",
   "metadata": {
    "hidden": true
   },
   "source": [
    "Save the features"
   ]
  },
  {
   "cell_type": "code",
   "execution_count": 21,
   "metadata": {
    "collapsed": true,
    "hidden": true
   },
   "outputs": [],
   "source": [
    "save_array(path + 'results/conv_feat.dat', conv_feat)\n",
    "save_array(path + 'results/conv_valid_feat.dat', conv_valid_feat)\n",
    "save_array(path + 'results/conv_test_stg1_feat.dat', conv_test_stg1_feat)\n",
    "save_array(path + 'results/conv_test_stg2_feat.dat', conv_test_stg2_feat)"
   ]
  },
  {
   "cell_type": "markdown",
   "metadata": {
    "hidden": true
   },
   "source": [
    "Load the features."
   ]
  },
  {
   "cell_type": "code",
   "execution_count": 8,
   "metadata": {
    "collapsed": true,
    "hidden": true
   },
   "outputs": [],
   "source": [
    "conv_feat = load_array(path + 'results/conv_feat.dat')\n",
    "conv_valid_feat = load_array(path + 'results/conv_valid_feat.dat')\n",
    "conv_test_stg1_feat = load_array(path + 'results/conv_test_stg1_feat.dat')\n",
    "conv_test_stg2_feat = load_array(path + 'results/conv_test_stg2_feat.dat')"
   ]
  },
  {
   "cell_type": "markdown",
   "metadata": {
    "hidden": true
   },
   "source": [
    "Consider the structure"
   ]
  },
  {
   "cell_type": "code",
   "execution_count": 25,
   "metadata": {
    "hidden": true
   },
   "outputs": [
    {
     "data": {
      "text/plain": [
       "(496, 14, 14, 512)"
      ]
     },
     "execution_count": 25,
     "metadata": {},
     "output_type": "execute_result"
    }
   ],
   "source": [
    "conv_valid_feat.shape"
   ]
  },
  {
   "cell_type": "markdown",
   "metadata": {
    "heading_collapsed": true
   },
   "source": [
    "## Base line model\n",
    "\n",
    "We can then train our baseline model (simple 3-layer FC model)"
   ]
  },
  {
   "cell_type": "markdown",
   "metadata": {
    "hidden": true
   },
   "source": [
    "Define the model."
   ]
  },
  {
   "cell_type": "code",
   "execution_count": 38,
   "metadata": {
    "collapsed": true,
    "hidden": true
   },
   "outputs": [],
   "source": [
    "def batch_norm_model(base_model, p):\n",
    "    \n",
    "    inputs = Input(shape = base_model.layers[-1].output_shape[1:])\n",
    "    \n",
    "    pool_layer = MaxPooling2D()(inputs)\n",
    "    pool_layer = BatchNormalization()(pool_layer)\n",
    "        \n",
    "    flat_layer = Flatten()(pool_layer)\n",
    "        \n",
    "    dense_layer_1 = Dropout(p / 4)(flat_layer)\n",
    "    dense_layer_1 = Dense(512, activation = 'relu')(dense_layer_1)\n",
    "    dense_layer_2 = BatchNormalization()(dense_layer_1)\n",
    "    dense_layer_2 = Dropout(p)(dense_layer_2)\n",
    "    dense_layer_2 = Dense(512, activation = 'relu')(dense_layer_2)\n",
    "    dense_layer_3 = BatchNormalization()(dense_layer_2)\n",
    "    dense_layer_3 = Dropout(p / 2)(dense_layer_3)\n",
    "    dense_layer_3 = Dense(8, activation = 'softmax')(dense_layer_3)\n",
    "    \n",
    "    model = Model(inputs = inputs, outputs = dense_layer_3)\n",
    "    \n",
    "    return model\n",
    "\n",
    "p = 0.6"
   ]
  },
  {
   "cell_type": "markdown",
   "metadata": {
    "hidden": true
   },
   "source": [
    "Then define and compile the model"
   ]
  },
  {
   "cell_type": "code",
   "execution_count": 45,
   "metadata": {
    "collapsed": true,
    "hidden": true
   },
   "outputs": [],
   "source": [
    "fc_model = batch_norm_model(vgg_conv, p)\n",
    "\n",
    "fc_model.compile(Adam(lr = 0.001), loss = 'categorical_crossentropy', metrics = ['accuracy'])"
   ]
  },
  {
   "cell_type": "markdown",
   "metadata": {
    "hidden": true
   },
   "source": [
    "Finally train the model"
   ]
  },
  {
   "cell_type": "code",
   "execution_count": 48,
   "metadata": {
    "hidden": true
   },
   "outputs": [
    {
     "name": "stdout",
     "output_type": "stream",
     "text": [
      "Train on 3281 samples, validate on 496 samples\n",
      "Epoch 1/6\n",
      "3281/3281 [==============================] - 6s - loss: 1.0990 - acc: 0.6858 - val_loss: 0.3114 - val_acc: 0.9073\n",
      "Epoch 2/6\n",
      "3281/3281 [==============================] - 3s - loss: 0.3296 - acc: 0.9037 - val_loss: 0.2435 - val_acc: 0.9395\n",
      "Epoch 3/6\n",
      "3281/3281 [==============================] - 3s - loss: 0.1833 - acc: 0.9424 - val_loss: 0.1740 - val_acc: 0.9516\n",
      "Epoch 4/6\n",
      "3281/3281 [==============================] - 3s - loss: 0.1221 - acc: 0.9622 - val_loss: 0.1778 - val_acc: 0.9577\n",
      "Epoch 5/6\n",
      "3281/3281 [==============================] - 3s - loss: 0.1104 - acc: 0.9692 - val_loss: 0.1863 - val_acc: 0.9577\n",
      "Epoch 6/6\n",
      "3281/3281 [==============================] - 3s - loss: 0.0901 - acc: 0.9698 - val_loss: 0.1694 - val_acc: 0.9556\n"
     ]
    },
    {
     "data": {
      "text/plain": [
       "<keras.callbacks.History at 0x10a31094cc0>"
      ]
     },
     "execution_count": 48,
     "metadata": {},
     "output_type": "execute_result"
    }
   ],
   "source": [
    "fc_model.fit(x = conv_feat,\n",
    "             y = train_labels,\n",
    "             batch_size = batch_size,\n",
    "             epochs = 6,\n",
    "             validation_data = (conv_valid_feat, valid_labels))"
   ]
  },
  {
   "cell_type": "markdown",
   "metadata": {
    "hidden": true
   },
   "source": [
    "Lower the learning rate and train some more."
   ]
  },
  {
   "cell_type": "code",
   "execution_count": 49,
   "metadata": {
    "hidden": true
   },
   "outputs": [
    {
     "name": "stdout",
     "output_type": "stream",
     "text": [
      "Train on 3281 samples, validate on 496 samples\n",
      "Epoch 1/10\n",
      "3281/3281 [==============================] - 3s - loss: 0.0654 - acc: 0.9814 - val_loss: 0.1641 - val_acc: 0.9657\n",
      "Epoch 2/10\n",
      "3281/3281 [==============================] - 3s - loss: 0.0580 - acc: 0.9866 - val_loss: 0.1635 - val_acc: 0.9617\n",
      "Epoch 3/10\n",
      "3281/3281 [==============================] - 3s - loss: 0.0517 - acc: 0.9848 - val_loss: 0.1513 - val_acc: 0.9677\n",
      "Epoch 4/10\n",
      "3281/3281 [==============================] - 3s - loss: 0.0449 - acc: 0.9872 - val_loss: 0.1602 - val_acc: 0.9617\n",
      "Epoch 5/10\n",
      "3281/3281 [==============================] - 3s - loss: 0.0384 - acc: 0.9863 - val_loss: 0.1711 - val_acc: 0.9718\n",
      "Epoch 6/10\n",
      "3281/3281 [==============================] - 3s - loss: 0.0553 - acc: 0.9805 - val_loss: 0.1324 - val_acc: 0.971893 - ac\n",
      "Epoch 7/10\n",
      "3281/3281 [==============================] - 3s - loss: 0.0617 - acc: 0.9817 - val_loss: 0.1532 - val_acc: 0.9718\n",
      "Epoch 8/10\n",
      "3281/3281 [==============================] - 3s - loss: 0.0348 - acc: 0.9863 - val_loss: 0.1783 - val_acc: 0.9677\n",
      "Epoch 9/10\n",
      "3281/3281 [==============================] - 3s - loss: 0.0335 - acc: 0.9893 - val_loss: 0.1734 - val_acc: 0.9597\n",
      "Epoch 10/10\n",
      "3281/3281 [==============================] - 3s - loss: 0.0256 - acc: 0.9915 - val_loss: 0.1785 - val_acc: 0.9677\n"
     ]
    },
    {
     "data": {
      "text/plain": [
       "<keras.callbacks.History at 0x10a310b6358>"
      ]
     },
     "execution_count": 49,
     "metadata": {},
     "output_type": "execute_result"
    }
   ],
   "source": [
    "fc_model.optimizer.lr = 1e-4\n",
    "\n",
    "fc_model.fit(x = conv_feat,\n",
    "             y = train_labels,\n",
    "             batch_size = batch_size,\n",
    "             epochs = 10,\n",
    "             validation_data = (conv_valid_feat, valid_labels))"
   ]
  },
  {
   "cell_type": "markdown",
   "metadata": {
    "hidden": true
   },
   "source": [
    "Save the weights"
   ]
  },
  {
   "cell_type": "code",
   "execution_count": 50,
   "metadata": {
    "collapsed": true,
    "hidden": true
   },
   "outputs": [],
   "source": [
    "fc_model.save_weights(path + 'models/conv_512_1.h5')"
   ]
  },
  {
   "cell_type": "markdown",
   "metadata": {
    "hidden": true
   },
   "source": [
    "Load the weights"
   ]
  },
  {
   "cell_type": "code",
   "execution_count": 51,
   "metadata": {
    "collapsed": true,
    "hidden": true
   },
   "outputs": [],
   "source": [
    "fc_model.load_weights(path + 'models/conv_512_1.h5')"
   ]
  },
  {
   "cell_type": "markdown",
   "metadata": {
    "hidden": true
   },
   "source": [
    "Evaluate the model"
   ]
  },
  {
   "cell_type": "code",
   "execution_count": 52,
   "metadata": {
    "hidden": true
   },
   "outputs": [
    {
     "name": "stdout",
     "output_type": "stream",
     "text": [
      "496/496 [==============================] - 0s     \n"
     ]
    },
    {
     "data": {
      "text/plain": [
       "[0.1784500897023639, 0.967741935483871]"
      ]
     },
     "execution_count": 52,
     "metadata": {},
     "output_type": "execute_result"
    }
   ],
   "source": [
    "fc_model.evaluate(conv_valid_feat, valid_labels)"
   ]
  },
  {
   "cell_type": "markdown",
   "metadata": {
    "heading_collapsed": true
   },
   "source": [
    "## Multiple inputs"
   ]
  },
  {
   "cell_type": "markdown",
   "metadata": {
    "hidden": true
   },
   "source": [
    "The images are of different sizes, which are likely to represent the boat they came from (since different boats will use different cameras). Perhaps this creates some data leakage that we can take advantage of to get a better Kaggle leaderboard position? To find out, first we create arrays of the file sizes for each image."
   ]
  },
  {
   "cell_type": "code",
   "execution_count": 98,
   "metadata": {
    "collapsed": true,
    "hidden": true
   },
   "outputs": [],
   "source": [
    "sizes = [Image.open(path + 'train/' + f).size for f in filenames]\n",
    "\n",
    "id2size = list(set(sizes))\n",
    "size2id = {o:i for i,o in enumerate(id2size)}"
   ]
  },
  {
   "cell_type": "markdown",
   "metadata": {
    "hidden": true
   },
   "source": [
    "Let's see the aggregates"
   ]
  },
  {
   "cell_type": "code",
   "execution_count": 99,
   "metadata": {
    "hidden": true
   },
   "outputs": [
    {
     "data": {
      "text/plain": [
       "Counter({(1192, 670): 176,\n",
       "         (1244, 700): 21,\n",
       "         (1276, 718): 196,\n",
       "         (1280, 720): 1888,\n",
       "         (1280, 750): 522,\n",
       "         (1280, 924): 47,\n",
       "         (1280, 974): 343,\n",
       "         (1334, 750): 24,\n",
       "         (1518, 854): 33,\n",
       "         (1732, 974): 31})"
      ]
     },
     "execution_count": 99,
     "metadata": {},
     "output_type": "execute_result"
    }
   ],
   "source": [
    "Counter(sizes)"
   ]
  },
  {
   "cell_type": "markdown",
   "metadata": {
    "hidden": true
   },
   "source": [
    "Then we one-hot encode them (since we want to treat them as categorical) and normalize the data."
   ]
  },
  {
   "cell_type": "code",
   "execution_count": 100,
   "metadata": {
    "collapsed": true,
    "hidden": true
   },
   "outputs": [],
   "source": [
    "train_sizes_orig = to_categorical([size2id[o] for o in sizes], len(id2size))"
   ]
  },
  {
   "cell_type": "markdown",
   "metadata": {
    "hidden": true
   },
   "source": [
    "We then do the same for the validation set."
   ]
  },
  {
   "cell_type": "code",
   "execution_count": 101,
   "metadata": {
    "collapsed": true,
    "hidden": true
   },
   "outputs": [],
   "source": [
    "valid_sizes_raw = [Image.open(path + 'valid/' + f).size for f in valid_filenames]\n",
    "valid_sizes_orig = to_categorical([size2id[o] for o in valid_sizes_raw], len(id2size))"
   ]
  },
  {
   "cell_type": "markdown",
   "metadata": {
    "hidden": true
   },
   "source": [
    "And the validation aggregates"
   ]
  },
  {
   "cell_type": "code",
   "execution_count": 102,
   "metadata": {
    "hidden": true
   },
   "outputs": [
    {
     "data": {
      "text/plain": [
       "Counter({(1192, 670): 22,\n",
       "         (1244, 700): 6,\n",
       "         (1276, 718): 24,\n",
       "         (1280, 720): 286,\n",
       "         (1280, 750): 76,\n",
       "         (1280, 924): 13,\n",
       "         (1280, 974): 52,\n",
       "         (1334, 750): 7,\n",
       "         (1518, 854): 6,\n",
       "         (1732, 974): 4})"
      ]
     },
     "execution_count": 102,
     "metadata": {},
     "output_type": "execute_result"
    }
   ],
   "source": [
    "Counter(valid_sizes_raw)"
   ]
  },
  {
   "cell_type": "markdown",
   "metadata": {
    "hidden": true
   },
   "source": [
    "Finally we normalise both size data"
   ]
  },
  {
   "cell_type": "code",
   "execution_count": 103,
   "metadata": {
    "collapsed": true,
    "hidden": true
   },
   "outputs": [],
   "source": [
    "train_sizes = train_sizes_orig - train_sizes_orig.mean(axis = 0) / train_sizes_orig.std(axis = 0)\n",
    "valid_sizes = valid_sizes_orig - valid_sizes_orig.mean(axis = 0) / valid_sizes_orig.std(axis = 0)"
   ]
  },
  {
   "cell_type": "markdown",
   "metadata": {
    "hidden": true
   },
   "source": [
    "We then adjust the base line fc model to include separate data."
   ]
  },
  {
   "cell_type": "code",
   "execution_count": 15,
   "metadata": {
    "collapsed": true,
    "hidden": true
   },
   "outputs": [],
   "source": [
    "def batch_norm_model_ext(base_model, ext_data, p):\n",
    "    \n",
    "    image_input = Input(shape = base_model.layers[-1].output_shape[1:])\n",
    "    size_input = Input((len(ext_data),))\n",
    "    \n",
    "    size_layer = BatchNormalization()(size_input)\n",
    "    \n",
    "    pool_layer = MaxPooling2D()(image_input)\n",
    "    pool_layer = BatchNormalization()(pool_layer)\n",
    "        \n",
    "    flat_layer = Flatten()(pool_layer)\n",
    "        \n",
    "    dense_layer_1 = Dropout(p / 4)(flat_layer)\n",
    "    dense_layer_1 = Dense(512, activation = 'relu')(dense_layer_1)\n",
    "    dense_layer_2 = BatchNormalization()(dense_layer_1)\n",
    "    dense_layer_2 = Dropout(p)(dense_layer_2)\n",
    "    dense_layer_2 = Dense(512, activation = 'relu')(dense_layer_2)\n",
    "    dense_layer_3 = BatchNormalization()(dense_layer_2)\n",
    "    dense_layer_3 = Dropout(p / 2)(dense_layer_3)\n",
    "    \n",
    "    merge_layer = concatenate([dense_layer_3, size_layer])\n",
    "    \n",
    "    final_layer = Dense(8, activation = 'softmax')(merge_layer)\n",
    "    \n",
    "    model = Model(inputs = [image_input, size_input], outputs = final_layer)\n",
    "    \n",
    "    return model\n",
    "\n",
    "p = 0.6"
   ]
  },
  {
   "cell_type": "markdown",
   "metadata": {
    "hidden": true
   },
   "source": [
    "Define and compile model"
   ]
  },
  {
   "cell_type": "code",
   "execution_count": 24,
   "metadata": {
    "collapsed": true,
    "hidden": true
   },
   "outputs": [],
   "source": [
    "fc_model_ext = batch_norm_model_ext(vgg_conv, id2size, p)\n",
    "\n",
    "fc_model_ext.compile(Adam(lr = 0.001), loss = 'categorical_crossentropy', metrics = ['accuracy'])"
   ]
  },
  {
   "cell_type": "markdown",
   "metadata": {
    "hidden": true
   },
   "source": [
    "And then fit the model"
   ]
  },
  {
   "cell_type": "code",
   "execution_count": 25,
   "metadata": {
    "hidden": true
   },
   "outputs": [
    {
     "name": "stdout",
     "output_type": "stream",
     "text": [
      "Train on 3281 samples, validate on 496 samples\n",
      "Epoch 1/6\n",
      "3281/3281 [==============================] - 5s - loss: 1.1441 - acc: 0.6647 - val_loss: 0.4136 - val_acc: 0.9012\n",
      "Epoch 2/6\n",
      "3281/3281 [==============================] - 3s - loss: 0.3496 - acc: 0.8985 - val_loss: 0.1863 - val_acc: 0.9536\n",
      "Epoch 3/6\n",
      "3281/3281 [==============================] - 3s - loss: 0.1740 - acc: 0.9479 - val_loss: 0.1849 - val_acc: 0.95770.95 - ET - ETA: 0s - loss: 0.1694 - acc: 0.\n",
      "Epoch 4/6\n",
      "3281/3281 [==============================] - 3s - loss: 0.1319 - acc: 0.9622 - val_loss: 0.1547 - val_acc: 0.9516\n",
      "Epoch 5/6\n",
      "3281/3281 [==============================] - 3s - loss: 0.1051 - acc: 0.9701 - val_loss: 0.1892 - val_acc: 0.9577\n",
      "Epoch 6/6\n",
      "3281/3281 [==============================] - 3s - loss: 0.0892 - acc: 0.9741 - val_loss: 0.2057 - val_acc: 0.9536\n"
     ]
    },
    {
     "data": {
      "text/plain": [
       "<keras.callbacks.History at 0x17fed346fd0>"
      ]
     },
     "execution_count": 25,
     "metadata": {},
     "output_type": "execute_result"
    }
   ],
   "source": [
    "fc_model_ext.fit(x = [conv_feat, train_sizes],\n",
    "                 y = train_labels,\n",
    "                 batch_size = batch_size,\n",
    "                 epochs = 6,\n",
    "                 validation_data = ([conv_valid_feat, valid_sizes], valid_labels))"
   ]
  },
  {
   "cell_type": "markdown",
   "metadata": {
    "hidden": true
   },
   "source": [
    "Train the model with lower learning rate"
   ]
  },
  {
   "cell_type": "code",
   "execution_count": 26,
   "metadata": {
    "hidden": true
   },
   "outputs": [
    {
     "name": "stdout",
     "output_type": "stream",
     "text": [
      "Train on 3281 samples, validate on 496 samples\n",
      "Epoch 1/10\n",
      "3281/3281 [==============================] - 3s - loss: 0.0664 - acc: 0.9808 - val_loss: 0.2034 - val_acc: 0.9577\n",
      "Epoch 2/10\n",
      "3281/3281 [==============================] - 3s - loss: 0.0616 - acc: 0.9814 - val_loss: 0.1880 - val_acc: 0.9597\n",
      "Epoch 3/10\n",
      "3281/3281 [==============================] - 3s - loss: 0.0625 - acc: 0.9829 - val_loss: 0.1632 - val_acc: 0.9657\n",
      "Epoch 4/10\n",
      "3281/3281 [==============================] - 3s - loss: 0.0534 - acc: 0.9829 - val_loss: 0.1670 - val_acc: 0.9698\n",
      "Epoch 5/10\n",
      "3281/3281 [==============================] - 3s - loss: 0.0484 - acc: 0.9842 - val_loss: 0.2030 - val_acc: 0.9677loss: 0.0484 - acc: 0.\n",
      "Epoch 6/10\n",
      "3281/3281 [==============================] - 3s - loss: 0.0362 - acc: 0.9893 - val_loss: 0.1771 - val_acc: 0.9698\n",
      "Epoch 7/10\n",
      "3281/3281 [==============================] - 3s - loss: 0.0312 - acc: 0.9906 - val_loss: 0.1810 - val_acc: 0.9637\n",
      "Epoch 8/10\n",
      "3281/3281 [==============================] - 3s - loss: 0.0365 - acc: 0.9878 - val_loss: 0.2285 - val_acc: 0.9677\n",
      "Epoch 9/10\n",
      "3281/3281 [==============================] - 3s - loss: 0.0363 - acc: 0.9884 - val_loss: 0.1857 - val_acc: 0.9677\n",
      "Epoch 10/10\n",
      "3281/3281 [==============================] - 3s - loss: 0.0279 - acc: 0.9906 - val_loss: 0.1725 - val_acc: 0.9738\n"
     ]
    },
    {
     "data": {
      "text/plain": [
       "<keras.callbacks.History at 0x17d6e397e10>"
      ]
     },
     "execution_count": 26,
     "metadata": {},
     "output_type": "execute_result"
    }
   ],
   "source": [
    "fc_model_ext.optimizer.lr = 1e-4\n",
    "\n",
    "fc_model_ext.fit(x = [conv_feat, train_sizes],\n",
    "                 y = train_labels,\n",
    "                 batch_size = batch_size,\n",
    "                 epochs = 10,\n",
    "                 validation_data = ([conv_valid_feat, valid_sizes], valid_labels))"
   ]
  },
  {
   "cell_type": "markdown",
   "metadata": {
    "hidden": true
   },
   "source": [
    "The model did not show an improvement by using the leakage, other than in the early epochs. This is most likely because the information about what boat the picture came from is readily identified from the image itself, so the meta-data turned out not to add any additional information."
   ]
  },
  {
   "cell_type": "markdown",
   "metadata": {},
   "source": [
    "## Bounding boxes & multi output"
   ]
  },
  {
   "cell_type": "markdown",
   "metadata": {
    "heading_collapsed": true
   },
   "source": [
    "### Import / view bounding boxes\n",
    "\n",
    "A kaggle user has created bounding box annotations for each fish in each training set image. You can download them from [here](). We will see if we can utilize this additional information. First, we'll load in the data, and keep just the largest bounding box for each image. Start by getting the classes."
   ]
  },
  {
   "cell_type": "code",
   "execution_count": 41,
   "metadata": {
    "collapsed": true,
    "hidden": true
   },
   "outputs": [],
   "source": [
    "anno_classes = ['alb', 'bet', 'dol', 'lag', 'other', 'shark', 'yft']"
   ]
  },
  {
   "cell_type": "markdown",
   "metadata": {
    "hidden": true
   },
   "source": [
    "Define functions to get annotations."
   ]
  },
  {
   "cell_type": "code",
   "execution_count": 42,
   "metadata": {
    "collapsed": true,
    "hidden": true
   },
   "outputs": [],
   "source": [
    "def get_annotations():\n",
    "    \n",
    "    annot_urls = {\n",
    "        '5458/bet_labels.json': 'bd20591439b650f44b36b72a98d3ce27',\n",
    "        '5459/shark_labels.json': '94b1b3110ca58ff4788fb659eda7da90',\n",
    "        '5460/dol_labels.json': '91a25d29a29b7e8b8d7a8770355993de',\n",
    "        '5461/yft_labels.json': '9ef63caad8f076457d48a21986d81ddc',\n",
    "        '5462/alb_labels.json': '731c74d347748b5272042f0661dad37c',\n",
    "        '5463/lag_labels.json': '92d75d9218c3333ac31d74125f2b380a'\n",
    "    }\n",
    "    \n",
    "    cache_subdir = os.path.abspath(os.path.join(path, 'annos'))\n",
    "    url_prefix = 'https://kaggle2.blob.core.windows.net/forum-message-attachments/147157/'\n",
    "    \n",
    "    if not os.path.exists(cache_subdir):\n",
    "        os.makedirs(cache_subdir)\n",
    "    \n",
    "    for url_suffix, md5_hash in annot_urls.items():\n",
    "        fname = url_suffix.rsplit('/', 1)[-1]\n",
    "        get_file(fname, url_prefix + url_suffix, cache_subdir = cache_subdir, md5_hash = md5_hash)\n"
   ]
  },
  {
   "cell_type": "markdown",
   "metadata": {
    "collapsed": true,
    "hidden": true
   },
   "source": [
    "Get the actual annotations"
   ]
  },
  {
   "cell_type": "code",
   "execution_count": 43,
   "metadata": {
    "hidden": true
   },
   "outputs": [
    {
     "name": "stdout",
     "output_type": "stream",
     "text": [
      "Downloading data from https://kaggle2.blob.core.windows.net/forum-message-attachments/147157/5462/alb_labels.json\n",
      "606208/775061 [======================>.......] - ETA: 0sDownloading data from https://kaggle2.blob.core.windows.net/forum-message-attachments/147157/5463/lag_labels.json\n",
      "16384/30731 [==============>...............] - ETA: 0sDownloading data from https://kaggle2.blob.core.windows.net/forum-message-attachments/147157/5459/shark_labels.json\n",
      "49152/68097 [====================>.........] - ETA: 0sDownloading data from https://kaggle2.blob.core.windows.net/forum-message-attachments/147157/5461/yft_labels.json\n",
      "229376/284511 [=======================>......] - ETA: 0sDownloading data from https://kaggle2.blob.core.windows.net/forum-message-attachments/147157/5458/bet_labels.json\n",
      "32768/82471 [==========>...................] - ETA: 0sDownloading data from https://kaggle2.blob.core.windows.net/forum-message-attachments/147157/5460/dol_labels.json\n",
      "16384/41584 [==========>...................] - ETA: 0s"
     ]
    }
   ],
   "source": [
    "get_annotations()"
   ]
  },
  {
   "cell_type": "markdown",
   "metadata": {
    "hidden": true
   },
   "source": [
    "Get the smallest boxes"
   ]
  },
  {
   "cell_type": "code",
   "execution_count": 151,
   "metadata": {
    "collapsed": true,
    "hidden": true
   },
   "outputs": [],
   "source": [
    "bb_json = {}\n",
    "for c in anno_classes:\n",
    "    if c == 'other': continue # no annotation file for \"other\" class\n",
    "    j = json.load(open('{}annos/{}_labels.json'.format(path, c), 'r'))\n",
    "    for l in j:\n",
    "        if 'annotations' in l.keys() and len(l['annotations'])>0:\n",
    "            bb_json[l['filename'].split('/')[-1]] = sorted(\n",
    "                l['annotations'], key=lambda x: x['height']*x['width'])[-1]\n"
   ]
  },
  {
   "cell_type": "markdown",
   "metadata": {
    "hidden": true
   },
   "source": [
    "Examine an example"
   ]
  },
  {
   "cell_type": "code",
   "execution_count": 152,
   "metadata": {
    "hidden": true
   },
   "outputs": [
    {
     "data": {
      "text/plain": [
       "{'class': 'rect',\n",
       " 'height': 246.75000000000074,\n",
       " 'width': 432.8700000000013,\n",
       " 'x': 465.3000000000014,\n",
       " 'y': 496.32000000000147}"
      ]
     },
     "execution_count": 152,
     "metadata": {},
     "output_type": "execute_result"
    }
   ],
   "source": [
    "bb_json['img_04908.jpg']"
   ]
  },
  {
   "cell_type": "markdown",
   "metadata": {
    "hidden": true
   },
   "source": [
    "Map the boxes to files"
   ]
  },
  {
   "cell_type": "code",
   "execution_count": 153,
   "metadata": {
    "collapsed": true,
    "hidden": true
   },
   "outputs": [],
   "source": [
    "file2idx = {o:i for i, o in enumerate(raw_filenames)}\n",
    "val_file2idx = {o:i for i, o in enumerate(raw_valid_filenames)}"
   ]
  },
  {
   "cell_type": "markdown",
   "metadata": {
    "hidden": true
   },
   "source": [
    "For any images that have no annotations, we'll create an empty bounding box."
   ]
  },
  {
   "cell_type": "code",
   "execution_count": 154,
   "metadata": {
    "collapsed": true,
    "hidden": true
   },
   "outputs": [],
   "source": [
    "empty_bbox = {'height': 0., 'width': 0., 'x': 0., 'y': 0.}\n",
    "\n",
    "for f in [re.search(r'[^\\\\]+$', f).group(0) for f in raw_filenames]:\n",
    "    if not f in bb_json.keys(): bb_json[f] = empty_bbox\n",
    "for f in [re.search(r'[^\\\\]+$', f).group(0) for f in raw_valid_filenames]:\n",
    "    if not f in bb_json.keys(): bb_json[f] = empty_bbox"
   ]
  },
  {
   "cell_type": "markdown",
   "metadata": {
    "hidden": true
   },
   "source": [
    "Finally, we convert the dictionary into an array, and convert the coordinates to our resized 224x224 images."
   ]
  },
  {
   "cell_type": "code",
   "execution_count": 156,
   "metadata": {
    "collapsed": true,
    "hidden": true
   },
   "outputs": [],
   "source": [
    "bb_params = ['height', 'width', 'x', 'y']\n",
    "def convert_bb(bb, size):\n",
    "    bb = [bb[p] for p in bb_params]\n",
    "    conv_x = (224. / size[0])\n",
    "    conv_y = (224. / size[1])\n",
    "    bb[0] = bb[0] * conv_y\n",
    "    bb[1] = bb[1] * conv_x\n",
    "    bb[2] = max(bb[2] * conv_x, 0)\n",
    "    bb[3] = max(bb[3] * conv_y, 0)\n",
    "    \n",
    "    return bb"
   ]
  },
  {
   "cell_type": "markdown",
   "metadata": {
    "hidden": true
   },
   "source": [
    "And do the actual conversion"
   ]
  },
  {
   "cell_type": "code",
   "execution_count": 169,
   "metadata": {
    "collapsed": true,
    "hidden": true
   },
   "outputs": [],
   "source": [
    "train_bbox = np.stack([convert_bb(bb_json[re.search(r'[^\\\\]+$', f).group(0)], s) for f, s in zip(raw_filenames, sizes)],).astype(np.float32)\n",
    "valid_bbox = np.stack([convert_bb(bb_json[re.search(r'[^\\\\]+$', f).group(0)], s) for f, s in zip(raw_valid_filenames, valid_sizes_raw)]).astype(np.float32)"
   ]
  },
  {
   "cell_type": "markdown",
   "metadata": {
    "hidden": true
   },
   "source": [
    "Now we can check our work by drawing one of the annotations by defining some functions to show them."
   ]
  },
  {
   "cell_type": "code",
   "execution_count": 170,
   "metadata": {
    "collapsed": true,
    "hidden": true
   },
   "outputs": [],
   "source": [
    "def create_rect(bb, color = 'red'):\n",
    "    return plt.Rectangle((bb[2], bb[3]), bb[1], bb[0], color = color, fill = False, lw = 3)\n",
    "\n",
    "def show_bb(i):\n",
    "    \n",
    "    def to_plot(img):\n",
    "        return np.rollaxis(img, 0, 1).astype(np.uint8)\n",
    "    \n",
    "    bb = valid_bbox[i]\n",
    "    plt.imshow(to_plot(valid[i]))\n",
    "    plt.gca().add_patch(create_rect(bb))"
   ]
  },
  {
   "cell_type": "markdown",
   "metadata": {
    "hidden": true
   },
   "source": [
    "And drawing and example"
   ]
  },
  {
   "cell_type": "code",
   "execution_count": 171,
   "metadata": {
    "hidden": true
   },
   "outputs": [
    {
     "data": {
      "image/png": "[encoded data removed]",
      "text/plain": [
       "<matplotlib.figure.Figure at 0x17fee122ba8>"
      ]
     },
     "metadata": {},
     "output_type": "display_data"
    }
   ],
   "source": [
    "show_bb(0)"
   ]
  },
  {
   "cell_type": "markdown",
   "metadata": {
    "heading_collapsed": true
   },
   "source": [
    "### Create & train model"
   ]
  },
  {
   "cell_type": "markdown",
   "metadata": {
    "hidden": true
   },
   "source": [
    "Since we're not allowed (by the kaggle rules) to manually annotate the test set, we'll need to create a model that predicts the locations of the bounding box on each image. To do so, we create a model with multiple outputs: it will predict both the type of fish (the 'class'), and the 4 bounding box coordinates. We prefer this approach to only predicting the bounding box coordinates, since we hope that giving the model more context about what it's looking for will help it with both tasks."
   ]
  },
  {
   "cell_type": "code",
   "execution_count": 174,
   "metadata": {
    "collapsed": true,
    "hidden": true
   },
   "outputs": [],
   "source": [
    "def batch_norm_model_bb(base_model, p):\n",
    "    \n",
    "    inputs = Input(shape = base_model.layers[-1].output_shape[1:])\n",
    "    \n",
    "    pool_layer = MaxPooling2D()(inputs)\n",
    "    pool_layer = BatchNormalization()(pool_layer)\n",
    "        \n",
    "    flat_layer = Flatten()(pool_layer)\n",
    "        \n",
    "    dense_layer_1 = Dropout(p / 4)(flat_layer)\n",
    "    dense_layer_1 = Dense(512, activation = 'relu')(dense_layer_1)\n",
    "    dense_layer_2 = BatchNormalization()(dense_layer_1)\n",
    "    dense_layer_2 = Dropout(p)(dense_layer_2)\n",
    "    dense_layer_2 = Dense(512, activation = 'relu')(dense_layer_2)\n",
    "    dense_layer_3 = BatchNormalization()(dense_layer_2)\n",
    "    dense_layer_3 = Dropout(p / 2)(dense_layer_3)\n",
    "    \n",
    "    prediction_bb = Dense(4, name = 'bb')(dense_layer_3)\n",
    "    prediction_fish = Dense(8, activation = 'softmax', name = 'class')(dense_layer_3)\n",
    "    \n",
    "    model = Model(inputs = inputs, outputs = [prediction_bb, prediction_fish])\n",
    "    \n",
    "    return model\n",
    "\n",
    "p = 0.6"
   ]
  },
  {
   "cell_type": "markdown",
   "metadata": {
    "hidden": true
   },
   "source": [
    "Define and compile model"
   ]
  },
  {
   "cell_type": "code",
   "execution_count": 179,
   "metadata": {
    "collapsed": true,
    "hidden": true
   },
   "outputs": [],
   "source": [
    "fc_model_bb = batch_norm_model_bb(vgg_conv, p)\n",
    "\n",
    "fc_model_bb.compile(Adam(lr = 0.001), loss = ['mse','categorical_crossentropy'], metrics = ['accuracy'], loss_weights = [.001, 1.])"
   ]
  },
  {
   "cell_type": "markdown",
   "metadata": {
    "hidden": true
   },
   "source": [
    "And train the model"
   ]
  },
  {
   "cell_type": "code",
   "execution_count": 180,
   "metadata": {
    "hidden": true
   },
   "outputs": [
    {
     "name": "stdout",
     "output_type": "stream",
     "text": [
      "Train on 3281 samples, validate on 496 samples\n",
      "Epoch 1/6\n",
      "3281/3281 [==============================] - 5s - loss: 5.5288 - bb_loss: 4440.7432 - class_loss: 1.0881 - bb_acc: 0.3846 - class_acc: 0.6830 - val_loss: 4.4826 - val_bb_loss: 4090.9178 - val_class_loss: 0.3917 - val_bb_acc: 0.4940 - val_class_acc: 0.9032\n",
      "Epoch 2/6\n",
      "3281/3281 [==============================] - 3s - loss: 4.1830 - bb_loss: 3861.3110 - class_loss: 0.3217 - bb_acc: 0.4700 - class_acc: 0.9028 - val_loss: 3.4395 - val_bb_loss: 3240.1335 - val_class_loss: 0.1993 - val_bb_acc: 0.5060 - val_class_acc: 0.9577\n",
      "Epoch 3/6\n",
      "3281/3281 [==============================] - 3s - loss: 2.9361 - bb_loss: 2759.0266 - class_loss: 0.1770 - bb_acc: 0.5520 - class_acc: 0.9482 - val_loss: 2.2349 - val_bb_loss: 2058.0356 - val_class_loss: 0.1769 - val_bb_acc: 0.5544 - val_class_acc: 0.9556\n",
      "Epoch 4/6\n",
      "3281/3281 [==============================] - 3s - loss: 1.7227 - bb_loss: 1594.2802 - class_loss: 0.1284 - bb_acc: 0.6007 - class_acc: 0.9604 - val_loss: 1.2072 - val_bb_loss: 994.7549 - val_class_loss: 0.2124 - val_bb_acc: 0.6069 - val_class_acc: 0.9456\n",
      "Epoch 5/6\n",
      "3281/3281 [==============================] - 3s - loss: 0.8608 - bb_loss: 759.1310 - class_loss: 0.1017 - bb_acc: 0.6446 - class_acc: 0.9698 - val_loss: 0.6755 - val_bb_loss: 526.9755 - val_class_loss: 0.1486 - val_bb_acc: 0.6734 - val_class_acc: 0.9718\n",
      "Epoch 6/6\n",
      "3281/3281 [==============================] - 3s - loss: 0.5483 - bb_loss: 463.3983 - class_loss: 0.0849 - bb_acc: 0.6913 - class_acc: 0.9750 - val_loss: 0.6017 - val_bb_loss: 387.1715 - val_class_loss: 0.2145 - val_bb_acc: 0.7036 - val_class_acc: 0.9496\n"
     ]
    },
    {
     "data": {
      "text/plain": [
       "<keras.callbacks.History at 0x1825f52aeb8>"
      ]
     },
     "execution_count": 180,
     "metadata": {},
     "output_type": "execute_result"
    }
   ],
   "source": [
    "fc_model_bb.fit(x = conv_feat,\n",
    "                y = [train_bbox, train_labels],\n",
    "                batch_size = batch_size,\n",
    "                epochs = 6,\n",
    "                validation_data = (conv_valid_feat, [valid_bbox, valid_labels]))"
   ]
  },
  {
   "cell_type": "markdown",
   "metadata": {
    "hidden": true
   },
   "source": [
    "Lower the learning rate and train some more."
   ]
  },
  {
   "cell_type": "code",
   "execution_count": 181,
   "metadata": {
    "hidden": true
   },
   "outputs": [
    {
     "name": "stdout",
     "output_type": "stream",
     "text": [
      "Train on 3281 samples, validate on 496 samples\n",
      "Epoch 1/10\n",
      "3281/3281 [==============================] - 4s - loss: 0.4199 - bb_loss: 362.7165 - class_loss: 0.0572 - bb_acc: 0.6940 - class_acc: 0.9832 - val_loss: 0.4913 - val_bb_loss: 340.7363 - val_class_loss: 0.1506 - val_bb_acc: 0.7339 - val_class_acc: 0.9698\n",
      "Epoch 2/10\n",
      "3281/3281 [==============================] - 4s - loss: 0.3566 - bb_loss: 319.3402 - class_loss: 0.0372 - bb_acc: 0.7053 - class_acc: 0.9878 - val_loss: 0.5125 - val_bb_loss: 338.4867 - val_class_loss: 0.1740 - val_bb_acc: 0.6956 - val_class_acc: 0.9718\n",
      "Epoch 3/10\n",
      "3281/3281 [==============================] - 3s - loss: 0.3667 - bb_loss: 309.3537 - class_loss: 0.0574 - bb_acc: 0.7037 - class_acc: 0.9799 - val_loss: 0.4828 - val_bb_loss: 308.9791 - val_class_loss: 0.1738 - val_bb_acc: 0.6956 - val_class_acc: 0.9637\n",
      "Epoch 4/10\n",
      "3281/3281 [==============================] - 4s - loss: 0.3244 - bb_loss: 285.4017 - class_loss: 0.0390 - bb_acc: 0.6983 - class_acc: 0.9866 - val_loss: 0.4480 - val_bb_loss: 289.8660 - val_class_loss: 0.1582 - val_bb_acc: 0.6956 - val_class_acc: 0.9698\n",
      "Epoch 5/10\n",
      "3281/3281 [==============================] - 4s - loss: 0.3085 - bb_loss: 272.4088 - class_loss: 0.0361 - bb_acc: 0.7031 - class_acc: 0.9887 - val_loss: 0.4596 - val_bb_loss: 285.6095 - val_class_loss: 0.1740 - val_bb_acc: 0.7399 - val_class_acc: 0.9637\n",
      "Epoch 6/10\n",
      "3281/3281 [==============================] - 4s - loss: 0.2816 - bb_loss: 254.2848 - class_loss: 0.0273 - bb_acc: 0.7095 - class_acc: 0.9906 - val_loss: 0.4752 - val_bb_loss: 291.0945 - val_class_loss: 0.1841 - val_bb_acc: 0.7056 - val_class_acc: 0.9657\n",
      "Epoch 7/10\n",
      "3281/3281 [==============================] - 3s - loss: 0.2894 - bb_loss: 260.4474 - class_loss: 0.0289 - bb_acc: 0.7077 - class_acc: 0.9909 - val_loss: 0.4809 - val_bb_loss: 282.8776 - val_class_loss: 0.1980 - val_bb_acc: 0.7056 - val_class_acc: 0.9718\n",
      "Epoch 8/10\n",
      "3281/3281 [==============================] - 3s - loss: 0.2712 - bb_loss: 240.0676 - class_loss: 0.0311 - bb_acc: 0.7162 - class_acc: 0.9909 - val_loss: 0.4546 - val_bb_loss: 278.8811 - val_class_loss: 0.1758 - val_bb_acc: 0.7016 - val_class_acc: 0.9698\n",
      "Epoch 9/10\n",
      "3281/3281 [==============================] - 3s - loss: 0.2678 - bb_loss: 240.9159 - class_loss: 0.0269 - bb_acc: 0.7245 - class_acc: 0.9924 - val_loss: 0.4359 - val_bb_loss: 262.2325 - val_class_loss: 0.1737 - val_bb_acc: 0.7117 - val_class_acc: 0.9738\n",
      "Epoch 10/10\n",
      "3281/3281 [==============================] - 4s - loss: 0.2503 - bb_loss: 230.0549 - class_loss: 0.0203 - bb_acc: 0.7199 - class_acc: 0.9933 - val_loss: 0.4383 - val_bb_loss: 256.7199 - val_class_loss: 0.1816 - val_bb_acc: 0.7258 - val_class_acc: 0.9718\n"
     ]
    },
    {
     "data": {
      "text/plain": [
       "<keras.callbacks.History at 0x1825f58b438>"
      ]
     },
     "execution_count": 181,
     "metadata": {},
     "output_type": "execute_result"
    }
   ],
   "source": [
    "fc_model_bb.optimizer.lr = 1e-5\n",
    "\n",
    "fc_model_bb.fit(x = conv_feat,\n",
    "                y = [train_bbox, train_labels],\n",
    "                batch_size = batch_size,\n",
    "                epochs = 10,\n",
    "                validation_data = (conv_valid_feat, [valid_bbox, valid_labels]))"
   ]
  },
  {
   "cell_type": "markdown",
   "metadata": {
    "hidden": true
   },
   "source": [
    "Excitingly, it turned out that the classification model is much improved by giving it this additional task. Let's see how well the bounding box model did by taking a look at its output. First predict the output."
   ]
  },
  {
   "cell_type": "code",
   "execution_count": 184,
   "metadata": {
    "collapsed": true,
    "hidden": true
   },
   "outputs": [],
   "source": [
    "pred = fc_model_bb.predict(conv_valid_feat[0:10])"
   ]
  },
  {
   "cell_type": "markdown",
   "metadata": {
    "hidden": true
   },
   "source": [
    "Define function to plot rectancle"
   ]
  },
  {
   "cell_type": "code",
   "execution_count": 187,
   "metadata": {
    "collapsed": true,
    "hidden": true
   },
   "outputs": [],
   "source": [
    "def show_bb_pred(i):\n",
    "    \n",
    "    def to_plot(img):\n",
    "        return np.rollaxis(img, 0, 1).astype(np.uint8)\n",
    "    \n",
    "    bb = valid_bbox[i]\n",
    "    bb_pred = pred[0][i]\n",
    "    plt.figure(figsize=(6,6))\n",
    "    plt.imshow(to_plot(valid[i]))\n",
    "    ax=plt.gca()\n",
    "    ax.add_patch(create_rect(bb_pred, 'yellow'))\n",
    "    ax.add_patch(create_rect(bb))"
   ]
  },
  {
   "cell_type": "code",
   "execution_count": 188,
   "metadata": {
    "hidden": true
   },
   "outputs": [
    {
     "data": {
      "image/png": "[encoded data removed]",
      "text/plain": [
       "<matplotlib.figure.Figure at 0x182604e9828>"
      ]
     },
     "metadata": {},
     "output_type": "display_data"
    }
   ],
   "source": [
    "show_bb_pred(0)"
   ]
  },
  {
   "cell_type": "markdown",
   "metadata": {
    "hidden": true
   },
   "source": [
    "And evaluate the model"
   ]
  },
  {
   "cell_type": "code",
   "execution_count": 190,
   "metadata": {
    "hidden": true
   },
   "outputs": [
    {
     "name": "stdout",
     "output_type": "stream",
     "text": [
      "480/496 [============================>.] - ETA: 0s"
     ]
    },
    {
     "data": {
      "text/plain": [
       "[0.43833116850545328,\n",
       " 256.71991803569176,\n",
       " 0.18161123584873312,\n",
       " 0.72580645161290325,\n",
       " 0.97177419354838712]"
      ]
     },
     "execution_count": 190,
     "metadata": {},
     "output_type": "execute_result"
    }
   ],
   "source": [
    "fc_model_bb.evaluate(conv_valid_feat, [valid_bbox, valid_labels])"
   ]
  },
  {
   "cell_type": "markdown",
   "metadata": {
    "hidden": true
   },
   "source": [
    "Save weights of the model"
   ]
  },
  {
   "cell_type": "code",
   "execution_count": 192,
   "metadata": {
    "collapsed": true,
    "hidden": true
   },
   "outputs": [],
   "source": [
    "fc_model_bb.save_weights(path + 'models/bn_anno.h5')"
   ]
  },
  {
   "cell_type": "markdown",
   "metadata": {
    "hidden": true
   },
   "source": [
    "And load the weights"
   ]
  },
  {
   "cell_type": "code",
   "execution_count": 194,
   "metadata": {
    "collapsed": true,
    "hidden": true
   },
   "outputs": [],
   "source": [
    "fc_model_bb.load_weights(path + 'models/bn_anno.h5')"
   ]
  },
  {
   "cell_type": "markdown",
   "metadata": {},
   "source": [
    "## Larger Images"
   ]
  },
  {
   "cell_type": "markdown",
   "metadata": {
    "heading_collapsed": true
   },
   "source": [
    "### Set up data"
   ]
  },
  {
   "cell_type": "markdown",
   "metadata": {
    "hidden": true
   },
   "source": [
    "Let's see if we get better results if we use larger images. We'll use 640x360, since it's the same shape as the most common size we saw earlier (1280x720), without being too big."
   ]
  },
  {
   "cell_type": "code",
   "execution_count": null,
   "metadata": {
    "collapsed": true,
    "hidden": true
   },
   "outputs": [],
   "source": [
    "train = get_data(path + 'train', (360, 640))\n",
    "valid = get_data(path + 'valid', (360, 640))\n",
    "test_stg1 = get_data(path + 'test', (360, 640))\n",
    "test_stg2 = get_data(path + 'test_stg2', (360, 640))"
   ]
  },
  {
   "cell_type": "markdown",
   "metadata": {
    "hidden": true
   },
   "source": [
    "The image shows that things are much clearer at this size."
   ]
  },
  {
   "cell_type": "code",
   "execution_count": null,
   "metadata": {
    "collapsed": true,
    "hidden": true
   },
   "outputs": [],
   "source": [
    "plt.imshow(np.rollaxis(train[0], 0, 1).astype(np.uint8))"
   ]
  },
  {
   "cell_type": "markdown",
   "metadata": {
    "hidden": true
   },
   "source": [
    "Save the features"
   ]
  },
  {
   "cell_type": "code",
   "execution_count": null,
   "metadata": {
    "collapsed": true,
    "hidden": true
   },
   "outputs": [],
   "source": [
    "save_array(path + 'results/train_640.dat', train)\n",
    "save_array(path + 'results/valid_640.dat', valid)\n",
    "save_array(path + 'results/test_stg1_640.dat', test)\n",
    "save_array(path + 'results/test_stg2_640.dat', test)"
   ]
  },
  {
   "cell_type": "markdown",
   "metadata": {
    "hidden": true
   },
   "source": [
    "Load the features"
   ]
  },
  {
   "cell_type": "code",
   "execution_count": 12,
   "metadata": {
    "collapsed": true,
    "hidden": true
   },
   "outputs": [],
   "source": [
    "train = load_array(path + 'results/train_640.dat')\n",
    "valid = load_array(path + 'results/valid_640.dat')\n",
    "test_stg1 = load_array(path + 'results/test_stg1_640.dat')\n",
    "test_stg2 = load_array(path + 'results/test_stg2_640.dat')"
   ]
  },
  {
   "cell_type": "markdown",
   "metadata": {
    "hidden": true
   },
   "source": [
    "Sizes"
   ]
  },
  {
   "cell_type": "code",
   "execution_count": 8,
   "metadata": {
    "hidden": true
   },
   "outputs": [
    {
     "data": {
      "text/plain": [
       "((3281, 360, 640, 3), (496, 360, 640, 3))"
      ]
     },
     "execution_count": 8,
     "metadata": {},
     "output_type": "execute_result"
    }
   ],
   "source": [
    "train.shape, valid.shape"
   ]
  },
  {
   "cell_type": "markdown",
   "metadata": {
    "hidden": true
   },
   "source": [
    "We can now create our VGG model - we'll need to tell it we're not using the normal 224x224 images, which also means it won't include the fully connected layers (since they don't make sense for non-default sizes). We will also remove the last max pooling layer, since we don't want to throw away information yet."
   ]
  },
  {
   "cell_type": "code",
   "execution_count": 9,
   "metadata": {
    "hidden": true
   },
   "outputs": [
    {
     "data": {
      "text/plain": [
       "((None, 360, 640, 3), (None, 22, 40, 512))"
      ]
     },
     "execution_count": 9,
     "metadata": {},
     "output_type": "execute_result"
    }
   ],
   "source": [
    "vgg_640 = Vgg16(size = (360, 640), use_batchnorm = True)\n",
    "\n",
    "conv_layers, fc_layers = split_at(vgg_640.model, Conv2D)\n",
    "vgg_conv_640 = Sequential(conv_layers)\n",
    "\n",
    "# Check size\n",
    "vgg_conv_640.input_shape, vgg_conv_640.output_shape"
   ]
  },
  {
   "cell_type": "markdown",
   "metadata": {
    "hidden": true
   },
   "source": [
    "Precompute the features"
   ]
  },
  {
   "cell_type": "code",
   "execution_count": 13,
   "metadata": {
    "hidden": true
   },
   "outputs": [
    {
     "name": "stdout",
     "output_type": "stream",
     "text": [
      " 999/1000 [============================>.] - ETA: 0s"
     ]
    }
   ],
   "source": [
    "conv_valid_feat = vgg_conv_640.predict(valid, batch_size = 1, verbose = 1)\n",
    "conv_train_feat = vgg_conv_640.predict(train, batch_size = 1, verbose = 1)\n",
    "conv_test_feat_stg1 = vgg_conv_640.predict(test_stg1, batch_size = 1, verbose = 1)\n",
    "conv_test_feat_stg2 = vgg_conv_640.predict(test_stg2, batch_size = 1, verbose = 1)"
   ]
  },
  {
   "cell_type": "markdown",
   "metadata": {
    "hidden": true
   },
   "source": [
    "Save the features "
   ]
  },
  {
   "cell_type": "code",
   "execution_count": 14,
   "metadata": {
    "collapsed": true,
    "hidden": true
   },
   "outputs": [],
   "source": [
    "save_array(path + 'results/conv_valid_640.dat', conv_valid_feat)\n",
    "save_array(path + 'results/conv_train_640.dat', conv_train_feat)\n",
    "save_array(path + 'results/conv_test_640.dat', conv_test_feat_stg1)\n",
    "save_array(path + 'results/conv_test_640.dat', conv_test_feat_stg2)"
   ]
  },
  {
   "cell_type": "markdown",
   "metadata": {
    "hidden": true
   },
   "source": [
    "Load the features"
   ]
  },
  {
   "cell_type": "code",
   "execution_count": 15,
   "metadata": {
    "collapsed": true,
    "hidden": true
   },
   "outputs": [],
   "source": [
    "conv_valid_feat = load_array(path + 'results/conv_valid_640.dat')\n",
    "conv_train_feat = load_array(path + 'results/conv_train_640.dat')\n",
    "conv_test_feat_stg1 = load_array(path + 'results/conv_test_640.dat')\n",
    "conv_test_feat_stg2 = load_array(path + 'results/conv_test_640.dat')"
   ]
  },
  {
   "cell_type": "markdown",
   "metadata": {},
   "source": [
    "### Fully convolutional net (FCN)"
   ]
  },
  {
   "cell_type": "markdown",
   "metadata": {},
   "source": [
    "Since we're using a larger input, the output of the final convolutional layer is also larger. So we probably don't want to put a dense layer there - that would be a lot of parameters! Instead, let's use a fully convolutional net (FCN); this also has the benefit that they tend to generalize well, and also seems like a good fit for our problem (since the fish are a small part of the image)."
   ]
  },
  {
   "cell_type": "code",
   "execution_count": 16,
   "metadata": {
    "collapsed": true
   },
   "outputs": [],
   "source": [
    "def fully_convolutional_model(base_model, p):\n",
    "    \n",
    "    inputs = Input(shape = base_model.layers[-1].output_shape[1:])\n",
    "    \n",
    "    norm_layer = BatchNormalization()(inputs)\n",
    "    \n",
    "    conv_layer1 = Conv2D(128, kernel_size = (3, 3), activation='relu', padding = 'same')(norm_layer)\n",
    "    conv_layer1 = BatchNormalization()(conv_layer1)\n",
    "    conv_layer1 = MaxPooling2D()(conv_layer1)\n",
    "    \n",
    "    conv_layer2 = Conv2D(128, kernel_size = (3, 3), activation='relu', padding = 'same')(conv_layer1)\n",
    "    conv_layer2 = BatchNormalization()(conv_layer2)\n",
    "    conv_layer2 = MaxPooling2D()(conv_layer2)\n",
    "    \n",
    "    conv_layer3 = Conv2D(128, kernel_size = (3, 3), activation='relu', padding = 'same')(conv_layer2)\n",
    "    conv_layer3 = BatchNormalization()(conv_layer3)\n",
    "    conv_layer3 = MaxPooling2D((1, 2))(conv_layer3)\n",
    "    \n",
    "    conv_layer4 = Conv2D(8, kernel_size = (3, 3), activation='relu', padding = 'same')(conv_layer3)\n",
    "    conv_layer4 = BatchNormalization()(conv_layer4)\n",
    "    conv_layer4 = MaxPooling2D((1, 2))(conv_layer4)\n",
    "        \n",
    "    pool_layer = Dropout(p)(conv_layer4)\n",
    "    pool_layer = GlobalAveragePooling2D()(pool_layer)\n",
    "    pool_layer = Activation('softmax')(pool_layer)\n",
    "    \n",
    "    model = Model(inputs = inputs, outputs = pool_layer)\n",
    "    \n",
    "    return model\n",
    "\n",
    "p = 0\n",
    "\n",
    "batch_size = 16"
   ]
  },
  {
   "cell_type": "markdown",
   "metadata": {},
   "source": [
    "Define and compile model"
   ]
  },
  {
   "cell_type": "code",
   "execution_count": 19,
   "metadata": {},
   "outputs": [],
   "source": [
    "f_conv_model = fully_convolutional_model(vgg_conv_640, p)\n",
    "\n",
    "f_conv_model.compile(Adam(lr = 0.001), loss = 'categorical_crossentropy', metrics = ['accuracy'])"
   ]
  },
  {
   "cell_type": "markdown",
   "metadata": {},
   "source": [
    "And run training for some batches"
   ]
  },
  {
   "cell_type": "code",
   "execution_count": 22,
   "metadata": {},
   "outputs": [
    {
     "name": "stdout",
     "output_type": "stream",
     "text": [
      "Train on 3281 samples, validate on 496 samples\n",
      "Epoch 1/6\n",
      "3281/3281 [==============================] - 12s - loss: 0.8802 - acc: 0.7985 - val_loss: 1.0289 - val_acc: 0.8266\n",
      "Epoch 2/6\n",
      "3281/3281 [==============================] - 10s - loss: 0.3547 - acc: 0.9710 - val_loss: 0.4858 - val_acc: 0.9496\n",
      "Epoch 3/6\n",
      "3281/3281 [==============================] - 10s - loss: 0.2389 - acc: 0.9896 - val_loss: 0.2841 - val_acc: 0.9677\n",
      "Epoch 4/6\n",
      "3281/3281 [==============================] - 10s - loss: 0.1528 - acc: 0.9973 - val_loss: 0.2144 - val_acc: 0.9738\n",
      "Epoch 5/6\n",
      "3281/3281 [==============================] - 10s - loss: 0.1107 - acc: 0.9985 - val_loss: 0.1963 - val_acc: 0.9758\n",
      "Epoch 6/6\n",
      "3281/3281 [==============================] - 10s - loss: 0.0889 - acc: 0.9991 - val_loss: 0.1911 - val_acc: 0.9718\n"
     ]
    },
    {
     "data": {
      "text/plain": [
       "<keras.callbacks.History at 0x2416fba1ef0>"
      ]
     },
     "execution_count": 22,
     "metadata": {},
     "output_type": "execute_result"
    }
   ],
   "source": [
    "f_conv_model.fit(x = conv_train_feat,\n",
    "                 y = train_labels,\n",
    "                 batch_size = batch_size,\n",
    "                 epochs = 6,\n",
    "                 validation_data = (conv_valid_feat, valid_labels))"
   ]
  },
  {
   "cell_type": "markdown",
   "metadata": {},
   "source": [
    "Lower the learning rate and run again"
   ]
  },
  {
   "cell_type": "code",
   "execution_count": 23,
   "metadata": {},
   "outputs": [
    {
     "name": "stdout",
     "output_type": "stream",
     "text": [
      "Train on 3281 samples, validate on 496 samples\n",
      "Epoch 1/6\n",
      "3281/3281 [==============================] - 10s - loss: 0.0703 - acc: 0.9994 - val_loss: 0.1646 - val_acc: 0.9738\n",
      "Epoch 2/6\n",
      "3281/3281 [==============================] - 10s - loss: 0.0596 - acc: 0.9994 - val_loss: 0.1472 - val_acc: 0.9738\n",
      "Epoch 3/6\n",
      "3281/3281 [==============================] - 10s - loss: 0.0503 - acc: 0.9994 - val_loss: 0.1428 - val_acc: 0.9738\n",
      "Epoch 4/6\n",
      "3281/3281 [==============================] - 10s - loss: 0.0443 - acc: 0.9994 - val_loss: 0.1343 - val_acc: 0.9718\n",
      "Epoch 5/6\n",
      "3281/3281 [==============================] - 10s - loss: 0.0395 - acc: 0.9994 - val_loss: 0.1272 - val_acc: 0.9758\n",
      "Epoch 6/6\n",
      "3281/3281 [==============================] - 10s - loss: 0.0335 - acc: 0.9994 - val_loss: 0.1261 - val_acc: 0.9738\n"
     ]
    },
    {
     "data": {
      "text/plain": [
       "<keras.callbacks.History at 0x2416fbc64a8>"
      ]
     },
     "execution_count": 23,
     "metadata": {},
     "output_type": "execute_result"
    }
   ],
   "source": [
    "f_conv_model.optimizer.lr = 1e-5\n",
    "\n",
    "f_conv_model.fit(x = conv_train_feat,\n",
    "                 y = train_labels,\n",
    "                 batch_size = batch_size,\n",
    "                 epochs = 6,\n",
    "                 validation_data = (conv_valid_feat, valid_labels))"
   ]
  },
  {
   "cell_type": "markdown",
   "metadata": {},
   "source": [
    "Save the weights"
   ]
  },
  {
   "cell_type": "code",
   "execution_count": 25,
   "metadata": {
    "collapsed": true
   },
   "outputs": [],
   "source": [
    "f_conv_model.save_weights(path + 'models/lrg_nmp.h5')"
   ]
  },
  {
   "cell_type": "markdown",
   "metadata": {},
   "source": [
    "And load the weights"
   ]
  },
  {
   "cell_type": "code",
   "execution_count": 26,
   "metadata": {
    "collapsed": true
   },
   "outputs": [],
   "source": [
    "f_conv_model.load_weights(path + 'models/lrg_nmp.h5')"
   ]
  },
  {
   "cell_type": "markdown",
   "metadata": {},
   "source": [
    "Evaluate the model"
   ]
  },
  {
   "cell_type": "code",
   "execution_count": 28,
   "metadata": {},
   "outputs": [
    {
     "name": "stdout",
     "output_type": "stream",
     "text": [
      "496/496 [==============================] - 1s     \n"
     ]
    },
    {
     "data": {
      "text/plain": [
       "[0.12607049401248654, 0.97379032258064513]"
      ]
     },
     "execution_count": 28,
     "metadata": {},
     "output_type": "execute_result"
    }
   ],
   "source": [
    "f_conv_model.evaluate(conv_valid_feat, valid_labels)"
   ]
  },
  {
   "cell_type": "markdown",
   "metadata": {},
   "source": [
    "\n",
    "Another benefit of this kind of model is that the last convolutional layer has to learn to classify each part of the image (since there's only an average pooling layer after). Let's create a function that grabs the output of this layer (which is the 4th-last layer of our model)."
   ]
  },
  {
   "cell_type": "code",
   "execution_count": 94,
   "metadata": {},
   "outputs": [],
   "source": [
    "f = f_conv_model.layers\n",
    "conv_fn = K.function([f[0].input, K.learning_phase()], [f[-4].output])\n",
    "\n",
    "def get_cm(inp, label):\n",
    "    conv = conv_fn([inp, 0])[0][label, 0]\n",
    "    return scipy.misc.imresize(conv, (360, 640), interp = 'nearest')"
   ]
  },
  {
   "cell_type": "markdown",
   "metadata": {},
   "source": [
    "We have to add an extra dimension to our input since the CNN expects a 'batch' (even if it's just a batch of one).\n"
   ]
  },
  {
   "cell_type": "code",
   "execution_count": 98,
   "metadata": {},
   "outputs": [
    {
     "data": {
      "text/plain": [
       "array([ 0.95497507,  0.00601604,  0.00536758,  0.0048528 ,  0.0072917 ,\n",
       "        0.0060833 ,  0.00566039,  0.00975307], dtype=float32)"
      ]
     },
     "execution_count": 98,
     "metadata": {},
     "output_type": "execute_result"
    }
   ],
   "source": [
    "inp = np.expand_dims(conv_valid_feat[5], 0)\n",
    "np.round(f_conv_model.predict(inp)[0], 2)"
   ]
  },
  {
   "cell_type": "code",
   "execution_count": 96,
   "metadata": {},
   "outputs": [
    {
     "data": {
      "text/plain": [
       "<matplotlib.image.AxesImage at 0x241732ff710>"
      ]
     },
     "execution_count": 96,
     "metadata": {},
     "output_type": "execute_result"
    },
    {
     "data": {
      "image/png": "[encoded data removed]",
      "text/plain": [
       "<matplotlib.figure.Figure at 0x241732a8b70>"
      ]
     },
     "metadata": {},
     "output_type": "display_data"
    }
   ],
   "source": [
    "plt.imshow(to_plot(valid[5]))"
   ]
  },
  {
   "cell_type": "code",
   "execution_count": 99,
   "metadata": {},
   "outputs": [
    {
     "data": {
      "text/plain": [
       "array([[[[  0.        ,   2.51954484,   0.        , ...,   0.        ,\n",
       "            0.        ,   0.        ],\n",
       "         [  0.        ,   6.52926636,   0.        , ...,   0.        ,\n",
       "            0.        ,   0.        ],\n",
       "         [  3.25954771,   7.76200628,   0.        , ...,   0.        ,\n",
       "            0.        ,   0.        ],\n",
       "         ..., \n",
       "         [ 76.04510498,   0.        ,   0.        , ...,   0.        ,\n",
       "            0.        ,   0.        ],\n",
       "         [ 38.8033638 ,   5.98974943,   0.        , ...,   0.        ,\n",
       "            0.        ,   0.        ],\n",
       "         [  5.0835886 ,  15.07875919,   0.        , ...,   0.        ,\n",
       "            0.        ,   0.        ]],\n",
       "\n",
       "        [[  0.        ,   0.        ,   0.        , ...,   0.        ,\n",
       "            0.        ,   0.        ],\n",
       "         [  0.        ,   0.        ,   0.        , ...,   0.        ,\n",
       "            0.        ,   0.        ],\n",
       "         [  0.        ,   0.        ,   0.        , ...,   0.        ,\n",
       "            0.        ,   0.        ],\n",
       "         ..., \n",
       "         [ 48.56003189,  60.9655838 ,   0.        , ...,   0.        ,\n",
       "            0.        ,   0.        ],\n",
       "         [  9.99255276,  46.40316772,   0.        , ...,   0.        ,\n",
       "            0.        ,   0.        ],\n",
       "         [  0.        ,  18.47064972,   0.        , ...,   0.        ,\n",
       "            0.        ,   0.        ]],\n",
       "\n",
       "        [[  0.        ,   0.        ,   0.        , ...,   0.        ,\n",
       "            1.1832931 ,   0.        ],\n",
       "         [  0.        ,   0.        ,   0.        , ...,   0.        ,\n",
       "            0.        ,   0.        ],\n",
       "         [  0.        ,   0.        ,   0.        , ...,   0.        ,\n",
       "            0.        ,   0.        ],\n",
       "         ..., \n",
       "         [  0.        ,  18.18007469,   0.        , ...,   0.        ,\n",
       "            0.        ,   0.        ],\n",
       "         [  0.        ,   0.        ,   0.        , ...,   0.        ,\n",
       "            0.        ,   0.        ],\n",
       "         [  0.        ,   0.        ,   0.        , ...,   0.        ,\n",
       "            8.92866421,   0.        ]],\n",
       "\n",
       "        ..., \n",
       "        [[  0.        ,   0.        ,   0.        , ...,   0.        ,\n",
       "            0.        ,   0.        ],\n",
       "         [  0.        ,   0.        ,   0.        , ...,   0.        ,\n",
       "            0.        ,   0.        ],\n",
       "         [  0.        ,   0.        ,   0.        , ...,   0.        ,\n",
       "            0.        ,   0.        ],\n",
       "         ..., \n",
       "         [  0.        ,   0.        ,   0.        , ...,   0.        ,\n",
       "            1.74295115,   0.        ],\n",
       "         [  0.        ,   0.        ,   0.        , ...,   0.        ,\n",
       "            0.        ,   0.        ],\n",
       "         [  0.        ,   0.        ,   0.        , ...,   0.        ,\n",
       "            4.31361866,   0.        ]],\n",
       "\n",
       "        [[  0.        ,   0.        ,   0.        , ...,   0.        ,\n",
       "            0.        ,   0.        ],\n",
       "         [  0.        ,   0.        ,   0.        , ...,   0.        ,\n",
       "            0.        ,   0.        ],\n",
       "         [  0.        ,   0.        ,   0.        , ...,   0.        ,\n",
       "            0.        ,   0.        ],\n",
       "         ..., \n",
       "         [  0.        ,   2.20410705,   0.        , ...,   1.96625316,\n",
       "            0.        ,   0.        ],\n",
       "         [  0.        ,   0.        ,   0.        , ...,   0.        ,\n",
       "            0.        ,   0.        ],\n",
       "         [  0.        ,   0.        ,   0.        , ...,   0.57329619,\n",
       "            0.        ,   0.        ]],\n",
       "\n",
       "        [[ 15.19003296,   0.        ,   0.        , ...,   0.        ,\n",
       "            0.        ,   0.        ],\n",
       "         [ 12.79777622,   0.        ,   0.        , ...,   0.        ,\n",
       "            0.        ,   0.        ],\n",
       "         [  7.46542168,   0.        ,   0.        , ...,   0.        ,\n",
       "            0.        ,   0.        ],\n",
       "         ..., \n",
       "         [  0.        ,   9.02515507,   0.        , ...,   8.05050182,\n",
       "            0.        ,   0.        ],\n",
       "         [  0.        ,   0.        ,   0.        , ...,   0.        ,\n",
       "            0.        ,   0.        ],\n",
       "         [  0.        ,   0.        ,   0.        , ...,   0.77814466,\n",
       "            0.        ,   0.        ]]]], dtype=float32)"
      ]
     },
     "execution_count": 99,
     "metadata": {},
     "output_type": "execute_result"
    }
   ],
   "source": [
    "cm = get_cm(inp, 0)\n",
    "inp"
   ]
  },
  {
   "cell_type": "markdown",
   "metadata": {},
   "source": [
    "The heatmap shows that (at very low resolution) the model is finding the fish!"
   ]
  },
  {
   "cell_type": "code",
   "execution_count": 93,
   "metadata": {},
   "outputs": [
    {
     "data": {
      "text/plain": [
       "<matplotlib.image.AxesImage at 0x24173286438>"
      ]
     },
     "execution_count": 93,
     "metadata": {},
     "output_type": "execute_result"
    },
    {
     "data": {
      "image/png": "[encoded data removed]",
      "text/plain": [
       "<matplotlib.figure.Figure at 0x241731862e8>"
      ]
     },
     "metadata": {},
     "output_type": "display_data"
    }
   ],
   "source": [
    "plt.imshow(cm, cmap = \"cool\")"
   ]
  },
  {
   "cell_type": "code",
   "execution_count": null,
   "metadata": {
    "collapsed": true
   },
   "outputs": [],
   "source": []
  },
  {
   "cell_type": "code",
   "execution_count": null,
   "metadata": {
    "collapsed": true
   },
   "outputs": [],
   "source": []
  },
  {
   "cell_type": "code",
   "execution_count": null,
   "metadata": {
    "collapsed": true
   },
   "outputs": [],
   "source": []
  },
  {
   "cell_type": "code",
   "execution_count": null,
   "metadata": {
    "collapsed": true
   },
   "outputs": [],
   "source": []
  }
 ],
 "metadata": {
  "kernelspec": {
   "display_name": "Python 3",
   "language": "python",
   "name": "python3"
  },
  "language_info": {
   "codemirror_mode": {
    "name": "ipython",
    "version": 3
   },
   "file_extension": ".py",
   "mimetype": "text/x-python",
   "name": "python",
   "nbconvert_exporter": "python",
   "pygments_lexer": "ipython3",
   "version": "3.5.3"
  }
 },
 "nbformat": 4,
 "nbformat_minor": 2
}
