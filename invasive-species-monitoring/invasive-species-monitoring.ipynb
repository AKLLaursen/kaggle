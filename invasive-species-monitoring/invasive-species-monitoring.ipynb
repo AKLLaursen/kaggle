{
 "cells": [
  {
   "cell_type": "markdown",
   "metadata": {},
   "source": [
    "# Invasive Species Monitoring\n",
    "\n",
    "This notebook contains all work for the submission to the invasive species monitoring competion on Kaggle. The goal is first to see how far it is possible to get using a standard CNN. Aftervards pretrained models might be tested."
   ]
  },
  {
   "cell_type": "markdown",
   "metadata": {},
   "source": [
    "## Initial setup\n",
    "\n",
    "We start by importing libraries and setting up helper functions."
   ]
  },
  {
   "cell_type": "code",
   "execution_count": null,
   "metadata": {
    "collapsed": true
   },
   "outputs": [],
   "source": []
  },
  {
   "cell_type": "code",
   "execution_count": 24,
   "metadata": {
    "collapsed": false
   },
   "outputs": [],
   "source": [
    "import numpy as np\n",
    "import pandas as pd\n",
    "import os\n",
    "import sys\n",
    "\n",
    "from shutil import move\n",
    "\n",
    "from keras.preprocessing import image"
   ]
  },
  {
   "cell_type": "markdown",
   "metadata": {},
   "source": [
    "Set global variables"
   ]
  },
  {
   "cell_type": "code",
   "execution_count": 6,
   "metadata": {
    "collapsed": false
   },
   "outputs": [],
   "source": [
    "# Define home directory variable\n",
    "current_dir = os.getcwd()\n",
    "DATA_HOME_DIR = current_dir\n",
    "path = 'sample/'\n",
    "\n",
    "# Allow relative imports to directories above main\n",
    "sys.path.insert(1, os.path.join(sys.path[0], '..'))"
   ]
  },
  {
   "cell_type": "markdown",
   "metadata": {},
   "source": [
    "Define helper functions"
   ]
  },
  {
   "cell_type": "code",
   "execution_count": 9,
   "metadata": {
    "collapsed": false
   },
   "outputs": [],
   "source": [
    "def get_batches(path, gen = image.ImageDataGenerator(), shuffle = True,\n",
    "                batch_size = 8, class_mode = 'categorical',\n",
    "                target_size = (480, 640)):\n",
    "    \n",
    "    return gen.flow_from_directory(path, target_size = target_size,\n",
    "                                   class_mode = class_mode, shuffle = shuffle,\n",
    "                                   batch_size = batch_size)"
   ]
  },
  {
   "cell_type": "markdown",
   "metadata": {},
   "source": [
    "## Setup data\n",
    "\n",
    "We create the right folder structure for our data."
   ]
  },
  {
   "cell_type": "markdown",
   "metadata": {},
   "source": [
    "Start by making the folders currently missing."
   ]
  },
  {
   "cell_type": "code",
   "execution_count": 12,
   "metadata": {
    "collapsed": true
   },
   "outputs": [],
   "source": [
    "%mkdir -p train/0\n",
    "%mkdir -p train/1\n",
    "%mkdir -p valid/0\n",
    "%mkdir -p valid/1\n",
    "%mkdir -p test/unknown\n",
    "%mkdir models\n",
    "%mkdir results"
   ]
  },
  {
   "cell_type": "markdown",
   "metadata": {},
   "source": [
    "We need to identify the training images of each category, by reading from a .csv file."
   ]
  },
  {
   "cell_type": "code",
   "execution_count": 23,
   "metadata": {
    "collapsed": false
   },
   "outputs": [],
   "source": [
    "files = pd.read_csv('train_labels.csv')\n",
    "\n",
    "files['name'] = files['name'].apply(lambda x: str(x) + '.jpg')\n",
    "\n",
    "invasives = files[files['invasive'] == 1]['name'].tolist()\n",
    "not_invasives = files[files['invasive'] == 0]['name'].tolist()\n"
   ]
  },
  {
   "cell_type": "markdown",
   "metadata": {},
   "source": [
    "Then we move each file to their respective folders."
   ]
  },
  {
   "cell_type": "code",
   "execution_count": 31,
   "metadata": {
    "collapsed": true
   },
   "outputs": [],
   "source": [
    "for f in invasives:\n",
    "    move('train/' + f, 'train/1')"
   ]
  },
  {
   "cell_type": "code",
   "execution_count": 32,
   "metadata": {
    "collapsed": true
   },
   "outputs": [],
   "source": [
    "for f in not_invasives:\n",
    "    move('train/' + f, 'train/0')"
   ]
  },
  {
   "cell_type": "markdown",
   "metadata": {},
   "source": [
    "We then move/copy files to validation and sample folders respectively."
   ]
  },
  {
   "cell_type": "code",
   "execution_count": 33,
   "metadata": {
    "collapsed": false
   },
   "outputs": [
    {
     "name": "stdout",
     "output_type": "stream",
     "text": [
      "/home/ubuntu/kaggle/invasive-species-monitoring/train/0\n",
      "/home/ubuntu/kaggle/invasive-species-monitoring/train/1\n",
      "/home/ubuntu/kaggle/invasive-species-monitoring\n"
     ]
    }
   ],
   "source": [
    "%cd $DATA_HOME_DIR/train/0\n",
    "!shuf -n 170 -e * | xargs -i mv {} ~/kaggle/invasive-species-monitoring/valid/0\n",
    "\n",
    "%cd $DATA_HOME_DIR/train/1\n",
    "!shuf -n 290 -e * | xargs -i mv {} ~/kaggle/invasive-species-monitoring/valid/1\n",
    "\n",
    "%cd $DATA_HOME_DIR"
   ]
  },
  {
   "cell_type": "markdown",
   "metadata": {},
   "source": [
    "And we're all set."
   ]
  },
  {
   "cell_type": "markdown",
   "metadata": {},
   "source": [
    "## Simple linear model\n",
    "\n",
    "We start out by using a simple linear model so as to get a baseline prediction."
   ]
  },
  {
   "cell_type": "code",
   "execution_count": null,
   "metadata": {
    "collapsed": true
   },
   "outputs": [],
   "source": []
  }
 ],
 "metadata": {
  "anaconda-cloud": {},
  "kernelspec": {
   "display_name": "Python [conda root]",
   "language": "python",
   "name": "conda-root-py"
  },
  "language_info": {
   "codemirror_mode": {
    "name": "ipython",
    "version": 2
   },
   "file_extension": ".py",
   "mimetype": "text/x-python",
   "name": "python",
   "nbconvert_exporter": "python",
   "pygments_lexer": "ipython2",
   "version": "2.7.12"
  }
 },
 "nbformat": 4,
 "nbformat_minor": 1
}
