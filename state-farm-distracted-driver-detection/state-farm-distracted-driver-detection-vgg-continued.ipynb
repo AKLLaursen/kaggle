{
 "cells": [
  {
   "cell_type": "markdown",
   "metadata": {},
   "source": [
    "# State Farm Distracted Driver Detection - VGG16 Continued\n",
    "\n",
    "This notebook contains the final attempt at the Kaggle State Farm Distracted Driver Detection competition. The purpose is to train the best possible model, as well as testing the external vgg16, utils and plot libraries."
   ]
  },
  {
   "cell_type": "markdown",
   "metadata": {},
   "source": [
    "## Initial Setup\n",
    "\n",
    "Import libraries and functions for future use."
   ]
  },
  {
   "cell_type": "code",
   "execution_count": 1,
   "metadata": {
    "collapsed": true
   },
   "outputs": [],
   "source": [
    "# Plots displayed inline in notebook\n",
    "%matplotlib inline\n",
    "\n",
    "# Make Python 3 consistent\n",
    "from __future__ import print_function, division\n",
    "\n",
    "# Make help libraries available\n",
    "import sys\n",
    "\n",
    "sys.path.append('/home/ubuntu/personal-libraries')"
   ]
  },
  {
   "cell_type": "code",
   "execution_count": 64,
   "metadata": {
    "collapsed": false
   },
   "outputs": [],
   "source": [
    "import numpy as np\n",
    "import pandas as pd\n",
    "import gc\n",
    "\n",
    "from kerastools.vgg16 import Vgg16\n",
    "from kerastools.utils import get_batches, save_array, load_array, get_classes, do_clip\n",
    "\n",
    "from keras.models import Model, Sequential\n",
    "from keras.layers import Input, Dense, BatchNormalization, Flatten, Dropout\n",
    "from keras.layers.convolutional import MaxPooling2D\n",
    "from keras.optimizers import Adam\n",
    "from keras.metrics import categorical_crossentropy\n",
    "from keras.preprocessing import image"
   ]
  },
  {
   "cell_type": "markdown",
   "metadata": {
    "collapsed": true,
    "heading_collapsed": true
   },
   "source": [
    "## Define model\n",
    "\n",
    "We setup our initial VGG16 model"
   ]
  },
  {
   "cell_type": "code",
   "execution_count": 3,
   "metadata": {
    "collapsed": false,
    "hidden": true
   },
   "outputs": [
    {
     "name": "stdout",
     "output_type": "stream",
     "text": [
      "_________________________________________________________________\n",
      "Layer (type)                 Output Shape              Param #   \n",
      "=================================================================\n",
      "input_1 (InputLayer)         (None, 3, 224, 224)       0         \n",
      "_________________________________________________________________\n",
      "norm_layer (Lambda)          (None, 3, 224, 224)       0         \n",
      "_________________________________________________________________\n",
      "zero_padding2d_1 (ZeroPaddin (None, 3, 226, 226)       0         \n",
      "_________________________________________________________________\n",
      "conv_layer_1_0 (Conv2D)      (None, 64, 224, 224)      1792      \n",
      "_________________________________________________________________\n",
      "zero_padding2d_2 (ZeroPaddin (None, 64, 226, 226)      0         \n",
      "_________________________________________________________________\n",
      "conv_layer_1_1 (Conv2D)      (None, 64, 224, 224)      36928     \n",
      "_________________________________________________________________\n",
      "max_pooling2d_1 (MaxPooling2 (None, 64, 112, 112)      0         \n",
      "_________________________________________________________________\n",
      "zero_padding2d_3 (ZeroPaddin (None, 64, 114, 114)      0         \n",
      "_________________________________________________________________\n",
      "conv_layer_2_0 (Conv2D)      (None, 128, 112, 112)     73856     \n",
      "_________________________________________________________________\n",
      "zero_padding2d_4 (ZeroPaddin (None, 128, 114, 114)     0         \n",
      "_________________________________________________________________\n",
      "conv_layer_2_1 (Conv2D)      (None, 128, 112, 112)     147584    \n",
      "_________________________________________________________________\n",
      "max_pooling2d_2 (MaxPooling2 (None, 128, 56, 56)       0         \n",
      "_________________________________________________________________\n",
      "zero_padding2d_5 (ZeroPaddin (None, 128, 58, 58)       0         \n",
      "_________________________________________________________________\n",
      "conv_layer_3_0 (Conv2D)      (None, 256, 56, 56)       295168    \n",
      "_________________________________________________________________\n",
      "zero_padding2d_6 (ZeroPaddin (None, 256, 58, 58)       0         \n",
      "_________________________________________________________________\n",
      "conv_layer_3_1 (Conv2D)      (None, 256, 56, 56)       590080    \n",
      "_________________________________________________________________\n",
      "zero_padding2d_7 (ZeroPaddin (None, 256, 58, 58)       0         \n",
      "_________________________________________________________________\n",
      "conv_layer_3_2 (Conv2D)      (None, 256, 56, 56)       590080    \n",
      "_________________________________________________________________\n",
      "max_pooling2d_3 (MaxPooling2 (None, 256, 28, 28)       0         \n",
      "_________________________________________________________________\n",
      "zero_padding2d_8 (ZeroPaddin (None, 256, 30, 30)       0         \n",
      "_________________________________________________________________\n",
      "conv_layer_4_0 (Conv2D)      (None, 512, 28, 28)       1180160   \n",
      "_________________________________________________________________\n",
      "zero_padding2d_9 (ZeroPaddin (None, 512, 30, 30)       0         \n",
      "_________________________________________________________________\n",
      "conv_layer_4_1 (Conv2D)      (None, 512, 28, 28)       2359808   \n",
      "_________________________________________________________________\n",
      "zero_padding2d_10 (ZeroPaddi (None, 512, 30, 30)       0         \n",
      "_________________________________________________________________\n",
      "conv_layer_4_2 (Conv2D)      (None, 512, 28, 28)       2359808   \n",
      "_________________________________________________________________\n",
      "max_pooling2d_4 (MaxPooling2 (None, 512, 14, 14)       0         \n",
      "_________________________________________________________________\n",
      "zero_padding2d_11 (ZeroPaddi (None, 512, 16, 16)       0         \n",
      "_________________________________________________________________\n",
      "conv_layer_5_0 (Conv2D)      (None, 512, 14, 14)       2359808   \n",
      "_________________________________________________________________\n",
      "zero_padding2d_12 (ZeroPaddi (None, 512, 16, 16)       0         \n",
      "_________________________________________________________________\n",
      "conv_layer_5_1 (Conv2D)      (None, 512, 14, 14)       2359808   \n",
      "_________________________________________________________________\n",
      "zero_padding2d_13 (ZeroPaddi (None, 512, 16, 16)       0         \n",
      "_________________________________________________________________\n",
      "conv_layer_5_2 (Conv2D)      (None, 512, 14, 14)       2359808   \n",
      "_________________________________________________________________\n",
      "max_pooling2d_5 (MaxPooling2 (None, 512, 7, 7)         0         \n",
      "_________________________________________________________________\n",
      "flat_layer (Flatten)         (None, 25088)             0         \n",
      "_________________________________________________________________\n",
      "fc_layer_1 (Dense)           (None, 4096)              102764544 \n",
      "_________________________________________________________________\n",
      "dropout_1 (Dropout)          (None, 4096)              0         \n",
      "_________________________________________________________________\n",
      "fc_layer_2 (Dense)           (None, 4096)              16781312  \n",
      "_________________________________________________________________\n",
      "dropout_2 (Dropout)          (None, 4096)              0         \n",
      "_________________________________________________________________\n",
      "prediction (Dense)           (None, 1000)              4097000   \n",
      "=================================================================\n",
      "Total params: 138,357,544\n",
      "Trainable params: 138,357,544\n",
      "Non-trainable params: 0\n",
      "_________________________________________________________________\n"
     ]
    }
   ],
   "source": [
    "vgg = Vgg16()\n",
    "vgg.model.summary()"
   ]
  },
  {
   "cell_type": "markdown",
   "metadata": {
    "collapsed": true,
    "heading_collapsed": true
   },
   "source": [
    "## Setup batches\n",
    "\n",
    "We define out validation and training badges for modelling"
   ]
  },
  {
   "cell_type": "code",
   "execution_count": 4,
   "metadata": {
    "collapsed": false,
    "hidden": true
   },
   "outputs": [
    {
     "name": "stdout",
     "output_type": "stream",
     "text": [
      "Found 1000 images belonging to 10 classes.\n",
      "Found 100 images belonging to 10 classes.\n"
     ]
    }
   ],
   "source": [
    "batch_size = 32\n",
    "\n",
    "#path = ''\n",
    "path = 'sample/'\n",
    "\n",
    "train_batches = vgg.get_batches(path + 'train', batch_size = batch_size)\n",
    "val_batches = vgg.get_batches(path + 'valid', batch_size = batch_size, shuffle = False)"
   ]
  },
  {
   "cell_type": "markdown",
   "metadata": {
    "heading_collapsed": true
   },
   "source": [
    "## Finetune model - Sample\n",
    "\n",
    "We need to adjust the standard VGG model to our new input with 10 classes, so we finetune it."
   ]
  },
  {
   "cell_type": "code",
   "execution_count": 5,
   "metadata": {
    "collapsed": false,
    "hidden": true
   },
   "outputs": [
    {
     "name": "stdout",
     "output_type": "stream",
     "text": [
      "_________________________________________________________________\n",
      "Layer (type)                 Output Shape              Param #   \n",
      "=================================================================\n",
      "input_1 (InputLayer)         (None, 3, 224, 224)       0         \n",
      "_________________________________________________________________\n",
      "norm_layer (Lambda)          (None, 3, 224, 224)       0         \n",
      "_________________________________________________________________\n",
      "zero_padding2d_1 (ZeroPaddin (None, 3, 226, 226)       0         \n",
      "_________________________________________________________________\n",
      "conv_layer_1_0 (Conv2D)      (None, 64, 224, 224)      1792      \n",
      "_________________________________________________________________\n",
      "zero_padding2d_2 (ZeroPaddin (None, 64, 226, 226)      0         \n",
      "_________________________________________________________________\n",
      "conv_layer_1_1 (Conv2D)      (None, 64, 224, 224)      36928     \n",
      "_________________________________________________________________\n",
      "max_pooling2d_1 (MaxPooling2 (None, 64, 112, 112)      0         \n",
      "_________________________________________________________________\n",
      "zero_padding2d_3 (ZeroPaddin (None, 64, 114, 114)      0         \n",
      "_________________________________________________________________\n",
      "conv_layer_2_0 (Conv2D)      (None, 128, 112, 112)     73856     \n",
      "_________________________________________________________________\n",
      "zero_padding2d_4 (ZeroPaddin (None, 128, 114, 114)     0         \n",
      "_________________________________________________________________\n",
      "conv_layer_2_1 (Conv2D)      (None, 128, 112, 112)     147584    \n",
      "_________________________________________________________________\n",
      "max_pooling2d_2 (MaxPooling2 (None, 128, 56, 56)       0         \n",
      "_________________________________________________________________\n",
      "zero_padding2d_5 (ZeroPaddin (None, 128, 58, 58)       0         \n",
      "_________________________________________________________________\n",
      "conv_layer_3_0 (Conv2D)      (None, 256, 56, 56)       295168    \n",
      "_________________________________________________________________\n",
      "zero_padding2d_6 (ZeroPaddin (None, 256, 58, 58)       0         \n",
      "_________________________________________________________________\n",
      "conv_layer_3_1 (Conv2D)      (None, 256, 56, 56)       590080    \n",
      "_________________________________________________________________\n",
      "zero_padding2d_7 (ZeroPaddin (None, 256, 58, 58)       0         \n",
      "_________________________________________________________________\n",
      "conv_layer_3_2 (Conv2D)      (None, 256, 56, 56)       590080    \n",
      "_________________________________________________________________\n",
      "max_pooling2d_3 (MaxPooling2 (None, 256, 28, 28)       0         \n",
      "_________________________________________________________________\n",
      "zero_padding2d_8 (ZeroPaddin (None, 256, 30, 30)       0         \n",
      "_________________________________________________________________\n",
      "conv_layer_4_0 (Conv2D)      (None, 512, 28, 28)       1180160   \n",
      "_________________________________________________________________\n",
      "zero_padding2d_9 (ZeroPaddin (None, 512, 30, 30)       0         \n",
      "_________________________________________________________________\n",
      "conv_layer_4_1 (Conv2D)      (None, 512, 28, 28)       2359808   \n",
      "_________________________________________________________________\n",
      "zero_padding2d_10 (ZeroPaddi (None, 512, 30, 30)       0         \n",
      "_________________________________________________________________\n",
      "conv_layer_4_2 (Conv2D)      (None, 512, 28, 28)       2359808   \n",
      "_________________________________________________________________\n",
      "max_pooling2d_4 (MaxPooling2 (None, 512, 14, 14)       0         \n",
      "_________________________________________________________________\n",
      "zero_padding2d_11 (ZeroPaddi (None, 512, 16, 16)       0         \n",
      "_________________________________________________________________\n",
      "conv_layer_5_0 (Conv2D)      (None, 512, 14, 14)       2359808   \n",
      "_________________________________________________________________\n",
      "zero_padding2d_12 (ZeroPaddi (None, 512, 16, 16)       0         \n",
      "_________________________________________________________________\n",
      "conv_layer_5_1 (Conv2D)      (None, 512, 14, 14)       2359808   \n",
      "_________________________________________________________________\n",
      "zero_padding2d_13 (ZeroPaddi (None, 512, 16, 16)       0         \n",
      "_________________________________________________________________\n",
      "conv_layer_5_2 (Conv2D)      (None, 512, 14, 14)       2359808   \n",
      "_________________________________________________________________\n",
      "max_pooling2d_5 (MaxPooling2 (None, 512, 7, 7)         0         \n",
      "_________________________________________________________________\n",
      "flat_layer (Flatten)         (None, 25088)             0         \n",
      "_________________________________________________________________\n",
      "fc_layer_1 (Dense)           (None, 4096)              102764544 \n",
      "_________________________________________________________________\n",
      "dropout_1 (Dropout)          (None, 4096)              0         \n",
      "_________________________________________________________________\n",
      "fc_layer_2 (Dense)           (None, 4096)              16781312  \n",
      "_________________________________________________________________\n",
      "dropout_2 (Dropout)          (None, 4096)              0         \n",
      "_________________________________________________________________\n",
      "predictions (Dense)          (None, 10)                40970     \n",
      "=================================================================\n",
      "Total params: 134,301,514\n",
      "Trainable params: 40,970\n",
      "Non-trainable params: 134,260,544\n",
      "_________________________________________________________________\n"
     ]
    }
   ],
   "source": [
    "vgg.finetune(train_batches)\n",
    "vgg.model.summary()"
   ]
  },
  {
   "cell_type": "markdown",
   "metadata": {
    "hidden": true
   },
   "source": [
    "We train the model using the default learning rate of 0.001 for a single epoch"
   ]
  },
  {
   "cell_type": "code",
   "execution_count": 6,
   "metadata": {
    "collapsed": false,
    "hidden": true
   },
   "outputs": [
    {
     "name": "stdout",
     "output_type": "stream",
     "text": [
      "Epoch 1/1\n",
      "31/31 [==============================] - 26s - loss: 4.0402 - acc: 0.1583 - val_loss: 2.2574 - val_acc: 0.2396\n"
     ]
    }
   ],
   "source": [
    "vgg.fit_batch(train_batches, val_batches, 1)"
   ]
  },
  {
   "cell_type": "markdown",
   "metadata": {
    "hidden": true
   },
   "source": [
    "We see that the accuracy increases fine on the sample, so we increase the learning rate."
   ]
  },
  {
   "cell_type": "code",
   "execution_count": 8,
   "metadata": {
    "collapsed": false,
    "hidden": true
   },
   "outputs": [
    {
     "name": "stdout",
     "output_type": "stream",
     "text": [
      "Epoch 1/4\n",
      "31/31 [==============================] - 25s - loss: 2.8166 - acc: 0.2632 - val_loss: 1.8976 - val_acc: 0.3971\n",
      "Epoch 2/4\n",
      "31/31 [==============================] - 25s - loss: 2.2921 - acc: 0.3780 - val_loss: 1.6727 - val_acc: 0.3824\n",
      "Epoch 3/4\n",
      "31/31 [==============================] - 25s - loss: 2.0350 - acc: 0.4175 - val_loss: 1.4732 - val_acc: 0.4559\n",
      "Epoch 4/4\n",
      "31/31 [==============================] - 25s - loss: 1.8398 - acc: 0.4750 - val_loss: 1.2862 - val_acc: 0.6029\n"
     ]
    }
   ],
   "source": [
    "vgg.model.optimizer.lr = 0.1\n",
    "\n",
    "vgg.fit_batch(train_batches, val_batches, 4)"
   ]
  },
  {
   "cell_type": "markdown",
   "metadata": {
    "hidden": true
   },
   "source": [
    "It actually seems to be generalising nicely. We try 4 more epochs."
   ]
  },
  {
   "cell_type": "code",
   "execution_count": 9,
   "metadata": {
    "collapsed": false,
    "hidden": true
   },
   "outputs": [
    {
     "name": "stdout",
     "output_type": "stream",
     "text": [
      "Epoch 1/4\n",
      "31/31 [==============================] - 26s - loss: 1.5728 - acc: 0.5443 - val_loss: 1.4228 - val_acc: 0.4375\n",
      "Epoch 2/4\n",
      "31/31 [==============================] - 25s - loss: 1.6685 - acc: 0.5161 - val_loss: 1.8084 - val_acc: 0.3824\n",
      "Epoch 3/4\n",
      "31/31 [==============================] - 25s - loss: 1.6304 - acc: 0.5545 - val_loss: 1.6064 - val_acc: 0.4412\n",
      "Epoch 4/4\n",
      "31/31 [==============================] - 25s - loss: 1.2680 - acc: 0.6119 - val_loss: 1.0764 - val_acc: 0.6029\n"
     ]
    }
   ],
   "source": [
    "vgg.fit_batch(train_batches, val_batches, 4)"
   ]
  },
  {
   "cell_type": "markdown",
   "metadata": {
    "hidden": true
   },
   "source": [
    "Damn. Our valuation accuracy is destroyed. Try 4 more epochs with lower learning rate."
   ]
  },
  {
   "cell_type": "code",
   "execution_count": 10,
   "metadata": {
    "collapsed": false,
    "hidden": true
   },
   "outputs": [
    {
     "name": "stdout",
     "output_type": "stream",
     "text": [
      "Epoch 1/4\n",
      "31/31 [==============================] - 26s - loss: 1.3070 - acc: 0.6047 - val_loss: 1.2782 - val_acc: 0.5521\n",
      "Epoch 2/4\n",
      "31/31 [==============================] - 25s - loss: 1.1501 - acc: 0.6269 - val_loss: 1.1022 - val_acc: 0.6618\n",
      "Epoch 3/4\n",
      "31/31 [==============================] - 25s - loss: 1.1370 - acc: 0.6601 - val_loss: 1.6280 - val_acc: 0.4412\n",
      "Epoch 4/4\n",
      "31/31 [==============================] - 25s - loss: 1.2141 - acc: 0.6311 - val_loss: 0.9508 - val_acc: 0.6618\n"
     ]
    }
   ],
   "source": [
    "vgg.model.optimizer.lr = 0.001\n",
    "\n",
    "vgg.fit_batch(train_batches, val_batches, 4)"
   ]
  },
  {
   "cell_type": "markdown",
   "metadata": {
    "hidden": true
   },
   "source": [
    "Seems, this is as far as we can get on the sample data set. A pretty good base line in the area of 0.5"
   ]
  },
  {
   "cell_type": "markdown",
   "metadata": {
    "heading_collapsed": true
   },
   "source": [
    "## Finetune model - Full data\n",
    "\n",
    "We continue our finetuning on the full data set."
   ]
  },
  {
   "cell_type": "code",
   "execution_count": 13,
   "metadata": {
    "collapsed": false,
    "hidden": true
   },
   "outputs": [
    {
     "name": "stdout",
     "output_type": "stream",
     "text": [
      "Found 19624 images belonging to 10 classes.\n",
      "Found 2800 images belonging to 10 classes.\n"
     ]
    }
   ],
   "source": [
    "path = ''\n",
    "\n",
    "train_batches = vgg.get_batches(path + 'train', batch_size = batch_size)\n",
    "val_batches = vgg.get_batches(path + 'valid', batch_size = batch_size, shuffle = False)"
   ]
  },
  {
   "cell_type": "markdown",
   "metadata": {
    "hidden": true
   },
   "source": [
    "We start with a single epoch"
   ]
  },
  {
   "cell_type": "code",
   "execution_count": 14,
   "metadata": {
    "collapsed": false,
    "hidden": true
   },
   "outputs": [
    {
     "name": "stdout",
     "output_type": "stream",
     "text": [
      "Epoch 1/1\n",
      "613/613 [==============================] - 548s - loss: 1.2254 - acc: 0.6352 - val_loss: 1.4150 - val_acc: 0.5686\n"
     ]
    }
   ],
   "source": [
    "vgg.fit_batch(train_batches, val_batches, 1)"
   ]
  },
  {
   "cell_type": "markdown",
   "metadata": {
    "hidden": true
   },
   "source": [
    "We increase the learning rate and see, where that takes us."
   ]
  },
  {
   "cell_type": "code",
   "execution_count": 16,
   "metadata": {
    "collapsed": false,
    "hidden": true
   },
   "outputs": [
    {
     "name": "stdout",
     "output_type": "stream",
     "text": [
      "Epoch 1/4\n",
      "613/613 [==============================] - 544s - loss: 1.0154 - acc: 0.6959 - val_loss: 1.2824 - val_acc: 0.6004\n",
      "Epoch 2/4\n",
      "613/613 [==============================] - 544s - loss: 0.9906 - acc: 0.7109 - val_loss: 1.3605 - val_acc: 0.5737\n",
      "Epoch 3/4\n",
      "613/613 [==============================] - 545s - loss: 0.9601 - acc: 0.7237 - val_loss: 1.1499 - val_acc: 0.6413\n",
      "Epoch 4/4\n",
      "613/613 [==============================] - 545s - loss: 0.9860 - acc: 0.7249 - val_loss: 1.1938 - val_acc: 0.6301\n"
     ]
    }
   ],
   "source": [
    "vgg.model.optimizer.lr = 0.1\n",
    "\n",
    "vgg.fit_batch(train_batches, val_batches, 4)"
   ]
  },
  {
   "cell_type": "markdown",
   "metadata": {
    "hidden": true
   },
   "source": [
    "And then we lower the learning rate again, and see where we end up."
   ]
  },
  {
   "cell_type": "code",
   "execution_count": 17,
   "metadata": {
    "collapsed": false,
    "hidden": true
   },
   "outputs": [
    {
     "name": "stdout",
     "output_type": "stream",
     "text": [
      "Epoch 1/4\n",
      "613/613 [==============================] - 546s - loss: 0.9762 - acc: 0.7356 - val_loss: 1.4268 - val_acc: 0.5943\n",
      "Epoch 2/4\n",
      "613/613 [==============================] - 545s - loss: 0.9961 - acc: 0.7316 - val_loss: 1.2792 - val_acc: 0.6441\n",
      "Epoch 3/4\n",
      "613/613 [==============================] - 546s - loss: 0.9964 - acc: 0.7431 - val_loss: 1.3723 - val_acc: 0.6004\n",
      "Epoch 4/4\n",
      "613/613 [==============================] - 547s - loss: 0.9599 - acc: 0.7479 - val_loss: 1.7435 - val_acc: 0.5441\n"
     ]
    }
   ],
   "source": [
    "vgg.model.optimizer.lr = 0.001\n",
    "\n",
    "vgg.fit_batch(train_batches, val_batches, 4)"
   ]
  },
  {
   "cell_type": "markdown",
   "metadata": {
    "hidden": true
   },
   "source": [
    "The valuation accuracy is very fluctuating, and generally we are overfitting. Lets try and make more layers trainable and see, if that helps things along."
   ]
  },
  {
   "cell_type": "code",
   "execution_count": 19,
   "metadata": {
    "collapsed": false,
    "hidden": true
   },
   "outputs": [],
   "source": [
    "layers = vgg.model.layers\n",
    "# Get the index of the first dense layer...\n",
    "first_dense_idx = [index for index, layer in enumerate(layers) if type(layer) is Dense][0]\n",
    "# ...and set this and all subsequent layers to trainable\n",
    "for layer in layers[first_dense_idx:]: layer.trainable = True"
   ]
  },
  {
   "cell_type": "markdown",
   "metadata": {
    "hidden": true
   },
   "source": [
    "And then we rerun the training. First one epoch with low learning rate."
   ]
  },
  {
   "cell_type": "code",
   "execution_count": 21,
   "metadata": {
    "collapsed": false,
    "hidden": true
   },
   "outputs": [
    {
     "name": "stdout",
     "output_type": "stream",
     "text": [
      "Epoch 1/1\n",
      "613/613 [==============================] - 545s - loss: 0.9931 - acc: 0.7492 - val_loss: 1.1719 - val_acc: 0.6535\n"
     ]
    }
   ],
   "source": [
    "vgg.fit_batch(train_batches, val_batches, 1)"
   ]
  },
  {
   "cell_type": "markdown",
   "metadata": {
    "hidden": true
   },
   "source": [
    "Then four epochs with a higher learning rate."
   ]
  },
  {
   "cell_type": "code",
   "execution_count": 22,
   "metadata": {
    "collapsed": false,
    "hidden": true
   },
   "outputs": [
    {
     "name": "stdout",
     "output_type": "stream",
     "text": [
      "Epoch 1/4\n",
      "613/613 [==============================] - 547s - loss: 1.0058 - acc: 0.7514 - val_loss: 1.4089 - val_acc: 0.5968\n",
      "Epoch 2/4\n",
      "613/613 [==============================] - 546s - loss: 0.9926 - acc: 0.7521 - val_loss: 1.9295 - val_acc: 0.5303\n",
      "Epoch 3/4\n",
      "613/613 [==============================] - 546s - loss: 1.0180 - acc: 0.7499 - val_loss: 1.5204 - val_acc: 0.6160\n",
      "Epoch 4/4\n",
      "613/613 [==============================] - 546s - loss: 1.0084 - acc: 0.7563 - val_loss: 1.2607 - val_acc: 0.6694\n"
     ]
    }
   ],
   "source": [
    "vgg.model.optimizer.lr = 0.1\n",
    "\n",
    "vgg.fit_batch(train_batches, val_batches, 4)"
   ]
  },
  {
   "cell_type": "markdown",
   "metadata": {
    "hidden": true
   },
   "source": [
    "And then four epochs with a lower learning rate again."
   ]
  },
  {
   "cell_type": "code",
   "execution_count": 23,
   "metadata": {
    "collapsed": false,
    "hidden": true
   },
   "outputs": [
    {
     "name": "stdout",
     "output_type": "stream",
     "text": [
      "Epoch 1/4\n",
      "613/613 [==============================] - 546s - loss: 1.0034 - acc: 0.7575 - val_loss: 1.2772 - val_acc: 0.6694\n",
      "Epoch 2/4\n",
      "613/613 [==============================] - 545s - loss: 1.0078 - acc: 0.7573 - val_loss: 1.5594 - val_acc: 0.5842\n",
      "Epoch 3/4\n",
      "613/613 [==============================] - 545s - loss: 1.0057 - acc: 0.7608 - val_loss: 1.3791 - val_acc: 0.6199\n",
      "Epoch 4/4\n",
      "613/613 [==============================] - 545s - loss: 1.0109 - acc: 0.7602 - val_loss: 1.4240 - val_acc: 0.6311\n"
     ]
    }
   ],
   "source": [
    "vgg.model.optimizer.lr = 0.001\n",
    "\n",
    "vgg.fit_batch(train_batches, val_batches, 4)"
   ]
  },
  {
   "cell_type": "markdown",
   "metadata": {
    "hidden": true
   },
   "source": [
    "That did little to improve things. Let's try an even lower learning rate."
   ]
  },
  {
   "cell_type": "code",
   "execution_count": 24,
   "metadata": {
    "collapsed": false,
    "hidden": true
   },
   "outputs": [
    {
     "name": "stdout",
     "output_type": "stream",
     "text": [
      "Epoch 1/4\n",
      "613/613 [==============================] - 546s - loss: 1.0160 - acc: 0.7593 - val_loss: 1.6110 - val_acc: 0.6062\n",
      "Epoch 2/4\n",
      "613/613 [==============================] - 545s - loss: 1.0237 - acc: 0.7632 - val_loss: 1.1922 - val_acc: 0.6734\n",
      "Epoch 3/4\n",
      "613/613 [==============================] - 546s - loss: 1.0405 - acc: 0.7630 - val_loss: 1.6781 - val_acc: 0.5798\n",
      "Epoch 4/4\n",
      "613/613 [==============================] - 546s - loss: 1.0344 - acc: 0.7638 - val_loss: 1.5770 - val_acc: 0.6315\n"
     ]
    }
   ],
   "source": [
    "vgg.model.optimizer.lr = 0.00001\n",
    "\n",
    "vgg.fit_batch(train_batches, val_batches, 4)"
   ]
  },
  {
   "cell_type": "markdown",
   "metadata": {
    "hidden": true
   },
   "source": [
    "We're not improving at all. Let's save the weights and try a different approach."
   ]
  },
  {
   "cell_type": "code",
   "execution_count": 25,
   "metadata": {
    "collapsed": true,
    "hidden": true
   },
   "outputs": [],
   "source": [
    "vgg.model.save_weights('models/base_vgg16.h5')"
   ]
  },
  {
   "cell_type": "markdown",
   "metadata": {},
   "source": [
    "## Improved VGG\n",
    "\n",
    "We continue using the VGG16 network, but attempt to improve it. That is we want to keep the pretrained convolutional layers fixed, but use a new architecture for the dense layers.\n",
    "\n",
    "We start by defining a new VGG16() model."
   ]
  },
  {
   "cell_type": "code",
   "execution_count": 3,
   "metadata": {
    "collapsed": false
   },
   "outputs": [
    {
     "name": "stdout",
     "output_type": "stream",
     "text": [
      "_________________________________________________________________\n",
      "Layer (type)                 Output Shape              Param #   \n",
      "=================================================================\n",
      "input_1 (InputLayer)         (None, 3, 224, 224)       0         \n",
      "_________________________________________________________________\n",
      "norm_layer (Lambda)          (None, 3, 224, 224)       0         \n",
      "_________________________________________________________________\n",
      "zero_padding2d_1 (ZeroPaddin (None, 3, 226, 226)       0         \n",
      "_________________________________________________________________\n",
      "conv_layer_1_0 (Conv2D)      (None, 64, 224, 224)      1792      \n",
      "_________________________________________________________________\n",
      "zero_padding2d_2 (ZeroPaddin (None, 64, 226, 226)      0         \n",
      "_________________________________________________________________\n",
      "conv_layer_1_1 (Conv2D)      (None, 64, 224, 224)      36928     \n",
      "_________________________________________________________________\n",
      "max_pooling2d_1 (MaxPooling2 (None, 64, 112, 112)      0         \n",
      "_________________________________________________________________\n",
      "zero_padding2d_3 (ZeroPaddin (None, 64, 114, 114)      0         \n",
      "_________________________________________________________________\n",
      "conv_layer_2_0 (Conv2D)      (None, 128, 112, 112)     73856     \n",
      "_________________________________________________________________\n",
      "zero_padding2d_4 (ZeroPaddin (None, 128, 114, 114)     0         \n",
      "_________________________________________________________________\n",
      "conv_layer_2_1 (Conv2D)      (None, 128, 112, 112)     147584    \n",
      "_________________________________________________________________\n",
      "max_pooling2d_2 (MaxPooling2 (None, 128, 56, 56)       0         \n",
      "_________________________________________________________________\n",
      "zero_padding2d_5 (ZeroPaddin (None, 128, 58, 58)       0         \n",
      "_________________________________________________________________\n",
      "conv_layer_3_0 (Conv2D)      (None, 256, 56, 56)       295168    \n",
      "_________________________________________________________________\n",
      "zero_padding2d_6 (ZeroPaddin (None, 256, 58, 58)       0         \n",
      "_________________________________________________________________\n",
      "conv_layer_3_1 (Conv2D)      (None, 256, 56, 56)       590080    \n",
      "_________________________________________________________________\n",
      "zero_padding2d_7 (ZeroPaddin (None, 256, 58, 58)       0         \n",
      "_________________________________________________________________\n",
      "conv_layer_3_2 (Conv2D)      (None, 256, 56, 56)       590080    \n",
      "_________________________________________________________________\n",
      "max_pooling2d_3 (MaxPooling2 (None, 256, 28, 28)       0         \n",
      "_________________________________________________________________\n",
      "zero_padding2d_8 (ZeroPaddin (None, 256, 30, 30)       0         \n",
      "_________________________________________________________________\n",
      "conv_layer_4_0 (Conv2D)      (None, 512, 28, 28)       1180160   \n",
      "_________________________________________________________________\n",
      "zero_padding2d_9 (ZeroPaddin (None, 512, 30, 30)       0         \n",
      "_________________________________________________________________\n",
      "conv_layer_4_1 (Conv2D)      (None, 512, 28, 28)       2359808   \n",
      "_________________________________________________________________\n",
      "zero_padding2d_10 (ZeroPaddi (None, 512, 30, 30)       0         \n",
      "_________________________________________________________________\n",
      "conv_layer_4_2 (Conv2D)      (None, 512, 28, 28)       2359808   \n",
      "_________________________________________________________________\n",
      "max_pooling2d_4 (MaxPooling2 (None, 512, 14, 14)       0         \n",
      "_________________________________________________________________\n",
      "zero_padding2d_11 (ZeroPaddi (None, 512, 16, 16)       0         \n",
      "_________________________________________________________________\n",
      "conv_layer_5_0 (Conv2D)      (None, 512, 14, 14)       2359808   \n",
      "_________________________________________________________________\n",
      "zero_padding2d_12 (ZeroPaddi (None, 512, 16, 16)       0         \n",
      "_________________________________________________________________\n",
      "conv_layer_5_1 (Conv2D)      (None, 512, 14, 14)       2359808   \n",
      "_________________________________________________________________\n",
      "zero_padding2d_13 (ZeroPaddi (None, 512, 16, 16)       0         \n",
      "_________________________________________________________________\n",
      "conv_layer_5_2 (Conv2D)      (None, 512, 14, 14)       2359808   \n",
      "_________________________________________________________________\n",
      "max_pooling2d_5 (MaxPooling2 (None, 512, 7, 7)         0         \n",
      "_________________________________________________________________\n",
      "flat_layer (Flatten)         (None, 25088)             0         \n",
      "_________________________________________________________________\n",
      "fc_layer_1 (Dense)           (None, 4096)              102764544 \n",
      "_________________________________________________________________\n",
      "dropout_1 (Dropout)          (None, 4096)              0         \n",
      "_________________________________________________________________\n",
      "fc_layer_2 (Dense)           (None, 4096)              16781312  \n",
      "_________________________________________________________________\n",
      "dropout_2 (Dropout)          (None, 4096)              0         \n",
      "_________________________________________________________________\n",
      "prediction (Dense)           (None, 1000)              4097000   \n",
      "=================================================================\n",
      "Total params: 138,357,544\n",
      "Trainable params: 138,357,544\n",
      "Non-trainable params: 0\n",
      "_________________________________________________________________\n"
     ]
    }
   ],
   "source": [
    "vgg = Vgg16()\n",
    "vgg.model.summary()"
   ]
  },
  {
   "cell_type": "markdown",
   "metadata": {},
   "source": [
    "We then proceed to find the last max pooling layer of the model."
   ]
  },
  {
   "cell_type": "code",
   "execution_count": 4,
   "metadata": {
    "collapsed": false
   },
   "outputs": [],
   "source": [
    "# Define convolutional layers\n",
    "last_conv_idx = [i for i, l in enumerate(vgg.model.layers) if type(l) is MaxPooling2D][-1]\n",
    "conv_layers = vgg.model.layers[:last_conv_idx + 1]"
   ]
  },
  {
   "cell_type": "markdown",
   "metadata": {},
   "source": [
    "We can then define a model using only the convolutional layers."
   ]
  },
  {
   "cell_type": "code",
   "execution_count": 5,
   "metadata": {
    "collapsed": false
   },
   "outputs": [
    {
     "name": "stdout",
     "output_type": "stream",
     "text": [
      "_________________________________________________________________\n",
      "Layer (type)                 Output Shape              Param #   \n",
      "=================================================================\n",
      "input_1 (InputLayer)         (None, 3, 224, 224)       0         \n",
      "_________________________________________________________________\n",
      "norm_layer (Lambda)          (None, 3, 224, 224)       0         \n",
      "_________________________________________________________________\n",
      "zero_padding2d_1 (ZeroPaddin (None, 3, 226, 226)       0         \n",
      "_________________________________________________________________\n",
      "conv_layer_1_0 (Conv2D)      (None, 64, 224, 224)      1792      \n",
      "_________________________________________________________________\n",
      "zero_padding2d_2 (ZeroPaddin (None, 64, 226, 226)      0         \n",
      "_________________________________________________________________\n",
      "conv_layer_1_1 (Conv2D)      (None, 64, 224, 224)      36928     \n",
      "_________________________________________________________________\n",
      "max_pooling2d_1 (MaxPooling2 (None, 64, 112, 112)      0         \n",
      "_________________________________________________________________\n",
      "zero_padding2d_3 (ZeroPaddin (None, 64, 114, 114)      0         \n",
      "_________________________________________________________________\n",
      "conv_layer_2_0 (Conv2D)      (None, 128, 112, 112)     73856     \n",
      "_________________________________________________________________\n",
      "zero_padding2d_4 (ZeroPaddin (None, 128, 114, 114)     0         \n",
      "_________________________________________________________________\n",
      "conv_layer_2_1 (Conv2D)      (None, 128, 112, 112)     147584    \n",
      "_________________________________________________________________\n",
      "max_pooling2d_2 (MaxPooling2 (None, 128, 56, 56)       0         \n",
      "_________________________________________________________________\n",
      "zero_padding2d_5 (ZeroPaddin (None, 128, 58, 58)       0         \n",
      "_________________________________________________________________\n",
      "conv_layer_3_0 (Conv2D)      (None, 256, 56, 56)       295168    \n",
      "_________________________________________________________________\n",
      "zero_padding2d_6 (ZeroPaddin (None, 256, 58, 58)       0         \n",
      "_________________________________________________________________\n",
      "conv_layer_3_1 (Conv2D)      (None, 256, 56, 56)       590080    \n",
      "_________________________________________________________________\n",
      "zero_padding2d_7 (ZeroPaddin (None, 256, 58, 58)       0         \n",
      "_________________________________________________________________\n",
      "conv_layer_3_2 (Conv2D)      (None, 256, 56, 56)       590080    \n",
      "_________________________________________________________________\n",
      "max_pooling2d_3 (MaxPooling2 (None, 256, 28, 28)       0         \n",
      "_________________________________________________________________\n",
      "zero_padding2d_8 (ZeroPaddin (None, 256, 30, 30)       0         \n",
      "_________________________________________________________________\n",
      "conv_layer_4_0 (Conv2D)      (None, 512, 28, 28)       1180160   \n",
      "_________________________________________________________________\n",
      "zero_padding2d_9 (ZeroPaddin (None, 512, 30, 30)       0         \n",
      "_________________________________________________________________\n",
      "conv_layer_4_1 (Conv2D)      (None, 512, 28, 28)       2359808   \n",
      "_________________________________________________________________\n",
      "zero_padding2d_10 (ZeroPaddi (None, 512, 30, 30)       0         \n",
      "_________________________________________________________________\n",
      "conv_layer_4_2 (Conv2D)      (None, 512, 28, 28)       2359808   \n",
      "_________________________________________________________________\n",
      "max_pooling2d_4 (MaxPooling2 (None, 512, 14, 14)       0         \n",
      "_________________________________________________________________\n",
      "zero_padding2d_11 (ZeroPaddi (None, 512, 16, 16)       0         \n",
      "_________________________________________________________________\n",
      "conv_layer_5_0 (Conv2D)      (None, 512, 14, 14)       2359808   \n",
      "_________________________________________________________________\n",
      "zero_padding2d_12 (ZeroPaddi (None, 512, 16, 16)       0         \n",
      "_________________________________________________________________\n",
      "conv_layer_5_1 (Conv2D)      (None, 512, 14, 14)       2359808   \n",
      "_________________________________________________________________\n",
      "zero_padding2d_13 (ZeroPaddi (None, 512, 16, 16)       0         \n",
      "_________________________________________________________________\n",
      "conv_layer_5_2 (Conv2D)      (None, 512, 14, 14)       2359808   \n",
      "_________________________________________________________________\n",
      "max_pooling2d_5 (MaxPooling2 (None, 512, 7, 7)         0         \n",
      "=================================================================\n",
      "Total params: 14,714,688\n",
      "Trainable params: 14,714,688\n",
      "Non-trainable params: 0\n",
      "_________________________________________________________________\n"
     ]
    }
   ],
   "source": [
    "conv_model = Sequential(conv_layers)\n",
    "conv_model.summary()"
   ]
  },
  {
   "cell_type": "markdown",
   "metadata": {},
   "source": [
    "The idea is now, that we want to pre-computer all of our data through the convolutional layers. This will drastically reduce the training time, once we start experimenting with dense model architecture.\n",
    "\n",
    "We start by defining our batches."
   ]
  },
  {
   "cell_type": "code",
   "execution_count": 6,
   "metadata": {
    "collapsed": false
   },
   "outputs": [
    {
     "name": "stdout",
     "output_type": "stream",
     "text": [
      "Found 19624 images belonging to 10 classes.\n",
      "Found 2800 images belonging to 10 classes.\n",
      "Found 79726 images belonging to 1 classes.\n"
     ]
    }
   ],
   "source": [
    "path = ''\n",
    "\n",
    "train_batches = get_batches(path + 'train', batch_size = 44, target_size = (224, 224), shuffle = False)\n",
    "\n",
    "valid_batches = get_batches(path + 'valid', batch_size = 50, target_size = (224, 224), shuffle = False)\n",
    "\n",
    "test_batches = get_batches(path + 'test', batch_size = 2, target_size = (224, 224), shuffle = False, class_mode = None)"
   ]
  },
  {
   "cell_type": "markdown",
   "metadata": {},
   "source": [
    "We also extract labels and classes for each dataset."
   ]
  },
  {
   "cell_type": "code",
   "execution_count": 7,
   "metadata": {
    "collapsed": false
   },
   "outputs": [
    {
     "name": "stdout",
     "output_type": "stream",
     "text": [
      "Found 19624 images belonging to 10 classes.\n",
      "Found 2800 images belonging to 10 classes.\n",
      "Found 79726 images belonging to 1 classes.\n"
     ]
    }
   ],
   "source": [
    "(val_classes, trn_classes, val_labels, trn_labels, \n",
    " val_filenames, filenames, test_filenames) = get_classes(path)"
   ]
  },
  {
   "cell_type": "markdown",
   "metadata": {
    "collapsed": true
   },
   "source": [
    "We then pre-compute each of our datasets and save the numpy arrays. This eats a lot of memory on the poor AWS instance, so after each data computation, we do some cleanup to realease the memory. We save and load using bcolz, as it utilises great compression and does I/O very fast."
   ]
  },
  {
   "cell_type": "code",
   "execution_count": null,
   "metadata": {
    "collapsed": false
   },
   "outputs": [],
   "source": [
    "conv_feat = conv_model.predict_generator(train_batches, np.int(train_batches.samples / train_batches.batch_size))\n",
    "save_array(path + 'results/conv_computed/conv_feat.dat', conv_feat)\n",
    "\n",
    "del conv_feat\n",
    "gc.collect()"
   ]
  },
  {
   "cell_type": "code",
   "execution_count": 20,
   "metadata": {
    "collapsed": false
   },
   "outputs": [
    {
     "data": {
      "text/plain": [
       "0"
      ]
     },
     "execution_count": 20,
     "metadata": {},
     "output_type": "execute_result"
    }
   ],
   "source": [
    "conv_val_feat = conv_model.predict_generator(valid_batches, np.int(valid_batches.samples / valid_batches.batch_size))\n",
    "save_array(path + 'results/conv_computed/conv_val_feat.dat', conv_val_feat)\n",
    "\n",
    "del conv_val_feat\n",
    "gc.collect()"
   ]
  },
  {
   "cell_type": "code",
   "execution_count": 21,
   "metadata": {
    "collapsed": false
   },
   "outputs": [
    {
     "data": {
      "text/plain": [
       "0"
      ]
     },
     "execution_count": 21,
     "metadata": {},
     "output_type": "execute_result"
    }
   ],
   "source": [
    "conv_test_feat = conv_model.predict_generator(test_batches, np.int(test_batches.samples / test_batches.batch_size))\n",
    "save_array(path + 'results/conv_computed/conv_test_feat.dat', conv_test_feat)\n",
    "\n",
    "del conv_test_feat\n",
    "gc.collect()"
   ]
  },
  {
   "cell_type": "markdown",
   "metadata": {
    "collapsed": true
   },
   "source": [
    "And finally, we can load the three feature sets"
   ]
  },
  {
   "cell_type": "code",
   "execution_count": 8,
   "metadata": {
    "collapsed": true
   },
   "outputs": [],
   "source": [
    "conv_feat = load_array('results/conv_computed/conv_feat.dat')\n",
    "conv_val_feat = load_array('results/conv_computed/conv_val_feat.dat')\n",
    "conv_test_feat = load_array('results/conv_computed/conv_test_feat.dat')"
   ]
  },
  {
   "cell_type": "markdown",
   "metadata": {
    "heading_collapsed": true
   },
   "source": [
    "## VGG model with batchnorm dense laysers on pretrained conv layers\n",
    "\n",
    "Since we've pre-computed the output of the last convolutional layer, we need to create a network that takes that as input, and predicts our 10 classes. Let's try using a simplified version of VGG's dense layers."
   ]
  },
  {
   "cell_type": "code",
   "execution_count": 9,
   "metadata": {
    "collapsed": true,
    "hidden": true
   },
   "outputs": [],
   "source": [
    "def batch_norm_model(base_model, p):\n",
    "    \"\"\"\n",
    "    Function providing a more modern dense layer to the VGG16.\n",
    "    I.e. it utilizes batch normalisation.\n",
    "    \n",
    "    Args:\n",
    "        - base_model: A keras model object.\n",
    "        - p: Total level of dropout (will be devided by two in first layers)\n",
    "        \n",
    "    Returns:\n",
    "        - A keras model object ready to be compiled.\n",
    "    \"\"\"\n",
    "    \n",
    "    inputs = Input(shape = base_model[-1].output_shape[1:])\n",
    "        \n",
    "    flat_layer = Flatten()(inputs)\n",
    "        \n",
    "    dense_layer_1 = Dropout(p / 2)(flat_layer)\n",
    "    dense_layer_1 = Dense(128, activation='relu')(dense_layer_1)\n",
    "    dense_layer_2 = BatchNormalization()(dense_layer_1)\n",
    "    dense_layer_2 = Dropout(p / 2)(dense_layer_2)\n",
    "    dense_layer_2 = Dense(128, activation='relu')(dense_layer_2)\n",
    "    dense_layer_3 = BatchNormalization()(dense_layer_2)\n",
    "    dense_layer_3 = Dropout(p)(dense_layer_3)\n",
    "    dense_layer_3 = Dense(10, activation='softmax')(dense_layer_3)\n",
    "    \n",
    "    model = Model(inputs = inputs, outputs = dense_layer_3)\n",
    "    \n",
    "    return model\n",
    "\n",
    "# Set level of dropout\n",
    "p = 0.8\n",
    "\n",
    "# Set batch size\n",
    "batch_size = 32"
   ]
  },
  {
   "cell_type": "markdown",
   "metadata": {
    "hidden": true
   },
   "source": [
    "Lets define and compile the model. We run a single epoch on the default learning rate."
   ]
  },
  {
   "cell_type": "code",
   "execution_count": 14,
   "metadata": {
    "collapsed": false,
    "hidden": true
   },
   "outputs": [
    {
     "name": "stdout",
     "output_type": "stream",
     "text": [
      "Train on 19624 samples, validate on 2800 samples\n",
      "Epoch 1/1\n",
      "19624/19624 [==============================] - 8s - loss: 1.4120 - acc: 0.6059 - val_loss: 0.6459 - val_acc: 0.8146\n"
     ]
    },
    {
     "data": {
      "text/plain": [
       "<keras.callbacks.History at 0x7f769c271550>"
      ]
     },
     "execution_count": 14,
     "metadata": {},
     "output_type": "execute_result"
    }
   ],
   "source": [
    "bn_model = batch_norm_model(conv_layers, p)\n",
    "\n",
    "bn_model.compile(optimizer = Adam(lr = 0.001),\n",
    "                 loss = 'categorical_crossentropy',\n",
    "                 metrics = ['accuracy'])\n",
    "\n",
    "bn_model.fit(x = conv_feat,\n",
    "             y = trn_labels,\n",
    "             batch_size = batch_size,\n",
    "             epochs = 1,\n",
    "             validation_data = (conv_val_feat, val_labels))"
   ]
  },
  {
   "cell_type": "markdown",
   "metadata": {
    "hidden": true
   },
   "source": [
    "So very fast(!), we see a major improvement over the base VGG16 model. Lets continue running for a few more epochs at a lower learning rate."
   ]
  },
  {
   "cell_type": "code",
   "execution_count": 15,
   "metadata": {
    "collapsed": false,
    "hidden": true
   },
   "outputs": [
    {
     "name": "stdout",
     "output_type": "stream",
     "text": [
      "Train on 19624 samples, validate on 2800 samples\n",
      "Epoch 1/4\n",
      "19624/19624 [==============================] - 8s - loss: 0.2527 - acc: 0.9235 - val_loss: 0.5918 - val_acc: 0.7843\n",
      "Epoch 2/4\n",
      "19624/19624 [==============================] - 8s - loss: 0.1348 - acc: 0.9615 - val_loss: 0.5954 - val_acc: 0.7939\n",
      "Epoch 3/4\n",
      "19624/19624 [==============================] - 8s - loss: 0.0932 - acc: 0.9732 - val_loss: 0.7723 - val_acc: 0.7707\n",
      "Epoch 4/4\n",
      "19624/19624 [==============================] - 8s - loss: 0.0766 - acc: 0.9784 - val_loss: 0.6379 - val_acc: 0.8000\n"
     ]
    },
    {
     "data": {
      "text/plain": [
       "<keras.callbacks.History at 0x7f769c271d50>"
      ]
     },
     "execution_count": 15,
     "metadata": {},
     "output_type": "execute_result"
    }
   ],
   "source": [
    "bn_model.optimizer.lr = 0.0001\n",
    "\n",
    "bn_model.fit(x = conv_feat,\n",
    "             y = trn_labels,\n",
    "             batch_size = batch_size,\n",
    "             epochs = 4,\n",
    "             validation_data = (conv_val_feat, val_labels))"
   ]
  },
  {
   "cell_type": "markdown",
   "metadata": {
    "hidden": true
   },
   "source": [
    "So we are starting to overfit quite a bit. We have pretty much done as much as we could with the base model, in terms of regularisation. We have added dropout and batchnorm. Time to take a look and see if we can improve the input to the model."
   ]
  },
  {
   "cell_type": "markdown",
   "metadata": {
    "heading_collapsed": true
   },
   "source": [
    "## VGG model with precomputed augmentation and dropout.\n",
    "\n",
    "We precompute some augmented data in order to reduce the overfitting of out model. We start by setting the level of preprocessing and then define a new bunch of batches."
   ]
  },
  {
   "cell_type": "code",
   "execution_count": 10,
   "metadata": {
    "collapsed": false,
    "hidden": true
   },
   "outputs": [
    {
     "name": "stdout",
     "output_type": "stream",
     "text": [
      "Found 19624 images belonging to 10 classes.\n"
     ]
    }
   ],
   "source": [
    "gen_t = image.ImageDataGenerator(rotation_range = 15,\n",
    "                                 height_shift_range = 0.05,\n",
    "                                 shear_range = 0.1,\n",
    "                                 channel_shift_range = 20,\n",
    "                                 width_shift_range = 0.1)\n",
    "\n",
    "da_batches = get_batches(path + 'train',\n",
    "                         gen_t,\n",
    "                         batch_size = 44,\n",
    "                         shuffle = False,\n",
    "                         target_size = (224, 224))"
   ]
  },
  {
   "cell_type": "markdown",
   "metadata": {
    "hidden": true
   },
   "source": [
    "We then make 5 full cycles (epochs) of the training data, precomputing the convolutional layer on the augmented images."
   ]
  },
  {
   "cell_type": "code",
   "execution_count": 18,
   "metadata": {
    "collapsed": false,
    "hidden": true
   },
   "outputs": [
    {
     "data": {
      "text/plain": [
       "359"
      ]
     },
     "execution_count": 18,
     "metadata": {},
     "output_type": "execute_result"
    }
   ],
   "source": [
    "da_conv_feat = conv_model.predict_generator(da_batches, np.int(da_batches.samples / da_batches.batch_size) * 5)\n",
    "save_array(path + 'results/conv_computed/da_conv_feat.dat', da_conv_feat)\n",
    "\n",
    "del da_conv_feat\n",
    "gc.collect()"
   ]
  },
  {
   "cell_type": "markdown",
   "metadata": {
    "hidden": true
   },
   "source": [
    "We can then load the pre-compuited and augmented data."
   ]
  },
  {
   "cell_type": "code",
   "execution_count": 11,
   "metadata": {
    "collapsed": true,
    "hidden": true
   },
   "outputs": [],
   "source": [
    "da_conv_feat = load_array(path + 'results/conv_computed/da_conv_feat.dat')"
   ]
  },
  {
   "cell_type": "markdown",
   "metadata": {
    "hidden": true
   },
   "source": [
    "And then concatenate it with our existing precomputed training data."
   ]
  },
  {
   "cell_type": "code",
   "execution_count": 12,
   "metadata": {
    "collapsed": true,
    "hidden": true
   },
   "outputs": [],
   "source": [
    "da_conv_feat = np.concatenate([da_conv_feat, conv_feat])"
   ]
  },
  {
   "cell_type": "markdown",
   "metadata": {
    "hidden": true
   },
   "source": [
    "We now have 6 times as many features, but luckily order is preserved, so we can just multiply the labels with 6."
   ]
  },
  {
   "cell_type": "code",
   "execution_count": 14,
   "metadata": {
    "collapsed": true,
    "hidden": true
   },
   "outputs": [],
   "source": [
    "da_trn_labels = np.concatenate([trn_labels] * 6)"
   ]
  },
  {
   "cell_type": "markdown",
   "metadata": {
    "hidden": true
   },
   "source": [
    "We can then run the model again, but we try use use bigger dense layers and some more dropout."
   ]
  },
  {
   "cell_type": "code",
   "execution_count": 13,
   "metadata": {
    "collapsed": true,
    "hidden": true
   },
   "outputs": [],
   "source": [
    "def batch_norm_model_bigger(base_model, p):\n",
    "    \n",
    "    inputs = Input(shape = base_model[-1].output_shape[1:])\n",
    "        \n",
    "    flat_layer = Flatten()(inputs)\n",
    "        \n",
    "    dense_layer_1 = Dropout(p)(flat_layer)\n",
    "    dense_layer_1 = Dense(256, activation='relu')(dense_layer_1)\n",
    "    dense_layer_2 = BatchNormalization()(dense_layer_1)\n",
    "    dense_layer_2 = Dropout(p)(dense_layer_2)\n",
    "    dense_layer_2 = Dense(256, activation='relu')(dense_layer_2)\n",
    "    dense_layer_3 = BatchNormalization()(dense_layer_2)\n",
    "    dense_layer_3 = Dropout(p)(dense_layer_3)\n",
    "    dense_layer_3 = Dense(10, activation='softmax')(dense_layer_3)\n",
    "    \n",
    "    model = Model(inputs = inputs, outputs = dense_layer_3)\n",
    "    \n",
    "    return model\n",
    "\n",
    "# Define level of dropout\n",
    "p = 0.8\n",
    "\n",
    "# Define batch size\n",
    "batch_size = 32"
   ]
  },
  {
   "cell_type": "markdown",
   "metadata": {
    "hidden": true
   },
   "source": [
    "Re then compile the model, and run it for a single epoch on the augmented data at the defulat learning rate."
   ]
  },
  {
   "cell_type": "code",
   "execution_count": 17,
   "metadata": {
    "collapsed": false,
    "hidden": true
   },
   "outputs": [
    {
     "name": "stdout",
     "output_type": "stream",
     "text": [
      "Train on 117744 samples, validate on 2800 samples\n",
      "Epoch 1/1\n",
      "117744/117744 [==============================] - 50s - loss: 1.4990 - acc: 0.5158 - val_loss: 0.5592 - val_acc: 0.8286\n"
     ]
    },
    {
     "data": {
      "text/plain": [
       "<keras.callbacks.History at 0x7f1cccc72690>"
      ]
     },
     "execution_count": 17,
     "metadata": {},
     "output_type": "execute_result"
    }
   ],
   "source": [
    "bn_model_bigger = batch_norm_model_bigger(conv_layers, p)\n",
    "\n",
    "bn_model_bigger.compile(optimizer = Adam(lr = 0.001),\n",
    "                        loss = 'categorical_crossentropy',\n",
    "                        metrics = ['accuracy'])\n",
    "\n",
    "bn_model_bigger.fit(x = da_conv_feat,\n",
    "                    y = da_trn_labels,\n",
    "                    batch_size = batch_size,\n",
    "                    epochs = 1,\n",
    "                    validation_data = (conv_val_feat, val_labels))"
   ]
  },
  {
   "cell_type": "markdown",
   "metadata": {
    "hidden": true
   },
   "source": [
    "So this model is a bit heavier. Already we are underfitting quite a bit. We increase the learning rate and run for 4 epochs."
   ]
  },
  {
   "cell_type": "code",
   "execution_count": 19,
   "metadata": {
    "collapsed": false,
    "hidden": true
   },
   "outputs": [
    {
     "name": "stdout",
     "output_type": "stream",
     "text": [
      "Train on 117744 samples, validate on 2800 samples\n",
      "Epoch 1/4\n",
      "117744/117744 [==============================] - 49s - loss: 0.7133 - acc: 0.7639 - val_loss: 0.4834 - val_acc: 0.8354\n",
      "Epoch 2/4\n",
      "117744/117744 [==============================] - 48s - loss: 0.5696 - acc: 0.8162 - val_loss: 0.4852 - val_acc: 0.8204\n",
      "Epoch 3/4\n",
      "117744/117744 [==============================] - 48s - loss: 0.4978 - acc: 0.8402 - val_loss: 0.4416 - val_acc: 0.8496\n",
      "Epoch 4/4\n",
      "117744/117744 [==============================] - 48s - loss: 0.4542 - acc: 0.8551 - val_loss: 0.4460 - val_acc: 0.8571\n"
     ]
    },
    {
     "data": {
      "text/plain": [
       "<keras.callbacks.History at 0x7f1f56aea190>"
      ]
     },
     "execution_count": 19,
     "metadata": {},
     "output_type": "execute_result"
    }
   ],
   "source": [
    "bn_model_bigger.optimizer.lr = 0.01\n",
    "\n",
    "bn_model_bigger.fit(x = da_conv_feat,\n",
    "                    y = da_trn_labels,\n",
    "                    batch_size = batch_size,\n",
    "                    epochs = 4,\n",
    "                    validation_data = (conv_val_feat, val_labels))"
   ]
  },
  {
   "cell_type": "markdown",
   "metadata": {
    "hidden": true
   },
   "source": [
    "Now our training and valuation accuracy seems more ballanced. Let's lower the learning rate again and train for 4 more epochs."
   ]
  },
  {
   "cell_type": "code",
   "execution_count": 20,
   "metadata": {
    "collapsed": false,
    "hidden": true
   },
   "outputs": [
    {
     "name": "stdout",
     "output_type": "stream",
     "text": [
      "Train on 117744 samples, validate on 2800 samples\n",
      "Epoch 1/4\n",
      "117744/117744 [==============================] - 48s - loss: 0.4255 - acc: 0.8660 - val_loss: 0.4687 - val_acc: 0.8404\n",
      "Epoch 2/4\n",
      "117744/117744 [==============================] - 48s - loss: 0.4019 - acc: 0.8731 - val_loss: 0.5088 - val_acc: 0.8336\n",
      "Epoch 3/4\n",
      "117744/117744 [==============================] - 48s - loss: 0.3789 - acc: 0.8804 - val_loss: 0.4887 - val_acc: 0.8454\n",
      "Epoch 4/4\n",
      "117744/117744 [==============================] - 48s - loss: 0.3623 - acc: 0.8860 - val_loss: 0.4748 - val_acc: 0.8339\n"
     ]
    },
    {
     "data": {
      "text/plain": [
       "<keras.callbacks.History at 0x7f1cccc72950>"
      ]
     },
     "execution_count": 20,
     "metadata": {},
     "output_type": "execute_result"
    }
   ],
   "source": [
    "bn_model_bigger.optimizer.lr = 0.0001\n",
    "\n",
    "bn_model_bigger.fit(x = da_conv_feat,\n",
    "                    y = da_trn_labels,\n",
    "                    batch_size = batch_size,\n",
    "                    epochs = 4,\n",
    "                    validation_data = (conv_val_feat, val_labels))"
   ]
  },
  {
   "cell_type": "markdown",
   "metadata": {
    "hidden": true
   },
   "source": [
    "Seems like we are levelling off at this point. Let's attempt a final improvement by using pseudo labelling."
   ]
  },
  {
   "cell_type": "markdown",
   "metadata": {
    "heading_collapsed": true
   },
   "source": [
    "## Pseudolabeling\n",
    "\n",
    "We're going to try using a combination of [pseudo labeling](http://deeplearning.net/wp-content/uploads/2013/03/pseudo_label_final.pdf) and [knowledge distillation](https://arxiv.org/abs/1503.02531) to allow us to use unlabeled data (i.e. do semi-supervised learning). For our initial experiment we'll use the validation set as the unlabeled data, so that we can see that it is working without using the test set. Afterwards we add the test set as well."
   ]
  },
  {
   "cell_type": "code",
   "execution_count": 22,
   "metadata": {
    "collapsed": true,
    "hidden": true
   },
   "outputs": [],
   "source": [
    "val_pseudo = bn_model_bigger.predict(conv_val_feat, batch_size = 50)"
   ]
  },
  {
   "cell_type": "markdown",
   "metadata": {
    "hidden": true
   },
   "source": [
    "We concatenate thse pseudo labels with our training labels"
   ]
  },
  {
   "cell_type": "code",
   "execution_count": 24,
   "metadata": {
    "collapsed": true,
    "hidden": true
   },
   "outputs": [],
   "source": [
    "comb_pseudo = np.concatenate([da_trn_labels, val_pseudo])\n",
    "comb_feat = np.concatenate([da_conv_feat, conv_val_feat])"
   ]
  },
  {
   "cell_type": "markdown",
   "metadata": {
    "hidden": true
   },
   "source": [
    "And train our model using the extended data set."
   ]
  },
  {
   "cell_type": "code",
   "execution_count": 26,
   "metadata": {
    "collapsed": false,
    "hidden": true
   },
   "outputs": [
    {
     "name": "stdout",
     "output_type": "stream",
     "text": [
      "Train on 120544 samples, validate on 2800 samples\n",
      "Epoch 1/1\n",
      "120544/120544 [==============================] - 49s - loss: 0.3544 - acc: 0.8902 - val_loss: 0.4987 - val_acc: 0.8382\n"
     ]
    },
    {
     "data": {
      "text/plain": [
       "<keras.callbacks.History at 0x7f1f34107ed0>"
      ]
     },
     "execution_count": 26,
     "metadata": {},
     "output_type": "execute_result"
    }
   ],
   "source": [
    "bn_model_bigger.optimizer.lr = 0.001\n",
    "\n",
    "bn_model_bigger.fit(x = comb_feat,\n",
    "                    y = comb_pseudo,\n",
    "                    batch_size = batch_size,\n",
    "                    epochs = 1,\n",
    "                    validation_data = (conv_val_feat, val_labels))"
   ]
  },
  {
   "cell_type": "markdown",
   "metadata": {
    "hidden": true
   },
   "source": [
    "We do not really see much of an improvement. Let's try 4 more epochs."
   ]
  },
  {
   "cell_type": "code",
   "execution_count": 27,
   "metadata": {
    "collapsed": false,
    "hidden": true
   },
   "outputs": [
    {
     "name": "stdout",
     "output_type": "stream",
     "text": [
      "Train on 120544 samples, validate on 2800 samples\n",
      "Epoch 1/4\n",
      "120544/120544 [==============================] - 50s - loss: 0.3426 - acc: 0.8951 - val_loss: 0.4796 - val_acc: 0.8421\n",
      "Epoch 2/4\n",
      "120544/120544 [==============================] - 50s - loss: 0.3360 - acc: 0.8967 - val_loss: 0.5171 - val_acc: 0.8375\n",
      "Epoch 3/4\n",
      "120544/120544 [==============================] - 50s - loss: 0.3269 - acc: 0.8995 - val_loss: 0.5132 - val_acc: 0.8371\n",
      "Epoch 4/4\n",
      "120544/120544 [==============================] - 50s - loss: 0.3224 - acc: 0.9010 - val_loss: 0.5321 - val_acc: 0.8364\n"
     ]
    },
    {
     "data": {
      "text/plain": [
       "<keras.callbacks.History at 0x7f1f348ef5d0>"
      ]
     },
     "execution_count": 27,
     "metadata": {},
     "output_type": "execute_result"
    }
   ],
   "source": [
    "bn_model_bigger.fit(x = comb_feat,\n",
    "                    y = comb_pseudo,\n",
    "                    batch_size = batch_size,\n",
    "                    epochs = 4,\n",
    "                    validation_data = (conv_val_feat, val_labels))"
   ]
  },
  {
   "cell_type": "markdown",
   "metadata": {
    "hidden": true
   },
   "source": [
    "Now we are crossing the 0.9 threshold of accuracy. Lets lower the learning rate and train for 4 more epochs and see where that gets us."
   ]
  },
  {
   "cell_type": "code",
   "execution_count": 29,
   "metadata": {
    "collapsed": false,
    "hidden": true
   },
   "outputs": [
    {
     "name": "stdout",
     "output_type": "stream",
     "text": [
      "Train on 120544 samples, validate on 2800 samples\n",
      "Epoch 1/4\n",
      "120544/120544 [==============================] - 50s - loss: 0.3134 - acc: 0.9038 - val_loss: 0.5191 - val_acc: 0.8411\n",
      "Epoch 2/4\n",
      "120544/120544 [==============================] - 50s - loss: 0.3062 - acc: 0.9060 - val_loss: 0.5285 - val_acc: 0.8414\n",
      "Epoch 3/4\n",
      "120544/120544 [==============================] - 50s - loss: 0.3033 - acc: 0.9071 - val_loss: 0.4933 - val_acc: 0.8443\n",
      "Epoch 4/4\n",
      "120544/120544 [==============================] - 50s - loss: 0.2933 - acc: 0.9103 - val_loss: 0.4806 - val_acc: 0.8475\n"
     ]
    },
    {
     "data": {
      "text/plain": [
       "<keras.callbacks.History at 0x7f1f34887f10>"
      ]
     },
     "execution_count": 29,
     "metadata": {},
     "output_type": "execute_result"
    }
   ],
   "source": [
    "bn_model_bigger.optimizer.lr = 0.00001\n",
    "\n",
    "bn_model_bigger.fit(x = comb_feat,\n",
    "                    y = comb_pseudo,\n",
    "                    batch_size = batch_size,\n",
    "                    epochs = 4,\n",
    "                    validation_data = (conv_val_feat, val_labels))"
   ]
  },
  {
   "cell_type": "markdown",
   "metadata": {
    "hidden": true
   },
   "source": [
    "So we do see a pretty nice improvement. Enough to warrent us trying with the entire test set."
   ]
  },
  {
   "cell_type": "code",
   "execution_count": 30,
   "metadata": {
    "collapsed": true,
    "hidden": true
   },
   "outputs": [],
   "source": [
    "test_pseudo = bn_model_bigger.predict(conv_test_feat, batch_size = 2)"
   ]
  },
  {
   "cell_type": "markdown",
   "metadata": {
    "hidden": true
   },
   "source": [
    "We concatenate thse pseudo labels with our training and valuation pseudo labels"
   ]
  },
  {
   "cell_type": "code",
   "execution_count": 31,
   "metadata": {
    "collapsed": true,
    "hidden": true
   },
   "outputs": [],
   "source": [
    "comb_pseudo = np.concatenate([comb_pseudo, test_pseudo])\n",
    "comb_feat = np.concatenate([comb_feat, conv_test_feat])"
   ]
  },
  {
   "cell_type": "markdown",
   "metadata": {
    "hidden": true
   },
   "source": [
    "And train our model using the extended data set."
   ]
  },
  {
   "cell_type": "code",
   "execution_count": 32,
   "metadata": {
    "collapsed": false,
    "hidden": true
   },
   "outputs": [
    {
     "name": "stdout",
     "output_type": "stream",
     "text": [
      "Train on 200270 samples, validate on 2800 samples\n",
      "Epoch 1/1\n",
      "200270/200270 [==============================] - 84s - loss: 0.5545 - acc: 0.8444 - val_loss: 0.4587 - val_acc: 0.8454\n"
     ]
    },
    {
     "data": {
      "text/plain": [
       "<keras.callbacks.History at 0x7f1f34183290>"
      ]
     },
     "execution_count": 32,
     "metadata": {},
     "output_type": "execute_result"
    }
   ],
   "source": [
    "bn_model_bigger.optimizer.lr = 0.001\n",
    "\n",
    "bn_model_bigger.fit(x = comb_feat,\n",
    "                    y = comb_pseudo,\n",
    "                    batch_size = batch_size,\n",
    "                    epochs = 1,\n",
    "                    validation_data = (conv_val_feat, val_labels))"
   ]
  },
  {
   "cell_type": "markdown",
   "metadata": {
    "hidden": true
   },
   "source": [
    "Hrm, too early to say, but valuation accuracy holds still. Let's run 4 more epochs."
   ]
  },
  {
   "cell_type": "code",
   "execution_count": 33,
   "metadata": {
    "collapsed": false,
    "hidden": true
   },
   "outputs": [
    {
     "name": "stdout",
     "output_type": "stream",
     "text": [
      "Train on 200270 samples, validate on 2800 samples\n",
      "Epoch 1/4\n",
      "200270/200270 [==============================] - 84s - loss: 0.5158 - acc: 0.8610 - val_loss: 0.4763 - val_acc: 0.8346\n",
      "Epoch 2/4\n",
      "200270/200270 [==============================] - 83s - loss: 0.4985 - acc: 0.8692 - val_loss: 0.4769 - val_acc: 0.8339\n",
      "Epoch 3/4\n",
      "200270/200270 [==============================] - 83s - loss: 0.4936 - acc: 0.8704 - val_loss: 0.4463 - val_acc: 0.8493\n",
      "Epoch 4/4\n",
      "200270/200270 [==============================] - 84s - loss: 0.4850 - acc: 0.8746 - val_loss: 0.4865 - val_acc: 0.8396\n"
     ]
    },
    {
     "data": {
      "text/plain": [
       "<keras.callbacks.History at 0x7f1f58620f50>"
      ]
     },
     "execution_count": 33,
     "metadata": {},
     "output_type": "execute_result"
    }
   ],
   "source": [
    "bn_model_bigger.fit(x = comb_feat,\n",
    "                    y = comb_pseudo,\n",
    "                    batch_size = batch_size,\n",
    "                    epochs = 4,\n",
    "                    validation_data = (conv_val_feat, val_labels))"
   ]
  },
  {
   "cell_type": "markdown",
   "metadata": {
    "hidden": true
   },
   "source": [
    "Let's lower the learning rate again and run 4 more epochs."
   ]
  },
  {
   "cell_type": "code",
   "execution_count": 34,
   "metadata": {
    "collapsed": false,
    "hidden": true
   },
   "outputs": [
    {
     "name": "stdout",
     "output_type": "stream",
     "text": [
      "Train on 200270 samples, validate on 2800 samples\n",
      "Epoch 1/4\n",
      "200270/200270 [==============================] - 83s - loss: 0.4803 - acc: 0.8757 - val_loss: 0.4721 - val_acc: 0.8389\n",
      "Epoch 2/4\n",
      "200270/200270 [==============================] - 84s - loss: 0.4764 - acc: 0.8771 - val_loss: 0.4542 - val_acc: 0.8464\n",
      "Epoch 3/4\n",
      "200270/200270 [==============================] - 83s - loss: 0.4750 - acc: 0.8788 - val_loss: 0.4759 - val_acc: 0.8396\n",
      "Epoch 4/4\n",
      "200270/200270 [==============================] - 83s - loss: 0.4700 - acc: 0.8799 - val_loss: 0.4844 - val_acc: 0.8364\n"
     ]
    },
    {
     "data": {
      "text/plain": [
       "<keras.callbacks.History at 0x7f1f58650fd0>"
      ]
     },
     "execution_count": 34,
     "metadata": {},
     "output_type": "execute_result"
    }
   ],
   "source": [
    "bn_model_bigger.optimizer.lr = 0.00001\n",
    "\n",
    "bn_model_bigger.fit(x = comb_feat,\n",
    "                    y = comb_pseudo,\n",
    "                    batch_size = batch_size,\n",
    "                    epochs = 4,\n",
    "                    validation_data = (conv_val_feat, val_labels))"
   ]
  },
  {
   "cell_type": "markdown",
   "metadata": {
    "hidden": true
   },
   "source": [
    "We are improving slowly. Let's run for 10 more epochs."
   ]
  },
  {
   "cell_type": "code",
   "execution_count": 36,
   "metadata": {
    "collapsed": false,
    "hidden": true
   },
   "outputs": [
    {
     "name": "stdout",
     "output_type": "stream",
     "text": [
      "Train on 200270 samples, validate on 2800 samples\n",
      "Epoch 1/10\n",
      "200270/200270 [==============================] - 83s - loss: 0.4671 - acc: 0.8815 - val_loss: 0.4400 - val_acc: 0.8461\n",
      "Epoch 2/10\n",
      "200270/200270 [==============================] - 83s - loss: 0.4642 - acc: 0.8820 - val_loss: 0.5003 - val_acc: 0.8371\n",
      "Epoch 3/10\n",
      "200270/200270 [==============================] - 83s - loss: 0.4617 - acc: 0.8831 - val_loss: 0.5024 - val_acc: 0.8386\n",
      "Epoch 4/10\n",
      "200270/200270 [==============================] - 84s - loss: 0.4578 - acc: 0.8849 - val_loss: 0.5042 - val_acc: 0.8339\n",
      "Epoch 5/10\n",
      "200270/200270 [==============================] - 83s - loss: 0.4557 - acc: 0.8858 - val_loss: 0.4949 - val_acc: 0.8368\n",
      "Epoch 6/10\n",
      "200270/200270 [==============================] - 83s - loss: 0.4552 - acc: 0.8843 - val_loss: 0.4806 - val_acc: 0.8379\n",
      "Epoch 7/10\n",
      "200270/200270 [==============================] - 83s - loss: 0.4532 - acc: 0.8865 - val_loss: 0.4609 - val_acc: 0.8436\n",
      "Epoch 8/10\n",
      "200270/200270 [==============================] - 83s - loss: 0.4512 - acc: 0.8877 - val_loss: 0.4960 - val_acc: 0.8354\n",
      "Epoch 9/10\n",
      "200270/200270 [==============================] - 83s - loss: 0.4471 - acc: 0.8880 - val_loss: 0.4750 - val_acc: 0.8425\n",
      "Epoch 10/10\n",
      "200270/200270 [==============================] - 83s - loss: 0.4461 - acc: 0.8886 - val_loss: 0.4816 - val_acc: 0.8364\n"
     ]
    },
    {
     "data": {
      "text/plain": [
       "<keras.callbacks.History at 0x7f1f348ef8d0>"
      ]
     },
     "execution_count": 36,
     "metadata": {},
     "output_type": "execute_result"
    }
   ],
   "source": [
    "bn_model_bigger.fit(x = comb_feat,\n",
    "                    y = comb_pseudo,\n",
    "                    batch_size = batch_size,\n",
    "                    epochs = 10,\n",
    "                    validation_data = (conv_val_feat, val_labels))"
   ]
  },
  {
   "cell_type": "markdown",
   "metadata": {
    "hidden": true
   },
   "source": [
    "Having trained the model, we save the weights."
   ]
  },
  {
   "cell_type": "code",
   "execution_count": 37,
   "metadata": {
    "collapsed": true,
    "hidden": true
   },
   "outputs": [],
   "source": [
    "bn_model_bigger.save_weights('models/batchnorm_vgg16.h5')"
   ]
  },
  {
   "cell_type": "markdown",
   "metadata": {},
   "source": [
    "## Submitting to Kaggle\n",
    "\n",
    "We finally submit the improved model to Kaggle."
   ]
  },
  {
   "cell_type": "markdown",
   "metadata": {},
   "source": [
    "We start by finding the optimal level of clipping."
   ]
  },
  {
   "cell_type": "code",
   "execution_count": 48,
   "metadata": {
    "collapsed": false
   },
   "outputs": [
    {
     "name": "stdout",
     "output_type": "stream",
     "text": [
      "Found 2800 images belonging to 10 classes.\n"
     ]
    }
   ],
   "source": [
    "valid_batches_pred = get_batches(path + 'valid', batch_size = 50, target_size = (224, 224), shuffle = False, class_mode = None)\n",
    "conv_val_feat_pred = conv_model.predict_generator(valid_batches_pred, np.int(valid_batches_pred.samples / valid_batches_pred.batch_size))\n",
    "\n",
    "val_predictions = bn_model_bigger.predict(conv_val_feat_pred, batch_size = 50)"
   ]
  },
  {
   "cell_type": "code",
   "execution_count": 57,
   "metadata": {
    "collapsed": true
   },
   "outputs": [],
   "source": [
    "def do_clip(arr, mx): return np.clip(arr, (1 - mx) / 9, mx)"
   ]
  },
  {
   "cell_type": "markdown",
   "metadata": {},
   "source": [
    "We then proceed to determine the optimal level of clipping using the validation data set."
   ]
  },
  {
   "cell_type": "code",
   "execution_count": 58,
   "metadata": {
    "collapsed": false
   },
   "outputs": [
    {
     "data": {
      "text/plain": [
       "[1.0000000000000002, 0.48164355679327142]"
      ]
     },
     "execution_count": 58,
     "metadata": {},
     "output_type": "execute_result"
    }
   ],
   "source": [
    "test_clip = []\n",
    "for i in np.arange(0.70, 1.0, 0.01):\n",
    "    test_clip.append([i, categorical_crossentropy(val_labels, do_clip(val_predictions, i)).eval().mean()])\n",
    "\n",
    "min(test_clip, key = lambda x: x[1])"
   ]
  },
  {
   "cell_type": "markdown",
   "metadata": {},
   "source": [
    "Here it is said, that no clipping is best. Weird. Lets submit two. One clipped and one not clipped. First we compute the predictions."
   ]
  },
  {
   "cell_type": "code",
   "execution_count": 59,
   "metadata": {
    "collapsed": true
   },
   "outputs": [],
   "source": [
    "test_predictions = bn_model_bigger.predict(conv_test_feat, batch_size = 2)"
   ]
  },
  {
   "cell_type": "markdown",
   "metadata": {},
   "source": [
    "Define classes"
   ]
  },
  {
   "cell_type": "code",
   "execution_count": 61,
   "metadata": {
    "collapsed": false
   },
   "outputs": [],
   "source": [
    "classes = sorted(valid_batches.class_indices, key = valid_batches.class_indices.get)"
   ]
  },
  {
   "cell_type": "markdown",
   "metadata": {},
   "source": [
    "Then we make a cliping based on earlier experience"
   ]
  },
  {
   "cell_type": "code",
   "execution_count": 62,
   "metadata": {
    "collapsed": true
   },
   "outputs": [],
   "source": [
    "sumbit_pred = do_clip(test_predictions, 0.89)"
   ]
  },
  {
   "cell_type": "markdown",
   "metadata": {},
   "source": [
    "Then we prepare a submission without clipping."
   ]
  },
  {
   "cell_type": "code",
   "execution_count": 65,
   "metadata": {
    "collapsed": false
   },
   "outputs": [
    {
     "data": {
      "text/html": [
       "<div>\n",
       "<table border=\"1\" class=\"dataframe\">\n",
       "  <thead>\n",
       "    <tr style=\"text-align: right;\">\n",
       "      <th></th>\n",
       "      <th>img</th>\n",
       "      <th>c0</th>\n",
       "      <th>c1</th>\n",
       "      <th>c2</th>\n",
       "      <th>c3</th>\n",
       "      <th>c4</th>\n",
       "      <th>c5</th>\n",
       "      <th>c6</th>\n",
       "      <th>c7</th>\n",
       "      <th>c8</th>\n",
       "      <th>c9</th>\n",
       "    </tr>\n",
       "  </thead>\n",
       "  <tbody>\n",
       "    <tr>\n",
       "      <th>0</th>\n",
       "      <td>img_81601.jpg</td>\n",
       "      <td>0.046099</td>\n",
       "      <td>0.006723</td>\n",
       "      <td>0.004307</td>\n",
       "      <td>0.000682</td>\n",
       "      <td>0.001594</td>\n",
       "      <td>0.001567</td>\n",
       "      <td>0.026646</td>\n",
       "      <td>0.020867</td>\n",
       "      <td>0.016716</td>\n",
       "      <td>0.874798</td>\n",
       "    </tr>\n",
       "    <tr>\n",
       "      <th>1</th>\n",
       "      <td>img_14887.jpg</td>\n",
       "      <td>0.689640</td>\n",
       "      <td>0.007839</td>\n",
       "      <td>0.000621</td>\n",
       "      <td>0.002267</td>\n",
       "      <td>0.001608</td>\n",
       "      <td>0.003189</td>\n",
       "      <td>0.001825</td>\n",
       "      <td>0.000393</td>\n",
       "      <td>0.005292</td>\n",
       "      <td>0.287327</td>\n",
       "    </tr>\n",
       "    <tr>\n",
       "      <th>2</th>\n",
       "      <td>img_62885.jpg</td>\n",
       "      <td>0.005301</td>\n",
       "      <td>0.000154</td>\n",
       "      <td>0.000257</td>\n",
       "      <td>0.017661</td>\n",
       "      <td>0.973055</td>\n",
       "      <td>0.000493</td>\n",
       "      <td>0.000514</td>\n",
       "      <td>0.000016</td>\n",
       "      <td>0.000978</td>\n",
       "      <td>0.001571</td>\n",
       "    </tr>\n",
       "    <tr>\n",
       "      <th>3</th>\n",
       "      <td>img_45125.jpg</td>\n",
       "      <td>0.002003</td>\n",
       "      <td>0.007311</td>\n",
       "      <td>0.017353</td>\n",
       "      <td>0.000462</td>\n",
       "      <td>0.002328</td>\n",
       "      <td>0.000509</td>\n",
       "      <td>0.656182</td>\n",
       "      <td>0.006239</td>\n",
       "      <td>0.302687</td>\n",
       "      <td>0.004926</td>\n",
       "    </tr>\n",
       "    <tr>\n",
       "      <th>4</th>\n",
       "      <td>img_22633.jpg</td>\n",
       "      <td>0.138601</td>\n",
       "      <td>0.055678</td>\n",
       "      <td>0.011123</td>\n",
       "      <td>0.001665</td>\n",
       "      <td>0.004929</td>\n",
       "      <td>0.012565</td>\n",
       "      <td>0.022692</td>\n",
       "      <td>0.007558</td>\n",
       "      <td>0.186375</td>\n",
       "      <td>0.558814</td>\n",
       "    </tr>\n",
       "  </tbody>\n",
       "</table>\n",
       "</div>"
      ],
      "text/plain": [
       "             img        c0        c1        c2        c3        c4        c5  \\\n",
       "0  img_81601.jpg  0.046099  0.006723  0.004307  0.000682  0.001594  0.001567   \n",
       "1  img_14887.jpg  0.689640  0.007839  0.000621  0.002267  0.001608  0.003189   \n",
       "2  img_62885.jpg  0.005301  0.000154  0.000257  0.017661  0.973055  0.000493   \n",
       "3  img_45125.jpg  0.002003  0.007311  0.017353  0.000462  0.002328  0.000509   \n",
       "4  img_22633.jpg  0.138601  0.055678  0.011123  0.001665  0.004929  0.012565   \n",
       "\n",
       "         c6        c7        c8        c9  \n",
       "0  0.026646  0.020867  0.016716  0.874798  \n",
       "1  0.001825  0.000393  0.005292  0.287327  \n",
       "2  0.000514  0.000016  0.000978  0.001571  \n",
       "3  0.656182  0.006239  0.302687  0.004926  \n",
       "4  0.022692  0.007558  0.186375  0.558814  "
      ]
     },
     "execution_count": 65,
     "metadata": {},
     "output_type": "execute_result"
    }
   ],
   "source": [
    "submission_no_clip = pd.DataFrame(test_predictions, columns = classes)\n",
    "submission_no_clip.insert(0, 'img', [a[8:] for a in test_batches.filenames])\n",
    "submission_no_clip.head()"
   ]
  },
  {
   "cell_type": "markdown",
   "metadata": {},
   "source": [
    "And a submission with clipping"
   ]
  },
  {
   "cell_type": "code",
   "execution_count": 66,
   "metadata": {
    "collapsed": false
   },
   "outputs": [
    {
     "data": {
      "text/html": [
       "<div>\n",
       "<table border=\"1\" class=\"dataframe\">\n",
       "  <thead>\n",
       "    <tr style=\"text-align: right;\">\n",
       "      <th></th>\n",
       "      <th>img</th>\n",
       "      <th>c0</th>\n",
       "      <th>c1</th>\n",
       "      <th>c2</th>\n",
       "      <th>c3</th>\n",
       "      <th>c4</th>\n",
       "      <th>c5</th>\n",
       "      <th>c6</th>\n",
       "      <th>c7</th>\n",
       "      <th>c8</th>\n",
       "      <th>c9</th>\n",
       "    </tr>\n",
       "  </thead>\n",
       "  <tbody>\n",
       "    <tr>\n",
       "      <th>0</th>\n",
       "      <td>img_81601.jpg</td>\n",
       "      <td>0.046099</td>\n",
       "      <td>0.012222</td>\n",
       "      <td>0.012222</td>\n",
       "      <td>0.012222</td>\n",
       "      <td>0.012222</td>\n",
       "      <td>0.012222</td>\n",
       "      <td>0.026646</td>\n",
       "      <td>0.020867</td>\n",
       "      <td>0.016716</td>\n",
       "      <td>0.874798</td>\n",
       "    </tr>\n",
       "    <tr>\n",
       "      <th>1</th>\n",
       "      <td>img_14887.jpg</td>\n",
       "      <td>0.689640</td>\n",
       "      <td>0.012222</td>\n",
       "      <td>0.012222</td>\n",
       "      <td>0.012222</td>\n",
       "      <td>0.012222</td>\n",
       "      <td>0.012222</td>\n",
       "      <td>0.012222</td>\n",
       "      <td>0.012222</td>\n",
       "      <td>0.012222</td>\n",
       "      <td>0.287327</td>\n",
       "    </tr>\n",
       "    <tr>\n",
       "      <th>2</th>\n",
       "      <td>img_62885.jpg</td>\n",
       "      <td>0.012222</td>\n",
       "      <td>0.012222</td>\n",
       "      <td>0.012222</td>\n",
       "      <td>0.017661</td>\n",
       "      <td>0.890000</td>\n",
       "      <td>0.012222</td>\n",
       "      <td>0.012222</td>\n",
       "      <td>0.012222</td>\n",
       "      <td>0.012222</td>\n",
       "      <td>0.012222</td>\n",
       "    </tr>\n",
       "    <tr>\n",
       "      <th>3</th>\n",
       "      <td>img_45125.jpg</td>\n",
       "      <td>0.012222</td>\n",
       "      <td>0.012222</td>\n",
       "      <td>0.017353</td>\n",
       "      <td>0.012222</td>\n",
       "      <td>0.012222</td>\n",
       "      <td>0.012222</td>\n",
       "      <td>0.656182</td>\n",
       "      <td>0.012222</td>\n",
       "      <td>0.302687</td>\n",
       "      <td>0.012222</td>\n",
       "    </tr>\n",
       "    <tr>\n",
       "      <th>4</th>\n",
       "      <td>img_22633.jpg</td>\n",
       "      <td>0.138601</td>\n",
       "      <td>0.055678</td>\n",
       "      <td>0.012222</td>\n",
       "      <td>0.012222</td>\n",
       "      <td>0.012222</td>\n",
       "      <td>0.012565</td>\n",
       "      <td>0.022692</td>\n",
       "      <td>0.012222</td>\n",
       "      <td>0.186375</td>\n",
       "      <td>0.558814</td>\n",
       "    </tr>\n",
       "  </tbody>\n",
       "</table>\n",
       "</div>"
      ],
      "text/plain": [
       "             img        c0        c1        c2        c3        c4        c5  \\\n",
       "0  img_81601.jpg  0.046099  0.012222  0.012222  0.012222  0.012222  0.012222   \n",
       "1  img_14887.jpg  0.689640  0.012222  0.012222  0.012222  0.012222  0.012222   \n",
       "2  img_62885.jpg  0.012222  0.012222  0.012222  0.017661  0.890000  0.012222   \n",
       "3  img_45125.jpg  0.012222  0.012222  0.017353  0.012222  0.012222  0.012222   \n",
       "4  img_22633.jpg  0.138601  0.055678  0.012222  0.012222  0.012222  0.012565   \n",
       "\n",
       "         c6        c7        c8        c9  \n",
       "0  0.026646  0.020867  0.016716  0.874798  \n",
       "1  0.012222  0.012222  0.012222  0.287327  \n",
       "2  0.012222  0.012222  0.012222  0.012222  \n",
       "3  0.656182  0.012222  0.302687  0.012222  \n",
       "4  0.022692  0.012222  0.186375  0.558814  "
      ]
     },
     "execution_count": 66,
     "metadata": {},
     "output_type": "execute_result"
    }
   ],
   "source": [
    "submission_clip = pd.DataFrame(sumbit_pred, columns = classes)\n",
    "submission_clip.insert(0, 'img', [a[8:] for a in test_batches.filenames])\n",
    "submission_clip.head()"
   ]
  },
  {
   "cell_type": "markdown",
   "metadata": {},
   "source": [
    "Finally we save the two submissions"
   ]
  },
  {
   "cell_type": "code",
   "execution_count": 67,
   "metadata": {
    "collapsed": true
   },
   "outputs": [],
   "source": [
    "submission_file_name_no_clip = 'results/augmented-pseudo-vgg-no-clip.gz'\n",
    "submission_no_clip.to_csv(submission_file_name_no_clip, index = False, compression = 'gzip')\n",
    "\n",
    "submission_file_name_clip = 'results/augmented-pseudo-vgg-clip.gz'\n",
    "submission_clip.to_csv(submission_file_name_clip, index = False, compression = 'gzip')"
   ]
  },
  {
   "cell_type": "code",
   "execution_count": 70,
   "metadata": {
    "collapsed": false
   },
   "outputs": [
    {
     "data": {
      "text/html": [
       "<a href='results/augmented-pseudo-vgg-no-clip.gz' target='_blank'>results/augmented-pseudo-vgg-no-clip.gz</a><br>"
      ],
      "text/plain": [
       "/home/ubuntu/kaggle/state-farm-distracted-driver-detection/results/augmented-pseudo-vgg-no-clip.gz"
      ]
     },
     "execution_count": 70,
     "metadata": {},
     "output_type": "execute_result"
    }
   ],
   "source": [
    "from IPython.display import FileLink\n",
    "FileLink('results/augmented-pseudo-vgg-no-clip.gz')"
   ]
  },
  {
   "cell_type": "code",
   "execution_count": 71,
   "metadata": {
    "collapsed": false
   },
   "outputs": [
    {
     "data": {
      "text/html": [
       "<a href='results/augmented-pseudo-vgg-clip.gz' target='_blank'>results/augmented-pseudo-vgg-clip.gz</a><br>"
      ],
      "text/plain": [
       "/home/ubuntu/kaggle/state-farm-distracted-driver-detection/results/augmented-pseudo-vgg-clip.gz"
      ]
     },
     "execution_count": 71,
     "metadata": {},
     "output_type": "execute_result"
    }
   ],
   "source": [
    "FileLink('results/augmented-pseudo-vgg-clip.gz')"
   ]
  },
  {
   "cell_type": "markdown",
   "metadata": {
    "collapsed": true
   },
   "source": [
    "Turns out that in this case, the no clipping submission actually performed best, by a absolute 0.03."
   ]
  },
  {
   "cell_type": "code",
   "execution_count": null,
   "metadata": {
    "collapsed": true
   },
   "outputs": [],
   "source": []
  }
 ],
 "metadata": {
  "anaconda-cloud": {},
  "kernelspec": {
   "display_name": "Python [conda root]",
   "language": "python",
   "name": "conda-root-py"
  },
  "language_info": {
   "codemirror_mode": {
    "name": "ipython",
    "version": 2
   },
   "file_extension": ".py",
   "mimetype": "text/x-python",
   "name": "python",
   "nbconvert_exporter": "python",
   "pygments_lexer": "ipython2",
   "version": "2.7.12"
  }
 },
 "nbformat": 4,
 "nbformat_minor": 1
}
