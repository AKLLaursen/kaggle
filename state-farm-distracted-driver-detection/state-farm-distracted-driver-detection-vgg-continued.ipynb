{
 "cells": [
  {
   "cell_type": "markdown",
   "metadata": {},
   "source": [
    "# State Farm Distracted Driver Detection - VGG16 Continued\n",
    "\n",
    "This notebook contains the final attempt at the Kaggle State Farm Distracted Driver Detection competition using the VGG model. The purpose is to train the best possible base VGG model, as well as testing the external vgg16, utils and plot libraries."
   ]
  },
  {
   "cell_type": "markdown",
   "metadata": {
    "heading_collapsed": true
   },
   "source": [
    "## Initial Setup\n",
    "\n",
    "Import libraries and functions for future use."
   ]
  },
  {
   "cell_type": "code",
   "execution_count": 1,
   "metadata": {
    "collapsed": true,
    "hidden": true
   },
   "outputs": [],
   "source": [
    "# Plots displayed inline in notebook\n",
    "%matplotlib inline\n",
    "\n",
    "# Make help libraries available\n",
    "import sys\n",
    "\n",
    "#sys.path.append('/home/ubuntu/personal-libraries')\n",
    "sys.path.append('D:/anlaursen/libraries')\n",
    "\n",
    "# Set visible devices, so as to just use a single GPU.\n",
    "import os\n",
    "os.environ[\"CUDA_DEVICE_ORDER\"] = \"PCI_BUS_ID\"   # see issue #152\n",
    "os.environ[\"CUDA_VISIBLE_DEVICES\"] = \"0\""
   ]
  },
  {
   "cell_type": "code",
   "execution_count": 2,
   "metadata": {
    "hidden": true
   },
   "outputs": [
    {
     "name": "stderr",
     "output_type": "stream",
     "text": [
      "Using TensorFlow backend.\n"
     ]
    }
   ],
   "source": [
    "import numpy as np\n",
    "import pandas as pd\n",
    "import gc\n",
    "\n",
    "from kerastools.vgg16 import Vgg16\n",
    "from kerastools.utils import get_batches, save_array, load_array, get_classes, do_clip\n",
    "\n",
    "from keras.models import Model, Sequential\n",
    "from keras.layers import Input, Dense, BatchNormalization, Flatten, Dropout\n",
    "from keras.layers.convolutional import MaxPooling2D\n",
    "from keras.optimizers import Adam\n",
    "from keras.metrics import categorical_crossentropy\n",
    "from keras.preprocessing import image"
   ]
  },
  {
   "cell_type": "markdown",
   "metadata": {
    "collapsed": true,
    "heading_collapsed": true
   },
   "source": [
    "## Define model\n",
    "\n",
    "We setup our initial VGG16 model"
   ]
  },
  {
   "cell_type": "code",
   "execution_count": 3,
   "metadata": {
    "hidden": true
   },
   "outputs": [
    {
     "name": "stdout",
     "output_type": "stream",
     "text": [
      "_________________________________________________________________\n",
      "Layer (type)                 Output Shape              Param #   \n",
      "=================================================================\n",
      "input_1 (InputLayer)         (None, 224, 224, 3)       0         \n",
      "_________________________________________________________________\n",
      "norm_layer (Lambda)          (None, 224, 224, 3)       0         \n",
      "_________________________________________________________________\n",
      "zero_padding2d_1 (ZeroPaddin (None, 226, 226, 3)       0         \n",
      "_________________________________________________________________\n",
      "conv_layer_1_0 (Conv2D)      (None, 224, 224, 64)      1792      \n",
      "_________________________________________________________________\n",
      "zero_padding2d_2 (ZeroPaddin (None, 226, 226, 64)      0         \n",
      "_________________________________________________________________\n",
      "conv_layer_1_1 (Conv2D)      (None, 224, 224, 64)      36928     \n",
      "_________________________________________________________________\n",
      "max_pooling2d_1 (MaxPooling2 (None, 112, 112, 64)      0         \n",
      "_________________________________________________________________\n",
      "zero_padding2d_3 (ZeroPaddin (None, 114, 114, 64)      0         \n",
      "_________________________________________________________________\n",
      "conv_layer_2_0 (Conv2D)      (None, 112, 112, 128)     73856     \n",
      "_________________________________________________________________\n",
      "zero_padding2d_4 (ZeroPaddin (None, 114, 114, 128)     0         \n",
      "_________________________________________________________________\n",
      "conv_layer_2_1 (Conv2D)      (None, 112, 112, 128)     147584    \n",
      "_________________________________________________________________\n",
      "max_pooling2d_2 (MaxPooling2 (None, 56, 56, 128)       0         \n",
      "_________________________________________________________________\n",
      "zero_padding2d_5 (ZeroPaddin (None, 58, 58, 128)       0         \n",
      "_________________________________________________________________\n",
      "conv_layer_3_0 (Conv2D)      (None, 56, 56, 256)       295168    \n",
      "_________________________________________________________________\n",
      "zero_padding2d_6 (ZeroPaddin (None, 58, 58, 256)       0         \n",
      "_________________________________________________________________\n",
      "conv_layer_3_1 (Conv2D)      (None, 56, 56, 256)       590080    \n",
      "_________________________________________________________________\n",
      "zero_padding2d_7 (ZeroPaddin (None, 58, 58, 256)       0         \n",
      "_________________________________________________________________\n",
      "conv_layer_3_2 (Conv2D)      (None, 56, 56, 256)       590080    \n",
      "_________________________________________________________________\n",
      "max_pooling2d_3 (MaxPooling2 (None, 28, 28, 256)       0         \n",
      "_________________________________________________________________\n",
      "zero_padding2d_8 (ZeroPaddin (None, 30, 30, 256)       0         \n",
      "_________________________________________________________________\n",
      "conv_layer_4_0 (Conv2D)      (None, 28, 28, 512)       1180160   \n",
      "_________________________________________________________________\n",
      "zero_padding2d_9 (ZeroPaddin (None, 30, 30, 512)       0         \n",
      "_________________________________________________________________\n",
      "conv_layer_4_1 (Conv2D)      (None, 28, 28, 512)       2359808   \n",
      "_________________________________________________________________\n",
      "zero_padding2d_10 (ZeroPaddi (None, 30, 30, 512)       0         \n",
      "_________________________________________________________________\n",
      "conv_layer_4_2 (Conv2D)      (None, 28, 28, 512)       2359808   \n",
      "_________________________________________________________________\n",
      "max_pooling2d_4 (MaxPooling2 (None, 14, 14, 512)       0         \n",
      "_________________________________________________________________\n",
      "zero_padding2d_11 (ZeroPaddi (None, 16, 16, 512)       0         \n",
      "_________________________________________________________________\n",
      "conv_layer_5_0 (Conv2D)      (None, 14, 14, 512)       2359808   \n",
      "_________________________________________________________________\n",
      "zero_padding2d_12 (ZeroPaddi (None, 16, 16, 512)       0         \n",
      "_________________________________________________________________\n",
      "conv_layer_5_1 (Conv2D)      (None, 14, 14, 512)       2359808   \n",
      "_________________________________________________________________\n",
      "zero_padding2d_13 (ZeroPaddi (None, 16, 16, 512)       0         \n",
      "_________________________________________________________________\n",
      "conv_layer_5_2 (Conv2D)      (None, 14, 14, 512)       2359808   \n",
      "_________________________________________________________________\n",
      "max_pooling2d_5 (MaxPooling2 (None, 7, 7, 512)         0         \n",
      "_________________________________________________________________\n",
      "flat_layer (Flatten)         (None, 25088)             0         \n",
      "_________________________________________________________________\n",
      "fc_layer_1 (Dense)           (None, 4096)              102764544 \n",
      "_________________________________________________________________\n",
      "dropout_1 (Dropout)          (None, 4096)              0         \n",
      "_________________________________________________________________\n",
      "fc_layer_2 (Dense)           (None, 4096)              16781312  \n",
      "_________________________________________________________________\n",
      "dropout_2 (Dropout)          (None, 4096)              0         \n",
      "_________________________________________________________________\n",
      "prediction (Dense)           (None, 1000)              4097000   \n",
      "=================================================================\n",
      "Total params: 138,357,544\n",
      "Trainable params: 138,357,544\n",
      "Non-trainable params: 0\n",
      "_________________________________________________________________\n"
     ]
    }
   ],
   "source": [
    "vgg = Vgg16()\n",
    "vgg.model.summary()"
   ]
  },
  {
   "cell_type": "markdown",
   "metadata": {
    "collapsed": true,
    "heading_collapsed": true
   },
   "source": [
    "## Setup batches\n",
    "\n",
    "We define out validation and training badges for modelling"
   ]
  },
  {
   "cell_type": "code",
   "execution_count": 4,
   "metadata": {
    "hidden": true
   },
   "outputs": [
    {
     "name": "stdout",
     "output_type": "stream",
     "text": [
      "Found 1000 images belonging to 10 classes.\n",
      "Found 100 images belonging to 10 classes.\n"
     ]
    }
   ],
   "source": [
    "batch_size = 32\n",
    "\n",
    "#path = ''\n",
    "path = 'sample/'\n",
    "\n",
    "train_batches = vgg.get_batches(path + 'train', batch_size = batch_size)\n",
    "val_batches = vgg.get_batches(path + 'valid', batch_size = batch_size, shuffle = False)"
   ]
  },
  {
   "cell_type": "markdown",
   "metadata": {
    "heading_collapsed": true
   },
   "source": [
    "## Finetune model - Sample\n",
    "\n",
    "We need to adjust the standard VGG model to our new input with 10 classes, so we finetune it."
   ]
  },
  {
   "cell_type": "code",
   "execution_count": 5,
   "metadata": {
    "hidden": true
   },
   "outputs": [
    {
     "name": "stdout",
     "output_type": "stream",
     "text": [
      "_________________________________________________________________\n",
      "Layer (type)                 Output Shape              Param #   \n",
      "=================================================================\n",
      "input_1 (InputLayer)         (None, 224, 224, 3)       0         \n",
      "_________________________________________________________________\n",
      "norm_layer (Lambda)          (None, 224, 224, 3)       0         \n",
      "_________________________________________________________________\n",
      "zero_padding2d_1 (ZeroPaddin (None, 226, 226, 3)       0         \n",
      "_________________________________________________________________\n",
      "conv_layer_1_0 (Conv2D)      (None, 224, 224, 64)      1792      \n",
      "_________________________________________________________________\n",
      "zero_padding2d_2 (ZeroPaddin (None, 226, 226, 64)      0         \n",
      "_________________________________________________________________\n",
      "conv_layer_1_1 (Conv2D)      (None, 224, 224, 64)      36928     \n",
      "_________________________________________________________________\n",
      "max_pooling2d_1 (MaxPooling2 (None, 112, 112, 64)      0         \n",
      "_________________________________________________________________\n",
      "zero_padding2d_3 (ZeroPaddin (None, 114, 114, 64)      0         \n",
      "_________________________________________________________________\n",
      "conv_layer_2_0 (Conv2D)      (None, 112, 112, 128)     73856     \n",
      "_________________________________________________________________\n",
      "zero_padding2d_4 (ZeroPaddin (None, 114, 114, 128)     0         \n",
      "_________________________________________________________________\n",
      "conv_layer_2_1 (Conv2D)      (None, 112, 112, 128)     147584    \n",
      "_________________________________________________________________\n",
      "max_pooling2d_2 (MaxPooling2 (None, 56, 56, 128)       0         \n",
      "_________________________________________________________________\n",
      "zero_padding2d_5 (ZeroPaddin (None, 58, 58, 128)       0         \n",
      "_________________________________________________________________\n",
      "conv_layer_3_0 (Conv2D)      (None, 56, 56, 256)       295168    \n",
      "_________________________________________________________________\n",
      "zero_padding2d_6 (ZeroPaddin (None, 58, 58, 256)       0         \n",
      "_________________________________________________________________\n",
      "conv_layer_3_1 (Conv2D)      (None, 56, 56, 256)       590080    \n",
      "_________________________________________________________________\n",
      "zero_padding2d_7 (ZeroPaddin (None, 58, 58, 256)       0         \n",
      "_________________________________________________________________\n",
      "conv_layer_3_2 (Conv2D)      (None, 56, 56, 256)       590080    \n",
      "_________________________________________________________________\n",
      "max_pooling2d_3 (MaxPooling2 (None, 28, 28, 256)       0         \n",
      "_________________________________________________________________\n",
      "zero_padding2d_8 (ZeroPaddin (None, 30, 30, 256)       0         \n",
      "_________________________________________________________________\n",
      "conv_layer_4_0 (Conv2D)      (None, 28, 28, 512)       1180160   \n",
      "_________________________________________________________________\n",
      "zero_padding2d_9 (ZeroPaddin (None, 30, 30, 512)       0         \n",
      "_________________________________________________________________\n",
      "conv_layer_4_1 (Conv2D)      (None, 28, 28, 512)       2359808   \n",
      "_________________________________________________________________\n",
      "zero_padding2d_10 (ZeroPaddi (None, 30, 30, 512)       0         \n",
      "_________________________________________________________________\n",
      "conv_layer_4_2 (Conv2D)      (None, 28, 28, 512)       2359808   \n",
      "_________________________________________________________________\n",
      "max_pooling2d_4 (MaxPooling2 (None, 14, 14, 512)       0         \n",
      "_________________________________________________________________\n",
      "zero_padding2d_11 (ZeroPaddi (None, 16, 16, 512)       0         \n",
      "_________________________________________________________________\n",
      "conv_layer_5_0 (Conv2D)      (None, 14, 14, 512)       2359808   \n",
      "_________________________________________________________________\n",
      "zero_padding2d_12 (ZeroPaddi (None, 16, 16, 512)       0         \n",
      "_________________________________________________________________\n",
      "conv_layer_5_1 (Conv2D)      (None, 14, 14, 512)       2359808   \n",
      "_________________________________________________________________\n",
      "zero_padding2d_13 (ZeroPaddi (None, 16, 16, 512)       0         \n",
      "_________________________________________________________________\n",
      "conv_layer_5_2 (Conv2D)      (None, 14, 14, 512)       2359808   \n",
      "_________________________________________________________________\n",
      "max_pooling2d_5 (MaxPooling2 (None, 7, 7, 512)         0         \n",
      "_________________________________________________________________\n",
      "flat_layer (Flatten)         (None, 25088)             0         \n",
      "_________________________________________________________________\n",
      "fc_layer_1 (Dense)           (None, 4096)              102764544 \n",
      "_________________________________________________________________\n",
      "dropout_1 (Dropout)          (None, 4096)              0         \n",
      "_________________________________________________________________\n",
      "fc_layer_2 (Dense)           (None, 4096)              16781312  \n",
      "_________________________________________________________________\n",
      "dropout_2 (Dropout)          (None, 4096)              0         \n",
      "_________________________________________________________________\n",
      "predictions (Dense)          (None, 10)                40970     \n",
      "=================================================================\n",
      "Total params: 134,301,514\n",
      "Trainable params: 40,970\n",
      "Non-trainable params: 134,260,544\n",
      "_________________________________________________________________\n"
     ]
    }
   ],
   "source": [
    "vgg.finetune(train_batches)\n",
    "vgg.model.summary()"
   ]
  },
  {
   "cell_type": "markdown",
   "metadata": {
    "hidden": true
   },
   "source": [
    "We train the model using the default learning rate of 0.001 for a single epoch"
   ]
  },
  {
   "cell_type": "code",
   "execution_count": 6,
   "metadata": {
    "hidden": true
   },
   "outputs": [
    {
     "name": "stdout",
     "output_type": "stream",
     "text": [
      "Epoch 1/1\n",
      "31/31 [==============================] - 13s - loss: 4.0784 - acc: 0.1542 - val_loss: 2.0154 - val_acc: 0.2812\n"
     ]
    }
   ],
   "source": [
    "vgg.fit_batch(train_batches, val_batches, 1)"
   ]
  },
  {
   "cell_type": "markdown",
   "metadata": {
    "hidden": true
   },
   "source": [
    "We see that the accuracy increases fine on the sample, so we increase the learning rate."
   ]
  },
  {
   "cell_type": "code",
   "execution_count": 7,
   "metadata": {
    "hidden": true
   },
   "outputs": [
    {
     "name": "stdout",
     "output_type": "stream",
     "text": [
      "Epoch 1/4\n",
      "31/31 [==============================] - 8s - loss: 2.6065 - acc: 0.3216 - val_loss: 1.6577 - val_acc: 0.4706\n",
      "Epoch 2/4\n",
      "31/31 [==============================] - 6s - loss: 2.2397 - acc: 0.4044 - val_loss: 2.1991 - val_acc: 0.2647\n",
      "Epoch 3/4\n",
      "31/31 [==============================] - 7s - loss: 1.7067 - acc: 0.5036 - val_loss: 1.9854 - val_acc: 0.3824\n",
      "Epoch 4/4\n",
      "31/31 [==============================] - 7s - loss: 1.5527 - acc: 0.5371 - val_loss: 1.7916 - val_acc: 0.3529\n"
     ]
    }
   ],
   "source": [
    "vgg.model.optimizer.lr = 0.01\n",
    "\n",
    "vgg.fit_batch(train_batches, val_batches, 4)"
   ]
  },
  {
   "cell_type": "markdown",
   "metadata": {
    "hidden": true
   },
   "source": [
    "It actually seems to be generalising nicely. We try 4 more epochs."
   ]
  },
  {
   "cell_type": "code",
   "execution_count": 8,
   "metadata": {
    "hidden": true
   },
   "outputs": [
    {
     "name": "stdout",
     "output_type": "stream",
     "text": [
      "Epoch 1/4\n",
      "31/31 [==============================] - 9s - loss: 1.4975 - acc: 0.5584 - val_loss: 1.9561 - val_acc: 0.3676\n",
      "Epoch 2/4\n",
      "31/31 [==============================] - 8s - loss: 1.2034 - acc: 0.6431 - val_loss: 1.4141 - val_acc: 0.5294\n",
      "Epoch 3/4\n",
      "31/31 [==============================] - 8s - loss: 1.2958 - acc: 0.6032 - val_loss: 1.7189 - val_acc: 0.4412\n",
      "Epoch 4/4\n",
      "31/31 [==============================] - 8s - loss: 1.0274 - acc: 0.6802 - val_loss: 1.5581 - val_acc: 0.5147\n"
     ]
    }
   ],
   "source": [
    "vgg.fit_batch(train_batches, val_batches, 4)"
   ]
  },
  {
   "cell_type": "markdown",
   "metadata": {
    "hidden": true
   },
   "source": [
    "Damn. Our valuation accuracy is destroyed. Try 4 more epochs with lower learning rate."
   ]
  },
  {
   "cell_type": "code",
   "execution_count": 9,
   "metadata": {
    "hidden": true
   },
   "outputs": [
    {
     "name": "stdout",
     "output_type": "stream",
     "text": [
      "Epoch 1/4\n",
      "31/31 [==============================] - 9s - loss: 1.0726 - acc: 0.6655 - val_loss: 1.6395 - val_acc: 0.4853\n",
      "Epoch 2/4\n",
      "31/31 [==============================] - 8s - loss: 1.0848 - acc: 0.6654 - val_loss: 1.7437 - val_acc: 0.4559\n",
      "Epoch 3/4\n",
      "31/31 [==============================] - 8s - loss: 0.9150 - acc: 0.6996 - val_loss: 1.5928 - val_acc: 0.4706\n",
      "Epoch 4/4\n",
      "31/31 [==============================] - 7s - loss: 0.9548 - acc: 0.7007 - val_loss: 1.6661 - val_acc: 0.5147\n"
     ]
    }
   ],
   "source": [
    "vgg.model.optimizer.lr = 0.001\n",
    "\n",
    "vgg.fit_batch(train_batches, val_batches, 4)"
   ]
  },
  {
   "cell_type": "markdown",
   "metadata": {
    "hidden": true
   },
   "source": [
    "Seems, this is as far as we can get on the sample data set. A pretty good base line in the area of 0.5"
   ]
  },
  {
   "cell_type": "markdown",
   "metadata": {
    "heading_collapsed": true
   },
   "source": [
    "## Finetune model - Full data\n",
    "\n",
    "We continue our finetuning on the full data set."
   ]
  },
  {
   "cell_type": "code",
   "execution_count": 10,
   "metadata": {
    "hidden": true
   },
   "outputs": [
    {
     "name": "stdout",
     "output_type": "stream",
     "text": [
      "Found 19624 images belonging to 10 classes.\n",
      "Found 2800 images belonging to 10 classes.\n"
     ]
    }
   ],
   "source": [
    "path = ''\n",
    "\n",
    "train_batches = vgg.get_batches(path + 'train', batch_size = batch_size)\n",
    "val_batches = vgg.get_batches(path + 'valid', batch_size = batch_size, shuffle = False)"
   ]
  },
  {
   "cell_type": "markdown",
   "metadata": {
    "hidden": true
   },
   "source": [
    "We start with a single epoch"
   ]
  },
  {
   "cell_type": "code",
   "execution_count": 11,
   "metadata": {
    "hidden": true
   },
   "outputs": [
    {
     "name": "stdout",
     "output_type": "stream",
     "text": [
      "Epoch 1/1\n",
      "613/613 [==============================] - 210s - loss: 1.0573 - acc: 0.6918 - val_loss: 1.4915 - val_acc: 0.5629\n"
     ]
    }
   ],
   "source": [
    "vgg.fit_batch(train_batches, val_batches, 1)"
   ]
  },
  {
   "cell_type": "markdown",
   "metadata": {
    "hidden": true
   },
   "source": [
    "We increase the learning rate and see, where that takes us."
   ]
  },
  {
   "cell_type": "code",
   "execution_count": 12,
   "metadata": {
    "hidden": true
   },
   "outputs": [
    {
     "name": "stdout",
     "output_type": "stream",
     "text": [
      "Epoch 1/4\n",
      "613/613 [==============================] - 168s - loss: 0.8641 - acc: 0.7518 - val_loss: 1.5046 - val_acc: 0.5916\n",
      "Epoch 2/4\n",
      "613/613 [==============================] - 178s - loss: 0.8482 - acc: 0.7637 - val_loss: 1.7478 - val_acc: 0.5766\n",
      "Epoch 3/4\n",
      "613/613 [==============================] - 162s - loss: 0.8170 - acc: 0.7781 - val_loss: 2.1161 - val_acc: 0.4888\n",
      "Epoch 4/4\n",
      "613/613 [==============================] - 159s - loss: 0.8262 - acc: 0.7836 - val_loss: 1.9024 - val_acc: 0.5173\n"
     ]
    }
   ],
   "source": [
    "vgg.model.optimizer.lr = 0.1\n",
    "\n",
    "vgg.fit_batch(train_batches, val_batches, 4)"
   ]
  },
  {
   "cell_type": "markdown",
   "metadata": {
    "hidden": true
   },
   "source": [
    "And then we lower the learning rate again, and see where we end up."
   ]
  },
  {
   "cell_type": "code",
   "execution_count": 13,
   "metadata": {
    "hidden": true
   },
   "outputs": [
    {
     "name": "stdout",
     "output_type": "stream",
     "text": [
      "Epoch 1/4\n",
      "613/613 [==============================] - 159s - loss: 0.8239 - acc: 0.7890 - val_loss: 2.3340 - val_acc: 0.5459\n",
      "Epoch 2/4\n",
      "613/613 [==============================] - 158s - loss: 0.8324 - acc: 0.7922 - val_loss: 1.8922 - val_acc: 0.5589\n",
      "Epoch 3/4\n",
      "613/613 [==============================] - 159s - loss: 0.8482 - acc: 0.7956 - val_loss: 2.2846 - val_acc: 0.4899\n",
      "Epoch 4/4\n",
      "613/613 [==============================] - 158s - loss: 0.8834 - acc: 0.7907 - val_loss: 2.3483 - val_acc: 0.4776\n"
     ]
    }
   ],
   "source": [
    "vgg.model.optimizer.lr = 0.001\n",
    "\n",
    "vgg.fit_batch(train_batches, val_batches, 4)"
   ]
  },
  {
   "cell_type": "markdown",
   "metadata": {
    "hidden": true
   },
   "source": [
    "The valuation accuracy is very fluctuating, and generally we are overfitting. Lets try and make more layers trainable and see, if that helps things along."
   ]
  },
  {
   "cell_type": "code",
   "execution_count": 14,
   "metadata": {
    "collapsed": true,
    "hidden": true
   },
   "outputs": [],
   "source": [
    "layers = vgg.model.layers\n",
    "# Get the index of the first dense layer...\n",
    "first_dense_idx = [index for index, layer in enumerate(layers) if type(layer) is Dense][0]\n",
    "# ...and set this and all subsequent layers to trainable\n",
    "for layer in layers[first_dense_idx:]: layer.trainable = True"
   ]
  },
  {
   "cell_type": "markdown",
   "metadata": {
    "hidden": true
   },
   "source": [
    "And then we rerun the training. First one epoch with low learning rate."
   ]
  },
  {
   "cell_type": "code",
   "execution_count": 15,
   "metadata": {
    "hidden": true
   },
   "outputs": [
    {
     "name": "stdout",
     "output_type": "stream",
     "text": [
      "Epoch 1/1\n",
      "613/613 [==============================] - 162s - loss: 0.8565 - acc: 0.7977 - val_loss: 2.3657 - val_acc: 0.4650\n"
     ]
    }
   ],
   "source": [
    "vgg.fit_batch(train_batches, val_batches, 1)"
   ]
  },
  {
   "cell_type": "markdown",
   "metadata": {
    "hidden": true
   },
   "source": [
    "Then four epochs with a higher learning rate."
   ]
  },
  {
   "cell_type": "code",
   "execution_count": 16,
   "metadata": {
    "hidden": true
   },
   "outputs": [
    {
     "name": "stdout",
     "output_type": "stream",
     "text": [
      "Epoch 1/4\n",
      "613/613 [==============================] - 162s - loss: 0.8592 - acc: 0.8017 - val_loss: 2.6086 - val_acc: 0.4780\n",
      "Epoch 2/4\n",
      "613/613 [==============================] - 161s - loss: 0.8587 - acc: 0.8018 - val_loss: 2.2977 - val_acc: 0.5184\n",
      "Epoch 3/4\n",
      "613/613 [==============================] - 160s - loss: 0.8650 - acc: 0.8109 - val_loss: 2.4273 - val_acc: 0.5210\n",
      "Epoch 4/4\n",
      "613/613 [==============================] - 161s - loss: 0.8732 - acc: 0.8079 - val_loss: 2.1531 - val_acc: 0.5455\n"
     ]
    }
   ],
   "source": [
    "vgg.model.optimizer.lr = 0.1\n",
    "\n",
    "vgg.fit_batch(train_batches, val_batches, 4)"
   ]
  },
  {
   "cell_type": "markdown",
   "metadata": {
    "hidden": true
   },
   "source": [
    "And then four epochs with a lower learning rate again."
   ]
  },
  {
   "cell_type": "code",
   "execution_count": 17,
   "metadata": {
    "hidden": true
   },
   "outputs": [
    {
     "name": "stdout",
     "output_type": "stream",
     "text": [
      "Epoch 1/4\n",
      "613/613 [==============================] - 159s - loss: 0.8897 - acc: 0.8087 - val_loss: 2.4408 - val_acc: 0.5007\n",
      "Epoch 2/4\n",
      "613/613 [==============================] - 158s - loss: 0.8835 - acc: 0.8093 - val_loss: 2.3475 - val_acc: 0.5242\n",
      "Epoch 3/4\n",
      "613/613 [==============================] - 157s - loss: 0.8668 - acc: 0.8116 - val_loss: 2.3265 - val_acc: 0.5419\n",
      "Epoch 4/4\n",
      "613/613 [==============================] - 158s - loss: 0.9162 - acc: 0.8090 - val_loss: 2.2137 - val_acc: 0.5611\n"
     ]
    }
   ],
   "source": [
    "vgg.model.optimizer.lr = 0.001\n",
    "\n",
    "vgg.fit_batch(train_batches, val_batches, 4)"
   ]
  },
  {
   "cell_type": "markdown",
   "metadata": {
    "hidden": true
   },
   "source": [
    "That did little to improve things. Let's try an even lower learning rate."
   ]
  },
  {
   "cell_type": "code",
   "execution_count": 18,
   "metadata": {
    "hidden": true
   },
   "outputs": [
    {
     "name": "stdout",
     "output_type": "stream",
     "text": [
      "Epoch 1/4\n",
      "613/613 [==============================] - 162s - loss: 0.9038 - acc: 0.8140 - val_loss: 2.4277 - val_acc: 0.5260\n",
      "Epoch 2/4\n",
      "613/613 [==============================] - 160s - loss: 0.9479 - acc: 0.8080 - val_loss: 2.6530 - val_acc: 0.5126\n",
      "Epoch 3/4\n",
      "613/613 [==============================] - 159s - loss: 0.9349 - acc: 0.8123 - val_loss: 2.2536 - val_acc: 0.5430\n",
      "Epoch 4/4\n",
      "613/613 [==============================] - 159s - loss: 0.9275 - acc: 0.8113 - val_loss: 2.2569 - val_acc: 0.5578\n"
     ]
    }
   ],
   "source": [
    "vgg.model.optimizer.lr = 0.00001\n",
    "\n",
    "vgg.fit_batch(train_batches, val_batches, 4)"
   ]
  },
  {
   "cell_type": "markdown",
   "metadata": {
    "hidden": true
   },
   "source": [
    "We're not improving at all. Let's save the weights and try a different approach."
   ]
  },
  {
   "cell_type": "code",
   "execution_count": 19,
   "metadata": {
    "collapsed": true,
    "hidden": true
   },
   "outputs": [],
   "source": [
    "vgg.model.save_weights('models/base_vgg16.h5')"
   ]
  },
  {
   "cell_type": "markdown",
   "metadata": {},
   "source": [
    "## Improved VGG\n",
    "\n",
    "We continue using the VGG16 network, but attempt to improve it. That is we want to keep the pretrained convolutional layers fixed, but use a new architecture for the dense layers.\n",
    "\n",
    "We start by defining a new VGG16() model."
   ]
  },
  {
   "cell_type": "code",
   "execution_count": 20,
   "metadata": {},
   "outputs": [
    {
     "name": "stdout",
     "output_type": "stream",
     "text": [
      "_________________________________________________________________\n",
      "Layer (type)                 Output Shape              Param #   \n",
      "=================================================================\n",
      "input_2 (InputLayer)         (None, 224, 224, 3)       0         \n",
      "_________________________________________________________________\n",
      "norm_layer (Lambda)          (None, 224, 224, 3)       0         \n",
      "_________________________________________________________________\n",
      "zero_padding2d_14 (ZeroPaddi (None, 226, 226, 3)       0         \n",
      "_________________________________________________________________\n",
      "conv_layer_1_0 (Conv2D)      (None, 224, 224, 64)      1792      \n",
      "_________________________________________________________________\n",
      "zero_padding2d_15 (ZeroPaddi (None, 226, 226, 64)      0         \n",
      "_________________________________________________________________\n",
      "conv_layer_1_1 (Conv2D)      (None, 224, 224, 64)      36928     \n",
      "_________________________________________________________________\n",
      "max_pooling2d_6 (MaxPooling2 (None, 112, 112, 64)      0         \n",
      "_________________________________________________________________\n",
      "zero_padding2d_16 (ZeroPaddi (None, 114, 114, 64)      0         \n",
      "_________________________________________________________________\n",
      "conv_layer_2_0 (Conv2D)      (None, 112, 112, 128)     73856     \n",
      "_________________________________________________________________\n",
      "zero_padding2d_17 (ZeroPaddi (None, 114, 114, 128)     0         \n",
      "_________________________________________________________________\n",
      "conv_layer_2_1 (Conv2D)      (None, 112, 112, 128)     147584    \n",
      "_________________________________________________________________\n",
      "max_pooling2d_7 (MaxPooling2 (None, 56, 56, 128)       0         \n",
      "_________________________________________________________________\n",
      "zero_padding2d_18 (ZeroPaddi (None, 58, 58, 128)       0         \n",
      "_________________________________________________________________\n",
      "conv_layer_3_0 (Conv2D)      (None, 56, 56, 256)       295168    \n",
      "_________________________________________________________________\n",
      "zero_padding2d_19 (ZeroPaddi (None, 58, 58, 256)       0         \n",
      "_________________________________________________________________\n",
      "conv_layer_3_1 (Conv2D)      (None, 56, 56, 256)       590080    \n",
      "_________________________________________________________________\n",
      "zero_padding2d_20 (ZeroPaddi (None, 58, 58, 256)       0         \n",
      "_________________________________________________________________\n",
      "conv_layer_3_2 (Conv2D)      (None, 56, 56, 256)       590080    \n",
      "_________________________________________________________________\n",
      "max_pooling2d_8 (MaxPooling2 (None, 28, 28, 256)       0         \n",
      "_________________________________________________________________\n",
      "zero_padding2d_21 (ZeroPaddi (None, 30, 30, 256)       0         \n",
      "_________________________________________________________________\n",
      "conv_layer_4_0 (Conv2D)      (None, 28, 28, 512)       1180160   \n",
      "_________________________________________________________________\n",
      "zero_padding2d_22 (ZeroPaddi (None, 30, 30, 512)       0         \n",
      "_________________________________________________________________\n",
      "conv_layer_4_1 (Conv2D)      (None, 28, 28, 512)       2359808   \n",
      "_________________________________________________________________\n",
      "zero_padding2d_23 (ZeroPaddi (None, 30, 30, 512)       0         \n",
      "_________________________________________________________________\n",
      "conv_layer_4_2 (Conv2D)      (None, 28, 28, 512)       2359808   \n",
      "_________________________________________________________________\n",
      "max_pooling2d_9 (MaxPooling2 (None, 14, 14, 512)       0         \n",
      "_________________________________________________________________\n",
      "zero_padding2d_24 (ZeroPaddi (None, 16, 16, 512)       0         \n",
      "_________________________________________________________________\n",
      "conv_layer_5_0 (Conv2D)      (None, 14, 14, 512)       2359808   \n",
      "_________________________________________________________________\n",
      "zero_padding2d_25 (ZeroPaddi (None, 16, 16, 512)       0         \n",
      "_________________________________________________________________\n",
      "conv_layer_5_1 (Conv2D)      (None, 14, 14, 512)       2359808   \n",
      "_________________________________________________________________\n",
      "zero_padding2d_26 (ZeroPaddi (None, 16, 16, 512)       0         \n",
      "_________________________________________________________________\n",
      "conv_layer_5_2 (Conv2D)      (None, 14, 14, 512)       2359808   \n",
      "_________________________________________________________________\n",
      "max_pooling2d_10 (MaxPooling (None, 7, 7, 512)         0         \n",
      "_________________________________________________________________\n",
      "flat_layer (Flatten)         (None, 25088)             0         \n",
      "_________________________________________________________________\n",
      "fc_layer_1 (Dense)           (None, 4096)              102764544 \n",
      "_________________________________________________________________\n",
      "dropout_3 (Dropout)          (None, 4096)              0         \n",
      "_________________________________________________________________\n",
      "fc_layer_2 (Dense)           (None, 4096)              16781312  \n",
      "_________________________________________________________________\n",
      "dropout_4 (Dropout)          (None, 4096)              0         \n",
      "_________________________________________________________________\n",
      "prediction (Dense)           (None, 1000)              4097000   \n",
      "=================================================================\n",
      "Total params: 138,357,544\n",
      "Trainable params: 138,357,544\n",
      "Non-trainable params: 0\n",
      "_________________________________________________________________\n"
     ]
    }
   ],
   "source": [
    "vgg = Vgg16()\n",
    "vgg.model.summary()"
   ]
  },
  {
   "cell_type": "markdown",
   "metadata": {},
   "source": [
    "We then proceed to find the last max pooling layer of the model."
   ]
  },
  {
   "cell_type": "code",
   "execution_count": 21,
   "metadata": {
    "collapsed": true
   },
   "outputs": [],
   "source": [
    "# Define convolutional layers\n",
    "last_conv_idx = [i for i, l in enumerate(vgg.model.layers) if type(l) is MaxPooling2D][-1]\n",
    "conv_layers = vgg.model.layers[:last_conv_idx + 1]"
   ]
  },
  {
   "cell_type": "markdown",
   "metadata": {},
   "source": [
    "We can then define a model using only the convolutional layers."
   ]
  },
  {
   "cell_type": "code",
   "execution_count": 22,
   "metadata": {},
   "outputs": [
    {
     "name": "stdout",
     "output_type": "stream",
     "text": [
      "_________________________________________________________________\n",
      "Layer (type)                 Output Shape              Param #   \n",
      "=================================================================\n",
      "input_2 (InputLayer)         (None, 224, 224, 3)       0         \n",
      "_________________________________________________________________\n",
      "norm_layer (Lambda)          (None, 224, 224, 3)       0         \n",
      "_________________________________________________________________\n",
      "zero_padding2d_14 (ZeroPaddi (None, 226, 226, 3)       0         \n",
      "_________________________________________________________________\n",
      "conv_layer_1_0 (Conv2D)      (None, 224, 224, 64)      1792      \n",
      "_________________________________________________________________\n",
      "zero_padding2d_15 (ZeroPaddi (None, 226, 226, 64)      0         \n",
      "_________________________________________________________________\n",
      "conv_layer_1_1 (Conv2D)      (None, 224, 224, 64)      36928     \n",
      "_________________________________________________________________\n",
      "max_pooling2d_6 (MaxPooling2 (None, 112, 112, 64)      0         \n",
      "_________________________________________________________________\n",
      "zero_padding2d_16 (ZeroPaddi (None, 114, 114, 64)      0         \n",
      "_________________________________________________________________\n",
      "conv_layer_2_0 (Conv2D)      (None, 112, 112, 128)     73856     \n",
      "_________________________________________________________________\n",
      "zero_padding2d_17 (ZeroPaddi (None, 114, 114, 128)     0         \n",
      "_________________________________________________________________\n",
      "conv_layer_2_1 (Conv2D)      (None, 112, 112, 128)     147584    \n",
      "_________________________________________________________________\n",
      "max_pooling2d_7 (MaxPooling2 (None, 56, 56, 128)       0         \n",
      "_________________________________________________________________\n",
      "zero_padding2d_18 (ZeroPaddi (None, 58, 58, 128)       0         \n",
      "_________________________________________________________________\n",
      "conv_layer_3_0 (Conv2D)      (None, 56, 56, 256)       295168    \n",
      "_________________________________________________________________\n",
      "zero_padding2d_19 (ZeroPaddi (None, 58, 58, 256)       0         \n",
      "_________________________________________________________________\n",
      "conv_layer_3_1 (Conv2D)      (None, 56, 56, 256)       590080    \n",
      "_________________________________________________________________\n",
      "zero_padding2d_20 (ZeroPaddi (None, 58, 58, 256)       0         \n",
      "_________________________________________________________________\n",
      "conv_layer_3_2 (Conv2D)      (None, 56, 56, 256)       590080    \n",
      "_________________________________________________________________\n",
      "max_pooling2d_8 (MaxPooling2 (None, 28, 28, 256)       0         \n",
      "_________________________________________________________________\n",
      "zero_padding2d_21 (ZeroPaddi (None, 30, 30, 256)       0         \n",
      "_________________________________________________________________\n",
      "conv_layer_4_0 (Conv2D)      (None, 28, 28, 512)       1180160   \n",
      "_________________________________________________________________\n",
      "zero_padding2d_22 (ZeroPaddi (None, 30, 30, 512)       0         \n",
      "_________________________________________________________________\n",
      "conv_layer_4_1 (Conv2D)      (None, 28, 28, 512)       2359808   \n",
      "_________________________________________________________________\n",
      "zero_padding2d_23 (ZeroPaddi (None, 30, 30, 512)       0         \n",
      "_________________________________________________________________\n",
      "conv_layer_4_2 (Conv2D)      (None, 28, 28, 512)       2359808   \n",
      "_________________________________________________________________\n",
      "max_pooling2d_9 (MaxPooling2 (None, 14, 14, 512)       0         \n",
      "_________________________________________________________________\n",
      "zero_padding2d_24 (ZeroPaddi (None, 16, 16, 512)       0         \n",
      "_________________________________________________________________\n",
      "conv_layer_5_0 (Conv2D)      (None, 14, 14, 512)       2359808   \n",
      "_________________________________________________________________\n",
      "zero_padding2d_25 (ZeroPaddi (None, 16, 16, 512)       0         \n",
      "_________________________________________________________________\n",
      "conv_layer_5_1 (Conv2D)      (None, 14, 14, 512)       2359808   \n",
      "_________________________________________________________________\n",
      "zero_padding2d_26 (ZeroPaddi (None, 16, 16, 512)       0         \n",
      "_________________________________________________________________\n",
      "conv_layer_5_2 (Conv2D)      (None, 14, 14, 512)       2359808   \n",
      "_________________________________________________________________\n",
      "max_pooling2d_10 (MaxPooling (None, 7, 7, 512)         0         \n",
      "=================================================================\n",
      "Total params: 14,714,688\n",
      "Trainable params: 14,714,688\n",
      "Non-trainable params: 0\n",
      "_________________________________________________________________\n"
     ]
    }
   ],
   "source": [
    "conv_model = Sequential(conv_layers)\n",
    "conv_model.summary()"
   ]
  },
  {
   "cell_type": "markdown",
   "metadata": {},
   "source": [
    "The idea is now, that we want to pre-computer all of our data through the convolutional layers. This will drastically reduce the training time, once we start experimenting with dense model architecture.\n",
    "\n",
    "We start by defining our batches."
   ]
  },
  {
   "cell_type": "code",
   "execution_count": 23,
   "metadata": {},
   "outputs": [
    {
     "name": "stdout",
     "output_type": "stream",
     "text": [
      "Found 19624 images belonging to 10 classes.\n",
      "Found 2800 images belonging to 10 classes.\n",
      "Found 79726 images belonging to 1 classes.\n"
     ]
    }
   ],
   "source": [
    "path = ''\n",
    "\n",
    "train_batches = get_batches(path + 'train', batch_size = 44, target_size = (224, 224), shuffle = False)\n",
    "\n",
    "valid_batches = get_batches(path + 'valid', batch_size = 50, target_size = (224, 224), shuffle = False)\n",
    "\n",
    "test_batches = get_batches(path + 'test', batch_size = 2, target_size = (224, 224), shuffle = False, class_mode = None)"
   ]
  },
  {
   "cell_type": "markdown",
   "metadata": {},
   "source": [
    "We also extract labels and classes for each dataset."
   ]
  },
  {
   "cell_type": "code",
   "execution_count": 24,
   "metadata": {},
   "outputs": [
    {
     "name": "stdout",
     "output_type": "stream",
     "text": [
      "Found 19624 images belonging to 10 classes.\n",
      "Found 2800 images belonging to 10 classes.\n",
      "Found 79726 images belonging to 1 classes.\n"
     ]
    }
   ],
   "source": [
    "(val_classes, trn_classes, val_labels, trn_labels, \n",
    " val_filenames, filenames, test_filenames) = get_classes(path)"
   ]
  },
  {
   "cell_type": "markdown",
   "metadata": {
    "collapsed": true
   },
   "source": [
    "We then pre-compute each of our datasets and save the numpy arrays. This eats a lot of memory on the poor AWS instance, so after each data computation, we do some cleanup to realease the memory. We save and load using bcolz, as it utilises great compression and does I/O very fast."
   ]
  },
  {
   "cell_type": "code",
   "execution_count": 25,
   "metadata": {},
   "outputs": [
    {
     "data": {
      "text/plain": [
       "5"
      ]
     },
     "execution_count": 25,
     "metadata": {},
     "output_type": "execute_result"
    }
   ],
   "source": [
    "conv_feat = conv_model.predict_generator(train_batches, np.int(train_batches.samples / train_batches.batch_size))\n",
    "save_array(path + 'results/conv_computed/conv_feat.dat', conv_feat)\n",
    "\n",
    "del conv_feat\n",
    "gc.collect()"
   ]
  },
  {
   "cell_type": "code",
   "execution_count": 26,
   "metadata": {},
   "outputs": [
    {
     "data": {
      "text/plain": [
       "0"
      ]
     },
     "execution_count": 26,
     "metadata": {},
     "output_type": "execute_result"
    }
   ],
   "source": [
    "conv_val_feat = conv_model.predict_generator(valid_batches, np.int(valid_batches.samples / valid_batches.batch_size))\n",
    "save_array(path + 'results/conv_computed/conv_val_feat.dat', conv_val_feat)\n",
    "\n",
    "del conv_val_feat\n",
    "gc.collect()"
   ]
  },
  {
   "cell_type": "code",
   "execution_count": 27,
   "metadata": {},
   "outputs": [
    {
     "data": {
      "text/plain": [
       "0"
      ]
     },
     "execution_count": 27,
     "metadata": {},
     "output_type": "execute_result"
    }
   ],
   "source": [
    "conv_test_feat = conv_model.predict_generator(test_batches, np.int(test_batches.samples / test_batches.batch_size))\n",
    "save_array(path + 'results/conv_computed/conv_test_feat.dat', conv_test_feat)\n",
    "\n",
    "del conv_test_feat\n",
    "gc.collect()"
   ]
  },
  {
   "cell_type": "markdown",
   "metadata": {
    "collapsed": true
   },
   "source": [
    "And finally, we can load the three feature sets"
   ]
  },
  {
   "cell_type": "code",
   "execution_count": 28,
   "metadata": {
    "collapsed": true
   },
   "outputs": [],
   "source": [
    "conv_feat = load_array('results/conv_computed/conv_feat.dat')\n",
    "conv_val_feat = load_array('results/conv_computed/conv_val_feat.dat')\n",
    "conv_test_feat = load_array('results/conv_computed/conv_test_feat.dat')"
   ]
  },
  {
   "cell_type": "code",
   "execution_count": null,
   "metadata": {
    "collapsed": true
   },
   "outputs": [],
   "source": []
  },
  {
   "cell_type": "markdown",
   "metadata": {},
   "source": [
    "## VGG model with batchnorm dense laysers on pretrained conv layers\n",
    "\n",
    "Since we've pre-computed the output of the last convolutional layer, we need to create a network that takes that as input, and predicts our 10 classes. Let's try using a simplified version of VGG's dense layers."
   ]
  },
  {
   "cell_type": "code",
   "execution_count": 29,
   "metadata": {
    "collapsed": true
   },
   "outputs": [],
   "source": [
    "def batch_norm_model(base_model, p):\n",
    "    \"\"\"\n",
    "    Function providing a more modern dense layer to the VGG16.\n",
    "    I.e. it utilizes batch normalisation.\n",
    "    \n",
    "    Args:\n",
    "        - base_model: A keras model object.\n",
    "        - p: Total level of dropout (will be devided by two in first layers)\n",
    "        \n",
    "    Returns:\n",
    "        - A keras model object ready to be compiled.\n",
    "    \"\"\"\n",
    "    \n",
    "    inputs = Input(shape = base_model[-1].output_shape[1:])\n",
    "        \n",
    "    flat_layer = Flatten()(inputs)\n",
    "        \n",
    "    dense_layer_1 = Dropout(p / 2)(flat_layer)\n",
    "    dense_layer_1 = Dense(128, activation='relu')(dense_layer_1)\n",
    "    dense_layer_2 = BatchNormalization()(dense_layer_1)\n",
    "    dense_layer_2 = Dropout(p / 2)(dense_layer_2)\n",
    "    dense_layer_2 = Dense(128, activation='relu')(dense_layer_2)\n",
    "    dense_layer_3 = BatchNormalization()(dense_layer_2)\n",
    "    dense_layer_3 = Dropout(p)(dense_layer_3)\n",
    "    dense_layer_3 = Dense(10, activation='softmax')(dense_layer_3)\n",
    "    \n",
    "    model = Model(inputs = inputs, outputs = dense_layer_3)\n",
    "    \n",
    "    return model\n",
    "\n",
    "# Set level of dropout\n",
    "p = 0.8\n",
    "\n",
    "# Set batch size\n",
    "batch_size = 32"
   ]
  },
  {
   "cell_type": "markdown",
   "metadata": {},
   "source": [
    "Lets define and compile the model. We run a single epoch on the default learning rate."
   ]
  },
  {
   "cell_type": "code",
   "execution_count": 30,
   "metadata": {},
   "outputs": [
    {
     "name": "stdout",
     "output_type": "stream",
     "text": [
      "Train on 19624 samples, validate on 2800 samples\n",
      "Epoch 1/1\n",
      "19624/19624 [==============================] - 11s - loss: 1.4971 - acc: 0.5927 - val_loss: 0.7734 - val_acc: 0.7304\n"
     ]
    },
    {
     "data": {
      "text/plain": [
       "<keras.callbacks.History at 0x1a485aa3f28>"
      ]
     },
     "execution_count": 30,
     "metadata": {},
     "output_type": "execute_result"
    }
   ],
   "source": [
    "bn_model = batch_norm_model(conv_layers, p)\n",
    "\n",
    "bn_model.compile(optimizer = Adam(lr = 0.001),\n",
    "                 loss = 'categorical_crossentropy',\n",
    "                 metrics = ['accuracy'])\n",
    "\n",
    "bn_model.fit(x = conv_feat,\n",
    "             y = trn_labels,\n",
    "             batch_size = batch_size,\n",
    "             epochs = 1,\n",
    "             validation_data = (conv_val_feat, val_labels))"
   ]
  },
  {
   "cell_type": "markdown",
   "metadata": {},
   "source": [
    "So very fast(!), we see a major improvement over the base VGG16 model. Lets continue running for a few more epochs at a lower learning rate."
   ]
  },
  {
   "cell_type": "code",
   "execution_count": 31,
   "metadata": {},
   "outputs": [
    {
     "name": "stdout",
     "output_type": "stream",
     "text": [
      "Train on 19624 samples, validate on 2800 samples\n",
      "Epoch 1/4\n",
      "19624/19624 [==============================] - 10s - loss: 0.2543 - acc: 0.9223 - val_loss: 0.6655 - val_acc: 0.7568\n",
      "Epoch 2/4\n",
      "19624/19624 [==============================] - 10s - loss: 0.1363 - acc: 0.9589 - val_loss: 0.7253 - val_acc: 0.7464\n",
      "Epoch 3/4\n",
      "19624/19624 [==============================] - 10s - loss: 0.1001 - acc: 0.9706 - val_loss: 0.6854 - val_acc: 0.7693\n",
      "Epoch 4/4\n",
      "19624/19624 [==============================] - 10s - loss: 0.0814 - acc: 0.9752 - val_loss: 0.8364 - val_acc: 0.7364\n"
     ]
    },
    {
     "data": {
      "text/plain": [
       "<keras.callbacks.History at 0x1a483fb96a0>"
      ]
     },
     "execution_count": 31,
     "metadata": {},
     "output_type": "execute_result"
    }
   ],
   "source": [
    "bn_model.optimizer.lr = 0.0001\n",
    "\n",
    "bn_model.fit(x = conv_feat,\n",
    "             y = trn_labels,\n",
    "             batch_size = batch_size,\n",
    "             epochs = 4,\n",
    "             validation_data = (conv_val_feat, val_labels))"
   ]
  },
  {
   "cell_type": "markdown",
   "metadata": {},
   "source": [
    "So we are starting to overfit quite a bit. We have pretty much done as much as we could with the base model, in terms of regularisation. We have added dropout and batchnorm. Time to take a look and see if we can improve the input to the model."
   ]
  },
  {
   "cell_type": "markdown",
   "metadata": {},
   "source": [
    "## VGG model with precomputed augmentation and dropout.\n",
    "\n",
    "We precompute some augmented data in order to reduce the overfitting of out model. We start by setting the level of preprocessing and then define a new bunch of batches."
   ]
  },
  {
   "cell_type": "code",
   "execution_count": 32,
   "metadata": {},
   "outputs": [
    {
     "name": "stdout",
     "output_type": "stream",
     "text": [
      "Found 19624 images belonging to 10 classes.\n"
     ]
    }
   ],
   "source": [
    "gen_t = image.ImageDataGenerator(rotation_range = 15,\n",
    "                                 height_shift_range = 0.05,\n",
    "                                 shear_range = 0.1,\n",
    "                                 channel_shift_range = 20,\n",
    "                                 width_shift_range = 0.1)\n",
    "\n",
    "da_batches = get_batches(path + 'train',\n",
    "                         gen_t,\n",
    "                         batch_size = 44,\n",
    "                         shuffle = False,\n",
    "                         target_size = (224, 224))"
   ]
  },
  {
   "cell_type": "markdown",
   "metadata": {},
   "source": [
    "We then make 5 full cycles (epochs) of the training data, precomputing the convolutional layer on the augmented images."
   ]
  },
  {
   "cell_type": "code",
   "execution_count": 33,
   "metadata": {},
   "outputs": [
    {
     "data": {
      "text/plain": [
       "0"
      ]
     },
     "execution_count": 33,
     "metadata": {},
     "output_type": "execute_result"
    }
   ],
   "source": [
    "da_conv_feat = conv_model.predict_generator(da_batches, np.int(da_batches.samples / da_batches.batch_size) * 5)\n",
    "save_array(path + 'results/conv_computed/da_conv_feat.dat', da_conv_feat)\n",
    "\n",
    "del da_conv_feat\n",
    "gc.collect()"
   ]
  },
  {
   "cell_type": "markdown",
   "metadata": {},
   "source": [
    "We can then load the pre-compuited and augmented data."
   ]
  },
  {
   "cell_type": "code",
   "execution_count": 34,
   "metadata": {
    "collapsed": true
   },
   "outputs": [],
   "source": [
    "da_conv_feat = load_array(path + 'results/conv_computed/da_conv_feat.dat')"
   ]
  },
  {
   "cell_type": "markdown",
   "metadata": {},
   "source": [
    "And then concatenate it with our existing precomputed training data."
   ]
  },
  {
   "cell_type": "code",
   "execution_count": 35,
   "metadata": {
    "collapsed": true
   },
   "outputs": [],
   "source": [
    "da_conv_feat = np.concatenate([da_conv_feat, conv_feat])"
   ]
  },
  {
   "cell_type": "markdown",
   "metadata": {},
   "source": [
    "We now have 6 times as many features, but luckily order is preserved, so we can just multiply the labels with 6."
   ]
  },
  {
   "cell_type": "code",
   "execution_count": 36,
   "metadata": {
    "collapsed": true
   },
   "outputs": [],
   "source": [
    "da_trn_labels = np.concatenate([trn_labels] * 6)"
   ]
  },
  {
   "cell_type": "markdown",
   "metadata": {},
   "source": [
    "We can then run the model again, but we try use use bigger dense layers and some more dropout."
   ]
  },
  {
   "cell_type": "code",
   "execution_count": 37,
   "metadata": {
    "collapsed": true
   },
   "outputs": [],
   "source": [
    "def batch_norm_model_bigger(base_model, p):\n",
    "    \n",
    "    inputs = Input(shape = base_model[-1].output_shape[1:])\n",
    "        \n",
    "    flat_layer = Flatten()(inputs)\n",
    "        \n",
    "    dense_layer_1 = Dropout(p)(flat_layer)\n",
    "    dense_layer_1 = Dense(256, activation='relu')(dense_layer_1)\n",
    "    dense_layer_2 = BatchNormalization()(dense_layer_1)\n",
    "    dense_layer_2 = Dropout(p)(dense_layer_2)\n",
    "    dense_layer_2 = Dense(256, activation='relu')(dense_layer_2)\n",
    "    dense_layer_3 = BatchNormalization()(dense_layer_2)\n",
    "    dense_layer_3 = Dropout(p)(dense_layer_3)\n",
    "    dense_layer_3 = Dense(10, activation='softmax')(dense_layer_3)\n",
    "    \n",
    "    model = Model(inputs = inputs, outputs = dense_layer_3)\n",
    "    \n",
    "    return model\n",
    "\n",
    "# Define level of dropout\n",
    "p = 0.8\n",
    "\n",
    "# Define batch size\n",
    "batch_size = 32"
   ]
  },
  {
   "cell_type": "markdown",
   "metadata": {},
   "source": [
    "Re then compile the model, and run it for a single epoch on the augmented data at the defulat learning rate."
   ]
  },
  {
   "cell_type": "code",
   "execution_count": 38,
   "metadata": {},
   "outputs": [
    {
     "name": "stdout",
     "output_type": "stream",
     "text": [
      "Train on 117744 samples, validate on 2800 samples\n",
      "Epoch 1/1\n",
      "117744/117744 [==============================] - 71s - loss: 1.5041 - acc: 0.5137 - val_loss: 0.6635 - val_acc: 0.8154\n"
     ]
    },
    {
     "data": {
      "text/plain": [
       "<keras.callbacks.History at 0x1a499c258d0>"
      ]
     },
     "execution_count": 38,
     "metadata": {},
     "output_type": "execute_result"
    }
   ],
   "source": [
    "bn_model_bigger = batch_norm_model_bigger(conv_layers, p)\n",
    "\n",
    "bn_model_bigger.compile(optimizer = Adam(lr = 0.001),\n",
    "                        loss = 'categorical_crossentropy',\n",
    "                        metrics = ['accuracy'])\n",
    "\n",
    "bn_model_bigger.fit(x = da_conv_feat,\n",
    "                    y = da_trn_labels,\n",
    "                    batch_size = batch_size,\n",
    "                    epochs = 1,\n",
    "                    validation_data = (conv_val_feat, val_labels))"
   ]
  },
  {
   "cell_type": "markdown",
   "metadata": {},
   "source": [
    "So this model is a bit heavier. Already we are underfitting quite a bit. We increase the learning rate and run for 4 epochs."
   ]
  },
  {
   "cell_type": "code",
   "execution_count": 39,
   "metadata": {},
   "outputs": [
    {
     "name": "stdout",
     "output_type": "stream",
     "text": [
      "Train on 117744 samples, validate on 2800 samples\n",
      "Epoch 1/4\n",
      "117744/117744 [==============================] - 69s - loss: 0.7201 - acc: 0.7614 - val_loss: 0.5816 - val_acc: 0.8296\n",
      "Epoch 2/4\n",
      "117744/117744 [==============================] - 70s - loss: 0.5850 - acc: 0.8104 - val_loss: 0.5832 - val_acc: 0.8296\n",
      "Epoch 3/4\n",
      "117744/117744 [==============================] - 69s - loss: 0.5161 - acc: 0.8341 - val_loss: 0.5746 - val_acc: 0.8282\n",
      "Epoch 4/4\n",
      "117744/117744 [==============================] - 70s - loss: 0.4650 - acc: 0.8528 - val_loss: 0.5889 - val_acc: 0.8243\n"
     ]
    },
    {
     "data": {
      "text/plain": [
       "<keras.callbacks.History at 0x1a483e23358>"
      ]
     },
     "execution_count": 39,
     "metadata": {},
     "output_type": "execute_result"
    }
   ],
   "source": [
    "bn_model_bigger.optimizer.lr = 0.01\n",
    "\n",
    "bn_model_bigger.fit(x = da_conv_feat,\n",
    "                    y = da_trn_labels,\n",
    "                    batch_size = batch_size,\n",
    "                    epochs = 4,\n",
    "                    validation_data = (conv_val_feat, val_labels))"
   ]
  },
  {
   "cell_type": "markdown",
   "metadata": {},
   "source": [
    "Now our training and valuation accuracy seems more ballanced. Let's lower the learning rate again and train for 4 more epochs."
   ]
  },
  {
   "cell_type": "code",
   "execution_count": 40,
   "metadata": {},
   "outputs": [
    {
     "name": "stdout",
     "output_type": "stream",
     "text": [
      "Train on 117744 samples, validate on 2800 samples\n",
      "Epoch 1/4\n",
      "117744/117744 [==============================] - 69s - loss: 0.4315 - acc: 0.8628 - val_loss: 0.5513 - val_acc: 0.8382\n",
      "Epoch 2/4\n",
      "117744/117744 [==============================] - 70s - loss: 0.4094 - acc: 0.8697 - val_loss: 0.5380 - val_acc: 0.8371\n",
      "Epoch 3/4\n",
      "117744/117744 [==============================] - 70s - loss: 0.3896 - acc: 0.8774 - val_loss: 0.5447 - val_acc: 0.8311\n",
      "Epoch 4/4\n",
      "117744/117744 [==============================] - 68s - loss: 0.3713 - acc: 0.8827 - val_loss: 0.5238 - val_acc: 0.8468\n"
     ]
    },
    {
     "data": {
      "text/plain": [
       "<keras.callbacks.History at 0x1a485b2aef0>"
      ]
     },
     "execution_count": 40,
     "metadata": {},
     "output_type": "execute_result"
    }
   ],
   "source": [
    "bn_model_bigger.optimizer.lr = 0.0001\n",
    "\n",
    "bn_model_bigger.fit(x = da_conv_feat,\n",
    "                    y = da_trn_labels,\n",
    "                    batch_size = batch_size,\n",
    "                    epochs = 4,\n",
    "                    validation_data = (conv_val_feat, val_labels))"
   ]
  },
  {
   "cell_type": "markdown",
   "metadata": {},
   "source": [
    "Seems like we are levelling off at this point. Let's attempt a final improvement by using pseudo labelling."
   ]
  },
  {
   "cell_type": "markdown",
   "metadata": {
    "heading_collapsed": true
   },
   "source": [
    "## Pseudolabeling\n",
    "\n",
    "We're going to try using a combination of [pseudo labeling](http://deeplearning.net/wp-content/uploads/2013/03/pseudo_label_final.pdf) and [knowledge distillation](https://arxiv.org/abs/1503.02531) to allow us to use unlabeled data (i.e. do semi-supervised learning). For our initial experiment we'll use the validation set as the unlabeled data, so that we can see that it is working without using the test set. Afterwards we add the test set as well."
   ]
  },
  {
   "cell_type": "code",
   "execution_count": 41,
   "metadata": {
    "collapsed": true,
    "hidden": true
   },
   "outputs": [],
   "source": [
    "val_pseudo = bn_model_bigger.predict(conv_val_feat, batch_size = 50)"
   ]
  },
  {
   "cell_type": "markdown",
   "metadata": {
    "hidden": true
   },
   "source": [
    "We concatenate thse pseudo labels with our training labels"
   ]
  },
  {
   "cell_type": "code",
   "execution_count": 42,
   "metadata": {
    "collapsed": true,
    "hidden": true
   },
   "outputs": [],
   "source": [
    "comb_pseudo = np.concatenate([da_trn_labels, val_pseudo])\n",
    "comb_feat = np.concatenate([da_conv_feat, conv_val_feat])"
   ]
  },
  {
   "cell_type": "markdown",
   "metadata": {
    "hidden": true
   },
   "source": [
    "And train our model using the extended data set."
   ]
  },
  {
   "cell_type": "code",
   "execution_count": 43,
   "metadata": {
    "hidden": true
   },
   "outputs": [
    {
     "name": "stdout",
     "output_type": "stream",
     "text": [
      "Train on 120544 samples, validate on 2800 samples\n",
      "Epoch 1/1\n",
      "120544/120544 [==============================] - 72s - loss: 0.3758 - acc: 0.8832 - val_loss: 0.5251 - val_acc: 0.8511\n"
     ]
    },
    {
     "data": {
      "text/plain": [
       "<keras.callbacks.History at 0x1a4836af630>"
      ]
     },
     "execution_count": 43,
     "metadata": {},
     "output_type": "execute_result"
    }
   ],
   "source": [
    "bn_model_bigger.optimizer.lr = 0.001\n",
    "\n",
    "bn_model_bigger.fit(x = comb_feat,\n",
    "                    y = comb_pseudo,\n",
    "                    batch_size = batch_size,\n",
    "                    epochs = 1,\n",
    "                    validation_data = (conv_val_feat, val_labels))"
   ]
  },
  {
   "cell_type": "markdown",
   "metadata": {
    "hidden": true
   },
   "source": [
    "We do not really see much of an improvement. Let's try 4 more epochs."
   ]
  },
  {
   "cell_type": "code",
   "execution_count": 44,
   "metadata": {
    "hidden": true
   },
   "outputs": [
    {
     "name": "stdout",
     "output_type": "stream",
     "text": [
      "Train on 120544 samples, validate on 2800 samples\n",
      "Epoch 1/4\n",
      "120544/120544 [==============================] - 67s - loss: 0.3585 - acc: 0.8888 - val_loss: 0.5534 - val_acc: 0.8482\n",
      "Epoch 2/4\n",
      "120544/120544 [==============================] - 66s - loss: 0.3487 - acc: 0.8919 - val_loss: 0.5538 - val_acc: 0.8571\n",
      "Epoch 3/4\n",
      "120544/120544 [==============================] - 67s - loss: 0.3421 - acc: 0.8953 - val_loss: 0.5239 - val_acc: 0.8582\n",
      "Epoch 4/4\n",
      "120544/120544 [==============================] - 67s - loss: 0.3359 - acc: 0.8961 - val_loss: 0.5326 - val_acc: 0.8596\n"
     ]
    },
    {
     "data": {
      "text/plain": [
       "<keras.callbacks.History at 0x1a499a40f98>"
      ]
     },
     "execution_count": 44,
     "metadata": {},
     "output_type": "execute_result"
    }
   ],
   "source": [
    "bn_model_bigger.fit(x = comb_feat,\n",
    "                    y = comb_pseudo,\n",
    "                    batch_size = batch_size,\n",
    "                    epochs = 4,\n",
    "                    validation_data = (conv_val_feat, val_labels))"
   ]
  },
  {
   "cell_type": "markdown",
   "metadata": {
    "hidden": true
   },
   "source": [
    "Now we are crossing the 0.9 threshold of accuracy. Lets lower the learning rate and train for 4 more epochs and see where that gets us."
   ]
  },
  {
   "cell_type": "code",
   "execution_count": 45,
   "metadata": {
    "hidden": true
   },
   "outputs": [
    {
     "name": "stdout",
     "output_type": "stream",
     "text": [
      "Train on 120544 samples, validate on 2800 samples\n",
      "Epoch 1/4\n",
      "120544/120544 [==============================] - 67s - loss: 0.3263 - acc: 0.8995 - val_loss: 0.5706 - val_acc: 0.8504\n",
      "Epoch 2/4\n",
      "120544/120544 [==============================] - 67s - loss: 0.3211 - acc: 0.9009 - val_loss: 0.5411 - val_acc: 0.8571\n",
      "Epoch 3/4\n",
      "120544/120544 [==============================] - 66s - loss: 0.3129 - acc: 0.9039 - val_loss: 0.5434 - val_acc: 0.8554\n",
      "Epoch 4/4\n",
      "120544/120544 [==============================] - 66s - loss: 0.3072 - acc: 0.9054 - val_loss: 0.5155 - val_acc: 0.8593\n"
     ]
    },
    {
     "data": {
      "text/plain": [
       "<keras.callbacks.History at 0x1a499a34908>"
      ]
     },
     "execution_count": 45,
     "metadata": {},
     "output_type": "execute_result"
    }
   ],
   "source": [
    "bn_model_bigger.optimizer.lr = 0.00001\n",
    "\n",
    "bn_model_bigger.fit(x = comb_feat,\n",
    "                    y = comb_pseudo,\n",
    "                    batch_size = batch_size,\n",
    "                    epochs = 4,\n",
    "                    validation_data = (conv_val_feat, val_labels))"
   ]
  },
  {
   "cell_type": "markdown",
   "metadata": {
    "hidden": true
   },
   "source": [
    "So we do see a pretty nice improvement. Enough to warrent us trying with the entire test set."
   ]
  },
  {
   "cell_type": "code",
   "execution_count": 46,
   "metadata": {
    "collapsed": true,
    "hidden": true
   },
   "outputs": [],
   "source": [
    "test_pseudo = bn_model_bigger.predict(conv_test_feat, batch_size = 2)"
   ]
  },
  {
   "cell_type": "markdown",
   "metadata": {
    "hidden": true
   },
   "source": [
    "We concatenate thse pseudo labels with our training and valuation pseudo labels"
   ]
  },
  {
   "cell_type": "code",
   "execution_count": 47,
   "metadata": {
    "collapsed": true,
    "hidden": true
   },
   "outputs": [],
   "source": [
    "comb_pseudo = np.concatenate([comb_pseudo, test_pseudo])\n",
    "comb_feat = np.concatenate([comb_feat, conv_test_feat])"
   ]
  },
  {
   "cell_type": "markdown",
   "metadata": {
    "hidden": true
   },
   "source": [
    "And train our model using the extended data set."
   ]
  },
  {
   "cell_type": "code",
   "execution_count": 48,
   "metadata": {
    "hidden": true
   },
   "outputs": [
    {
     "name": "stdout",
     "output_type": "stream",
     "text": [
      "Train on 200270 samples, validate on 2800 samples\n",
      "Epoch 1/1\n",
      "200270/200270 [==============================] - 113s - loss: 0.5931 - acc: 0.8343 - val_loss: 0.4971 - val_acc: 0.8543\n"
     ]
    },
    {
     "data": {
      "text/plain": [
       "<keras.callbacks.History at 0x1a48359b630>"
      ]
     },
     "execution_count": 48,
     "metadata": {},
     "output_type": "execute_result"
    }
   ],
   "source": [
    "bn_model_bigger.optimizer.lr = 0.001\n",
    "\n",
    "bn_model_bigger.fit(x = comb_feat,\n",
    "                    y = comb_pseudo,\n",
    "                    batch_size = batch_size,\n",
    "                    epochs = 1,\n",
    "                    validation_data = (conv_val_feat, val_labels))"
   ]
  },
  {
   "cell_type": "markdown",
   "metadata": {
    "hidden": true
   },
   "source": [
    "Hrm, too early to say, but valuation accuracy holds still. Let's run 4 more epochs."
   ]
  },
  {
   "cell_type": "code",
   "execution_count": 49,
   "metadata": {
    "hidden": true
   },
   "outputs": [
    {
     "name": "stdout",
     "output_type": "stream",
     "text": [
      "Train on 200270 samples, validate on 2800 samples\n",
      "Epoch 1/4\n",
      "200270/200270 [==============================] - 117s - loss: 0.5552 - acc: 0.8500 - val_loss: 0.4972 - val_acc: 0.8539\n",
      "Epoch 2/4\n",
      "200270/200270 [==============================] - 117s - loss: 0.5386 - acc: 0.8556 - val_loss: 0.4828 - val_acc: 0.8575\n",
      "Epoch 3/4\n",
      "200270/200270 [==============================] - 117s - loss: 0.5312 - acc: 0.8593 - val_loss: 0.4982 - val_acc: 0.8543\n",
      "Epoch 4/4\n",
      "200270/200270 [==============================] - 119s - loss: 0.5230 - acc: 0.8623 - val_loss: 0.4897 - val_acc: 0.8568\n"
     ]
    },
    {
     "data": {
      "text/plain": [
       "<keras.callbacks.History at 0x1a485843eb8>"
      ]
     },
     "execution_count": 49,
     "metadata": {},
     "output_type": "execute_result"
    }
   ],
   "source": [
    "bn_model_bigger.fit(x = comb_feat,\n",
    "                    y = comb_pseudo,\n",
    "                    batch_size = batch_size,\n",
    "                    epochs = 4,\n",
    "                    validation_data = (conv_val_feat, val_labels))"
   ]
  },
  {
   "cell_type": "markdown",
   "metadata": {
    "hidden": true
   },
   "source": [
    "Let's lower the learning rate again and run 4 more epochs."
   ]
  },
  {
   "cell_type": "code",
   "execution_count": 50,
   "metadata": {
    "hidden": true
   },
   "outputs": [
    {
     "name": "stdout",
     "output_type": "stream",
     "text": [
      "Train on 200270 samples, validate on 2800 samples\n",
      "Epoch 1/4\n",
      "200270/200270 [==============================] - 118s - loss: 0.5206 - acc: 0.8629 - val_loss: 0.4906 - val_acc: 0.8539\n",
      "Epoch 2/4\n",
      "200270/200270 [==============================] - 117s - loss: 0.5126 - acc: 0.8669 - val_loss: 0.4879 - val_acc: 0.8518\n",
      "Epoch 3/4\n",
      "200270/200270 [==============================] - 117s - loss: 0.5100 - acc: 0.8678 - val_loss: 0.4978 - val_acc: 0.8525\n",
      "Epoch 4/4\n",
      "200270/200270 [==============================] - 116s - loss: 0.5087 - acc: 0.8691 - val_loss: 0.4902 - val_acc: 0.8554\n"
     ]
    },
    {
     "data": {
      "text/plain": [
       "<keras.callbacks.History at 0x1a483f06d30>"
      ]
     },
     "execution_count": 50,
     "metadata": {},
     "output_type": "execute_result"
    }
   ],
   "source": [
    "bn_model_bigger.optimizer.lr = 0.00001\n",
    "\n",
    "bn_model_bigger.fit(x = comb_feat,\n",
    "                    y = comb_pseudo,\n",
    "                    batch_size = batch_size,\n",
    "                    epochs = 4,\n",
    "                    validation_data = (conv_val_feat, val_labels))"
   ]
  },
  {
   "cell_type": "markdown",
   "metadata": {
    "hidden": true
   },
   "source": [
    "We are improving slowly. Let's run for 10 more epochs."
   ]
  },
  {
   "cell_type": "code",
   "execution_count": 51,
   "metadata": {
    "hidden": true
   },
   "outputs": [
    {
     "name": "stdout",
     "output_type": "stream",
     "text": [
      "Train on 200270 samples, validate on 2800 samples\n",
      "Epoch 1/10\n",
      "200270/200270 [==============================] - 120s - loss: 0.5052 - acc: 0.8692 - val_loss: 0.4937 - val_acc: 0.8521\n",
      "Epoch 2/10\n",
      "200270/200270 [==============================] - 118s - loss: 0.5013 - acc: 0.8700 - val_loss: 0.4698 - val_acc: 0.8614\n",
      "Epoch 3/10\n",
      "200270/200270 [==============================] - 118s - loss: 0.4982 - acc: 0.8715 - val_loss: 0.4813 - val_acc: 0.8600\n",
      "Epoch 4/10\n",
      "200270/200270 [==============================] - 117s - loss: 0.4968 - acc: 0.8718 - val_loss: 0.4782 - val_acc: 0.8611\n",
      "Epoch 5/10\n",
      "200270/200270 [==============================] - 118s - loss: 0.4939 - acc: 0.8725 - val_loss: 0.4833 - val_acc: 0.8611\n",
      "Epoch 6/10\n",
      "200270/200270 [==============================] - 118s - loss: 0.4917 - acc: 0.8749 - val_loss: 0.4792 - val_acc: 0.8582\n",
      "Epoch 7/10\n",
      "200270/200270 [==============================] - 118s - loss: 0.4904 - acc: 0.8746 - val_loss: 0.4837 - val_acc: 0.8543\n",
      "Epoch 8/10\n",
      "200270/200270 [==============================] - 119s - loss: 0.4858 - acc: 0.8757 - val_loss: 0.4908 - val_acc: 0.8582\n",
      "Epoch 9/10\n",
      "200270/200270 [==============================] - 113s - loss: 0.4868 - acc: 0.8758 - val_loss: 0.4939 - val_acc: 0.8521\n",
      "Epoch 10/10\n",
      "200270/200270 [==============================] - 112s - loss: 0.4838 - acc: 0.8772 - val_loss: 0.4910 - val_acc: 0.8518\n"
     ]
    },
    {
     "data": {
      "text/plain": [
       "<keras.callbacks.History at 0x1a499c39518>"
      ]
     },
     "execution_count": 51,
     "metadata": {},
     "output_type": "execute_result"
    }
   ],
   "source": [
    "bn_model_bigger.fit(x = comb_feat,\n",
    "                    y = comb_pseudo,\n",
    "                    batch_size = batch_size,\n",
    "                    epochs = 10,\n",
    "                    validation_data = (conv_val_feat, val_labels))"
   ]
  },
  {
   "cell_type": "markdown",
   "metadata": {
    "hidden": true
   },
   "source": [
    "Having trained the model, we save the weights."
   ]
  },
  {
   "cell_type": "code",
   "execution_count": 52,
   "metadata": {
    "collapsed": true,
    "hidden": true
   },
   "outputs": [],
   "source": [
    "bn_model_bigger.save_weights('models/batchnorm_vgg16.h5')"
   ]
  },
  {
   "cell_type": "markdown",
   "metadata": {
    "heading_collapsed": true
   },
   "source": [
    "## Submitting to Kaggle\n",
    "\n",
    "We finally submit the improved model to Kaggle."
   ]
  },
  {
   "cell_type": "markdown",
   "metadata": {
    "hidden": true
   },
   "source": [
    "We start by finding the optimal level of clipping."
   ]
  },
  {
   "cell_type": "code",
   "execution_count": 48,
   "metadata": {
    "hidden": true
   },
   "outputs": [
    {
     "name": "stdout",
     "output_type": "stream",
     "text": [
      "Found 2800 images belonging to 10 classes.\n"
     ]
    }
   ],
   "source": [
    "valid_batches_pred = get_batches(path + 'valid', batch_size = 50, target_size = (224, 224), shuffle = False, class_mode = None)\n",
    "conv_val_feat_pred = conv_model.predict_generator(valid_batches_pred, np.int(valid_batches_pred.samples / valid_batches_pred.batch_size))\n",
    "\n",
    "val_predictions = bn_model_bigger.predict(conv_val_feat_pred, batch_size = 50)"
   ]
  },
  {
   "cell_type": "code",
   "execution_count": 57,
   "metadata": {
    "collapsed": true,
    "hidden": true
   },
   "outputs": [],
   "source": [
    "def do_clip(arr, mx): return np.clip(arr, (1 - mx) / 9, mx)"
   ]
  },
  {
   "cell_type": "markdown",
   "metadata": {
    "hidden": true
   },
   "source": [
    "We then proceed to determine the optimal level of clipping using the validation data set."
   ]
  },
  {
   "cell_type": "code",
   "execution_count": 58,
   "metadata": {
    "hidden": true
   },
   "outputs": [
    {
     "data": {
      "text/plain": [
       "[1.0000000000000002, 0.48164355679327142]"
      ]
     },
     "execution_count": 58,
     "metadata": {},
     "output_type": "execute_result"
    }
   ],
   "source": [
    "test_clip = []\n",
    "for i in np.arange(0.70, 1.0, 0.01):\n",
    "    test_clip.append([i, categorical_crossentropy(val_labels, do_clip(val_predictions, i)).eval().mean()])\n",
    "\n",
    "min(test_clip, key = lambda x: x[1])"
   ]
  },
  {
   "cell_type": "markdown",
   "metadata": {
    "hidden": true
   },
   "source": [
    "Here it is said, that no clipping is best. Weird. Lets submit two. One clipped and one not clipped. First we compute the predictions."
   ]
  },
  {
   "cell_type": "code",
   "execution_count": 59,
   "metadata": {
    "collapsed": true,
    "hidden": true
   },
   "outputs": [],
   "source": [
    "test_predictions = bn_model_bigger.predict(conv_test_feat, batch_size = 2)"
   ]
  },
  {
   "cell_type": "markdown",
   "metadata": {
    "hidden": true
   },
   "source": [
    "Define classes"
   ]
  },
  {
   "cell_type": "code",
   "execution_count": 61,
   "metadata": {
    "collapsed": true,
    "hidden": true
   },
   "outputs": [],
   "source": [
    "classes = sorted(valid_batches.class_indices, key = valid_batches.class_indices.get)"
   ]
  },
  {
   "cell_type": "markdown",
   "metadata": {
    "hidden": true
   },
   "source": [
    "Then we make a cliping based on earlier experience"
   ]
  },
  {
   "cell_type": "code",
   "execution_count": 62,
   "metadata": {
    "collapsed": true,
    "hidden": true
   },
   "outputs": [],
   "source": [
    "sumbit_pred = do_clip(test_predictions, 0.89)"
   ]
  },
  {
   "cell_type": "markdown",
   "metadata": {
    "hidden": true
   },
   "source": [
    "Then we prepare a submission without clipping."
   ]
  },
  {
   "cell_type": "code",
   "execution_count": 65,
   "metadata": {
    "hidden": true
   },
   "outputs": [
    {
     "data": {
      "text/html": [
       "<div>\n",
       "<table border=\"1\" class=\"dataframe\">\n",
       "  <thead>\n",
       "    <tr style=\"text-align: right;\">\n",
       "      <th></th>\n",
       "      <th>img</th>\n",
       "      <th>c0</th>\n",
       "      <th>c1</th>\n",
       "      <th>c2</th>\n",
       "      <th>c3</th>\n",
       "      <th>c4</th>\n",
       "      <th>c5</th>\n",
       "      <th>c6</th>\n",
       "      <th>c7</th>\n",
       "      <th>c8</th>\n",
       "      <th>c9</th>\n",
       "    </tr>\n",
       "  </thead>\n",
       "  <tbody>\n",
       "    <tr>\n",
       "      <th>0</th>\n",
       "      <td>img_81601.jpg</td>\n",
       "      <td>0.046099</td>\n",
       "      <td>0.006723</td>\n",
       "      <td>0.004307</td>\n",
       "      <td>0.000682</td>\n",
       "      <td>0.001594</td>\n",
       "      <td>0.001567</td>\n",
       "      <td>0.026646</td>\n",
       "      <td>0.020867</td>\n",
       "      <td>0.016716</td>\n",
       "      <td>0.874798</td>\n",
       "    </tr>\n",
       "    <tr>\n",
       "      <th>1</th>\n",
       "      <td>img_14887.jpg</td>\n",
       "      <td>0.689640</td>\n",
       "      <td>0.007839</td>\n",
       "      <td>0.000621</td>\n",
       "      <td>0.002267</td>\n",
       "      <td>0.001608</td>\n",
       "      <td>0.003189</td>\n",
       "      <td>0.001825</td>\n",
       "      <td>0.000393</td>\n",
       "      <td>0.005292</td>\n",
       "      <td>0.287327</td>\n",
       "    </tr>\n",
       "    <tr>\n",
       "      <th>2</th>\n",
       "      <td>img_62885.jpg</td>\n",
       "      <td>0.005301</td>\n",
       "      <td>0.000154</td>\n",
       "      <td>0.000257</td>\n",
       "      <td>0.017661</td>\n",
       "      <td>0.973055</td>\n",
       "      <td>0.000493</td>\n",
       "      <td>0.000514</td>\n",
       "      <td>0.000016</td>\n",
       "      <td>0.000978</td>\n",
       "      <td>0.001571</td>\n",
       "    </tr>\n",
       "    <tr>\n",
       "      <th>3</th>\n",
       "      <td>img_45125.jpg</td>\n",
       "      <td>0.002003</td>\n",
       "      <td>0.007311</td>\n",
       "      <td>0.017353</td>\n",
       "      <td>0.000462</td>\n",
       "      <td>0.002328</td>\n",
       "      <td>0.000509</td>\n",
       "      <td>0.656182</td>\n",
       "      <td>0.006239</td>\n",
       "      <td>0.302687</td>\n",
       "      <td>0.004926</td>\n",
       "    </tr>\n",
       "    <tr>\n",
       "      <th>4</th>\n",
       "      <td>img_22633.jpg</td>\n",
       "      <td>0.138601</td>\n",
       "      <td>0.055678</td>\n",
       "      <td>0.011123</td>\n",
       "      <td>0.001665</td>\n",
       "      <td>0.004929</td>\n",
       "      <td>0.012565</td>\n",
       "      <td>0.022692</td>\n",
       "      <td>0.007558</td>\n",
       "      <td>0.186375</td>\n",
       "      <td>0.558814</td>\n",
       "    </tr>\n",
       "  </tbody>\n",
       "</table>\n",
       "</div>"
      ],
      "text/plain": [
       "             img        c0        c1        c2        c3        c4        c5  \\\n",
       "0  img_81601.jpg  0.046099  0.006723  0.004307  0.000682  0.001594  0.001567   \n",
       "1  img_14887.jpg  0.689640  0.007839  0.000621  0.002267  0.001608  0.003189   \n",
       "2  img_62885.jpg  0.005301  0.000154  0.000257  0.017661  0.973055  0.000493   \n",
       "3  img_45125.jpg  0.002003  0.007311  0.017353  0.000462  0.002328  0.000509   \n",
       "4  img_22633.jpg  0.138601  0.055678  0.011123  0.001665  0.004929  0.012565   \n",
       "\n",
       "         c6        c7        c8        c9  \n",
       "0  0.026646  0.020867  0.016716  0.874798  \n",
       "1  0.001825  0.000393  0.005292  0.287327  \n",
       "2  0.000514  0.000016  0.000978  0.001571  \n",
       "3  0.656182  0.006239  0.302687  0.004926  \n",
       "4  0.022692  0.007558  0.186375  0.558814  "
      ]
     },
     "execution_count": 65,
     "metadata": {},
     "output_type": "execute_result"
    }
   ],
   "source": [
    "submission_no_clip = pd.DataFrame(test_predictions, columns = classes)\n",
    "submission_no_clip.insert(0, 'img', [a[8:] for a in test_batches.filenames])\n",
    "submission_no_clip.head()"
   ]
  },
  {
   "cell_type": "markdown",
   "metadata": {
    "hidden": true
   },
   "source": [
    "And a submission with clipping"
   ]
  },
  {
   "cell_type": "code",
   "execution_count": 66,
   "metadata": {
    "hidden": true
   },
   "outputs": [
    {
     "data": {
      "text/html": [
       "<div>\n",
       "<table border=\"1\" class=\"dataframe\">\n",
       "  <thead>\n",
       "    <tr style=\"text-align: right;\">\n",
       "      <th></th>\n",
       "      <th>img</th>\n",
       "      <th>c0</th>\n",
       "      <th>c1</th>\n",
       "      <th>c2</th>\n",
       "      <th>c3</th>\n",
       "      <th>c4</th>\n",
       "      <th>c5</th>\n",
       "      <th>c6</th>\n",
       "      <th>c7</th>\n",
       "      <th>c8</th>\n",
       "      <th>c9</th>\n",
       "    </tr>\n",
       "  </thead>\n",
       "  <tbody>\n",
       "    <tr>\n",
       "      <th>0</th>\n",
       "      <td>img_81601.jpg</td>\n",
       "      <td>0.046099</td>\n",
       "      <td>0.012222</td>\n",
       "      <td>0.012222</td>\n",
       "      <td>0.012222</td>\n",
       "      <td>0.012222</td>\n",
       "      <td>0.012222</td>\n",
       "      <td>0.026646</td>\n",
       "      <td>0.020867</td>\n",
       "      <td>0.016716</td>\n",
       "      <td>0.874798</td>\n",
       "    </tr>\n",
       "    <tr>\n",
       "      <th>1</th>\n",
       "      <td>img_14887.jpg</td>\n",
       "      <td>0.689640</td>\n",
       "      <td>0.012222</td>\n",
       "      <td>0.012222</td>\n",
       "      <td>0.012222</td>\n",
       "      <td>0.012222</td>\n",
       "      <td>0.012222</td>\n",
       "      <td>0.012222</td>\n",
       "      <td>0.012222</td>\n",
       "      <td>0.012222</td>\n",
       "      <td>0.287327</td>\n",
       "    </tr>\n",
       "    <tr>\n",
       "      <th>2</th>\n",
       "      <td>img_62885.jpg</td>\n",
       "      <td>0.012222</td>\n",
       "      <td>0.012222</td>\n",
       "      <td>0.012222</td>\n",
       "      <td>0.017661</td>\n",
       "      <td>0.890000</td>\n",
       "      <td>0.012222</td>\n",
       "      <td>0.012222</td>\n",
       "      <td>0.012222</td>\n",
       "      <td>0.012222</td>\n",
       "      <td>0.012222</td>\n",
       "    </tr>\n",
       "    <tr>\n",
       "      <th>3</th>\n",
       "      <td>img_45125.jpg</td>\n",
       "      <td>0.012222</td>\n",
       "      <td>0.012222</td>\n",
       "      <td>0.017353</td>\n",
       "      <td>0.012222</td>\n",
       "      <td>0.012222</td>\n",
       "      <td>0.012222</td>\n",
       "      <td>0.656182</td>\n",
       "      <td>0.012222</td>\n",
       "      <td>0.302687</td>\n",
       "      <td>0.012222</td>\n",
       "    </tr>\n",
       "    <tr>\n",
       "      <th>4</th>\n",
       "      <td>img_22633.jpg</td>\n",
       "      <td>0.138601</td>\n",
       "      <td>0.055678</td>\n",
       "      <td>0.012222</td>\n",
       "      <td>0.012222</td>\n",
       "      <td>0.012222</td>\n",
       "      <td>0.012565</td>\n",
       "      <td>0.022692</td>\n",
       "      <td>0.012222</td>\n",
       "      <td>0.186375</td>\n",
       "      <td>0.558814</td>\n",
       "    </tr>\n",
       "  </tbody>\n",
       "</table>\n",
       "</div>"
      ],
      "text/plain": [
       "             img        c0        c1        c2        c3        c4        c5  \\\n",
       "0  img_81601.jpg  0.046099  0.012222  0.012222  0.012222  0.012222  0.012222   \n",
       "1  img_14887.jpg  0.689640  0.012222  0.012222  0.012222  0.012222  0.012222   \n",
       "2  img_62885.jpg  0.012222  0.012222  0.012222  0.017661  0.890000  0.012222   \n",
       "3  img_45125.jpg  0.012222  0.012222  0.017353  0.012222  0.012222  0.012222   \n",
       "4  img_22633.jpg  0.138601  0.055678  0.012222  0.012222  0.012222  0.012565   \n",
       "\n",
       "         c6        c7        c8        c9  \n",
       "0  0.026646  0.020867  0.016716  0.874798  \n",
       "1  0.012222  0.012222  0.012222  0.287327  \n",
       "2  0.012222  0.012222  0.012222  0.012222  \n",
       "3  0.656182  0.012222  0.302687  0.012222  \n",
       "4  0.022692  0.012222  0.186375  0.558814  "
      ]
     },
     "execution_count": 66,
     "metadata": {},
     "output_type": "execute_result"
    }
   ],
   "source": [
    "submission_clip = pd.DataFrame(sumbit_pred, columns = classes)\n",
    "submission_clip.insert(0, 'img', [a[8:] for a in test_batches.filenames])\n",
    "submission_clip.head()"
   ]
  },
  {
   "cell_type": "markdown",
   "metadata": {
    "hidden": true
   },
   "source": [
    "Finally we save the two submissions"
   ]
  },
  {
   "cell_type": "code",
   "execution_count": 67,
   "metadata": {
    "collapsed": true,
    "hidden": true
   },
   "outputs": [],
   "source": [
    "submission_file_name_no_clip = 'results/augmented-pseudo-vgg-no-clip.gz'\n",
    "submission_no_clip.to_csv(submission_file_name_no_clip, index = False, compression = 'gzip')\n",
    "\n",
    "submission_file_name_clip = 'results/augmented-pseudo-vgg-clip.gz'\n",
    "submission_clip.to_csv(submission_file_name_clip, index = False, compression = 'gzip')"
   ]
  },
  {
   "cell_type": "code",
   "execution_count": 70,
   "metadata": {
    "hidden": true
   },
   "outputs": [
    {
     "data": {
      "text/html": [
       "<a href='results/augmented-pseudo-vgg-no-clip.gz' target='_blank'>results/augmented-pseudo-vgg-no-clip.gz</a><br>"
      ],
      "text/plain": [
       "/home/ubuntu/kaggle/state-farm-distracted-driver-detection/results/augmented-pseudo-vgg-no-clip.gz"
      ]
     },
     "execution_count": 70,
     "metadata": {},
     "output_type": "execute_result"
    }
   ],
   "source": [
    "from IPython.display import FileLink\n",
    "FileLink('results/augmented-pseudo-vgg-no-clip.gz')"
   ]
  },
  {
   "cell_type": "code",
   "execution_count": 71,
   "metadata": {
    "hidden": true
   },
   "outputs": [
    {
     "data": {
      "text/html": [
       "<a href='results/augmented-pseudo-vgg-clip.gz' target='_blank'>results/augmented-pseudo-vgg-clip.gz</a><br>"
      ],
      "text/plain": [
       "/home/ubuntu/kaggle/state-farm-distracted-driver-detection/results/augmented-pseudo-vgg-clip.gz"
      ]
     },
     "execution_count": 71,
     "metadata": {},
     "output_type": "execute_result"
    }
   ],
   "source": [
    "FileLink('results/augmented-pseudo-vgg-clip.gz')"
   ]
  },
  {
   "cell_type": "markdown",
   "metadata": {
    "collapsed": true,
    "hidden": true
   },
   "source": [
    "Turns out that in this case, the no clipping submission actually performed best, by a absolute 0.03."
   ]
  },
  {
   "cell_type": "code",
   "execution_count": null,
   "metadata": {
    "collapsed": true,
    "hidden": true
   },
   "outputs": [],
   "source": []
  }
 ],
 "metadata": {
  "anaconda-cloud": {},
  "kernelspec": {
   "display_name": "Python 3",
   "language": "python",
   "name": "python3"
  },
  "language_info": {
   "codemirror_mode": {
    "name": "ipython",
    "version": 3
   },
   "file_extension": ".py",
   "mimetype": "text/x-python",
   "name": "python",
   "nbconvert_exporter": "python",
   "pygments_lexer": "ipython3",
   "version": "3.5.3"
  }
 },
 "nbformat": 4,
 "nbformat_minor": 1
}
