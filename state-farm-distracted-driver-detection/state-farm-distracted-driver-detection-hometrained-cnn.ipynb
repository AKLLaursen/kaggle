{
 "cells": [
  {
   "cell_type": "markdown",
   "metadata": {
    "collapsed": true
   },
   "source": [
    "# State Farm Distracted Driver Detection - CNN\n",
    "This notebook goes trough steps of training a complete CNN model, with initial steps to sanity check and see improvements of the model. For structuring the data input into proper badges, see the VGG16 version of this model and data.\n",
    "Further it serves as my introduction to the functional API of Keras."
   ]
  },
  {
   "cell_type": "markdown",
   "metadata": {},
   "source": [
    "## Initial setup\n",
    "Initial libraries and functions are loaded and created"
   ]
  },
  {
   "cell_type": "markdown",
   "metadata": {},
   "source": [
    "We Start by loading the libraries needed to perform the modelling"
   ]
  },
  {
   "cell_type": "code",
   "execution_count": 21,
   "metadata": {
    "collapsed": true
   },
   "outputs": [],
   "source": [
    "# Plots displayed inline in notebook\n",
    "%matplotlib inline\n",
    "\n",
    "# Make help libraries available\n",
    "import sys\n",
    "\n",
    "sys.path.append('D:/anlaursen/libraries')\n",
    "\n",
    "# Set visible devices, so as to just use a single GPU.\n",
    "import os\n",
    "os.environ[\"CUDA_DEVICE_ORDER\"] = \"PCI_BUS_ID\"   # see issue #152\n",
    "os.environ[\"CUDA_VISIBLE_DEVICES\"] = \"0\""
   ]
  },
  {
   "cell_type": "code",
   "execution_count": 22,
   "metadata": {},
   "outputs": [],
   "source": [
    "import numpy as np\n",
    "import pandas as pd\n",
    "import itertools\n",
    "import random\n",
    "import os\n",
    "import sys\n",
    "import json\n",
    "import gc\n",
    "import bcolz\n",
    "\n",
    "from matplotlib import pyplot as plt\n",
    "from sklearn.metrics import confusion_matrix\n",
    "from shutil import move\n",
    "from scipy.ndimage import imread\n",
    "\n",
    "from keras.preprocessing import image\n",
    "from keras.models import Model, Sequential\n",
    "from keras.layers import Input, Dense, BatchNormalization, Flatten, Dropout, Lambda\n",
    "from keras.layers.convolutional import Conv2D, MaxPooling2D, ZeroPadding2D\n",
    "from keras.optimizers import Adam\n",
    "from keras.utils import to_categorical\n",
    "from keras.utils.data_utils import get_file\n",
    "from keras.regularizers import l2\n",
    "from keras.metrics import categorical_crossentropy\n",
    "import keras.backend as K\n",
    "\n",
    "# Set Theano backend\n",
    "K.set_image_data_format('channels_last')"
   ]
  },
  {
   "cell_type": "markdown",
   "metadata": {},
   "source": [
    "Set global variables"
   ]
  },
  {
   "cell_type": "code",
   "execution_count": 23,
   "metadata": {
    "collapsed": true
   },
   "outputs": [],
   "source": [
    "# Define home directory variable\n",
    "current_dir = os.getcwd()\n",
    "DATA_HOME_DIR = current_dir\n",
    "path = 'sample/'\n",
    "\n",
    "# Allow relative imports to directories above main\n",
    "sys.path.insert(1, os.path.join(sys.path[0], '..'))"
   ]
  },
  {
   "cell_type": "markdown",
   "metadata": {},
   "source": [
    "## Defining help functions\n",
    "\n",
    "Various plot and generator functions."
   ]
  },
  {
   "cell_type": "markdown",
   "metadata": {},
   "source": [
    "Define plotting function"
   ]
  },
  {
   "cell_type": "code",
   "execution_count": 24,
   "metadata": {
    "collapsed": true
   },
   "outputs": [],
   "source": [
    "def plots(ims, figsize = (12, 6), rows = 1, interp = False, titles = None):\n",
    "    \n",
    "    if type(ims[0]) is np.ndarray:\n",
    "        \n",
    "        ims = np.array(ims).astype(np.uint8)\n",
    "        if (ims.shape[-1] != 3):\n",
    "            ims = ims.transpose((0, 2, 3, 1))\n",
    "            \n",
    "    f = plt.figure(figsize = figsize)\n",
    "    for i in range(len(ims)):\n",
    "        sp = f.add_subplot(rows, len(ims)//rows, i + 1)\n",
    "        sp.axis('Off')\n",
    "        \n",
    "        if titles is not None:\n",
    "            sp.set_title(titles[i], fontsize = 16)\n",
    "            \n",
    "        plt.imshow(ims[i], interpolation = None if interp else 'none')"
   ]
  },
  {
   "cell_type": "markdown",
   "metadata": {},
   "source": [
    "Define confusion matrix function"
   ]
  },
  {
   "cell_type": "code",
   "execution_count": 25,
   "metadata": {
    "collapsed": true
   },
   "outputs": [],
   "source": [
    "def plot_confusion_matrix(cm, classes, normalize = False, title = 'Confusion matrix', cmap = plt.cm.Blues):\n",
    "\n",
    "    plt.figure()\n",
    "    plt.imshow(cm, interpolation = 'nearest', cmap = cmap)\n",
    "    plt.title(title)\n",
    "    plt.colorbar()\n",
    "    tick_marks = np.arange(len(classes))\n",
    "    plt.xticks(tick_marks, classes, rotation = 45)\n",
    "    plt.yticks(tick_marks, classes)\n",
    "\n",
    "    if normalize:\n",
    "        cm = cm.astype('float') / cm.sum(axis = 1)[:, np.newaxis]\n",
    "    print(cm)\n",
    "    thresh = cm.max() / 2.\n",
    "    for i, j in itertools.product(range(cm.shape[0]), range(cm.shape[1])):\n",
    "        plt.text(j, i, cm[i, j], horizontalalignment = \"center\", color = \"white\" if cm[i, j] > thresh else \"black\")\n",
    "\n",
    "    plt.tight_layout()\n",
    "    plt.ylabel('True label')\n",
    "    plt.xlabel('Predicted label')"
   ]
  },
  {
   "cell_type": "markdown",
   "metadata": {},
   "source": [
    "Define a function to normalise the images at the very first step of the model"
   ]
  },
  {
   "cell_type": "code",
   "execution_count": 26,
   "metadata": {
    "collapsed": true
   },
   "outputs": [],
   "source": [
    "def get_batches(path, gen = image.ImageDataGenerator(), shuffle = True,\n",
    "                batch_size = 8, class_mode = 'categorical',\n",
    "                target_size = (225, 300)):\n",
    "    \n",
    "    return gen.flow_from_directory(path, target_size = target_size,\n",
    "                                   class_mode = class_mode, shuffle = shuffle,\n",
    "                                   batch_size = batch_size)"
   ]
  },
  {
   "cell_type": "markdown",
   "metadata": {
    "heading_collapsed": true
   },
   "source": [
    "## Set up training and validation data\n",
    "\n",
    "We need to make sure, that the validation dataset contains driver(s) not contained in the training data set! Othervise we will get performance, that cannot be compared to that on Kaggle (the test set contains only unknown drivers."
   ]
  },
  {
   "cell_type": "markdown",
   "metadata": {
    "hidden": true
   },
   "source": [
    "We start by loading the overview of drivers to a Pandas dataframe"
   ]
  },
  {
   "cell_type": "code",
   "execution_count": null,
   "metadata": {
    "hidden": true
   },
   "outputs": [],
   "source": [
    "driver_imgs_list = pd.read_csv('driver_imgs_list.csv')\n",
    "driver_imgs_list.head()"
   ]
  },
  {
   "cell_type": "markdown",
   "metadata": {
    "hidden": true
   },
   "source": [
    "We randomly select 3 drivers to be used in the validation data set"
   ]
  },
  {
   "cell_type": "code",
   "execution_count": null,
   "metadata": {
    "hidden": true
   },
   "outputs": [],
   "source": [
    "# Get array of drivers\n",
    "drivers = driver_imgs_list['subject'].unique()\n",
    "\n",
    "# Set seed and pick random driver\n",
    "r = random.Random(200)\n",
    "valid_drivers = r.sample(drivers, 3)\n",
    "\n",
    "valid_drivers_df = driver_imgs_list[(driver_imgs_list['subject'].isin(valid_drivers))] \\\n",
    "                   .reset_index(drop = True)\n",
    "print(valid_drivers_df.groupby('classname').count())\n",
    "print(valid_drivers_df.count())"
   ]
  },
  {
   "cell_type": "markdown",
   "metadata": {
    "hidden": true
   },
   "source": [
    "We then create path and extract the images and classnames to be moved."
   ]
  },
  {
   "cell_type": "code",
   "execution_count": null,
   "metadata": {
    "hidden": true
   },
   "outputs": [],
   "source": [
    "valid_drivers_df['path_list'] = valid_drivers_df.apply(lambda row: ['train/' + row['classname'] + \\\n",
    "  '/' + row['img'], 'valid/' + row['classname'] + '/' + row['img']], axis = 1)\n",
    "\n",
    "valid_drivers_df.head()\n",
    "\n",
    "# Convert to list\n",
    "valid_img_path = valid_drivers_df['path_list'].tolist()\n",
    "print(valid_img_path[0:5])"
   ]
  },
  {
   "cell_type": "markdown",
   "metadata": {
    "hidden": true
   },
   "source": [
    "Create validation, sample and test folders"
   ]
  },
  {
   "cell_type": "code",
   "execution_count": null,
   "metadata": {
    "collapsed": true,
    "hidden": true
   },
   "outputs": [],
   "source": [
    "%mkdir valid\n",
    "%mkdir -p sample/train\n",
    "%mkdir -p sample/valid\n",
    "%mkdir -p test/unknown\n",
    "%mkdir models\n",
    "%mkdir results"
   ]
  },
  {
   "cell_type": "markdown",
   "metadata": {
    "hidden": true
   },
   "source": [
    "Create category subfolders"
   ]
  },
  {
   "cell_type": "code",
   "execution_count": null,
   "metadata": {
    "collapsed": true,
    "hidden": true
   },
   "outputs": [],
   "source": [
    "%cd $DATA_HOME_DIR/sample/train\n",
    "!mkdir c{0..9}\n",
    "\n",
    "%cd $DATA_HOME_DIR/sample/valid\n",
    "!mkdir c{0..9}\n",
    "\n",
    "%cd $DATA_HOME_DIR/valid\n",
    "!mkdir c{0..9}"
   ]
  },
  {
   "cell_type": "markdown",
   "metadata": {
    "hidden": true
   },
   "source": [
    "Move validation data"
   ]
  },
  {
   "cell_type": "code",
   "execution_count": null,
   "metadata": {
    "collapsed": true,
    "hidden": true
   },
   "outputs": [],
   "source": [
    "# Loop over all validation data\n",
    "for img in valid_img_path:\n",
    "    move(img[0], img[1])"
   ]
  },
  {
   "cell_type": "markdown",
   "metadata": {
    "hidden": true
   },
   "source": [
    "Move sample data"
   ]
  },
  {
   "cell_type": "code",
   "execution_count": null,
   "metadata": {
    "hidden": true
   },
   "outputs": [],
   "source": [
    "%cd $DATA_HOME_DIR/train/c0\n",
    "!shuf -n 100 -e * | xargs -i cp {} ~/kaggle/state-farm-distracted-driver-detection/sample/train/c0\n",
    "\n",
    "%cd $DATA_HOME_DIR/train/c1\n",
    "!shuf -n 100 -e * | xargs -i cp {} ~/kaggle/state-farm-distracted-driver-detection/sample/train/c1\n",
    "\n",
    "%cd $DATA_HOME_DIR/train/c2\n",
    "!shuf -n 100 -e * | xargs -i cp {} ~/kaggle/state-farm-distracted-driver-detection/sample/train/c2\n",
    "\n",
    "%cd $DATA_HOME_DIR/train/c3\n",
    "!shuf -n 100 -e * | xargs -i cp {} ~/kaggle/state-farm-distracted-driver-detection/sample/train/c3\n",
    "\n",
    "%cd $DATA_HOME_DIR/train/c4\n",
    "!shuf -n 100 -e * | xargs -i cp {} ~/kaggle/state-farm-distracted-driver-detection/sample/train/c4\n",
    "\n",
    "%cd $DATA_HOME_DIR/train/c5\n",
    "!shuf -n 100 -e * | xargs -i cp {} ~/kaggle/state-farm-distracted-driver-detection/sample/train/c5\n",
    "\n",
    "%cd $DATA_HOME_DIR/train/c6\n",
    "!shuf -n 100 -e * | xargs -i cp {} ~/kaggle/state-farm-distracted-driver-detection/sample/train/c6\n",
    "\n",
    "%cd $DATA_HOME_DIR/train/c7\n",
    "!shuf -n 100 -e * | xargs -i cp {} ~/kaggle/state-farm-distracted-driver-detection/sample/train/c7\n",
    "\n",
    "%cd $DATA_HOME_DIR/train/c8\n",
    "!shuf -n 100 -e * | xargs -i cp {} ~/kaggle/state-farm-distracted-driver-detection/sample/train/c8\n",
    "\n",
    "%cd $DATA_HOME_DIR/train/c9\n",
    "!shuf -n 100 -e * | xargs -i cp {} ~/kaggle/state-farm-distracted-driver-detection/sample/train/c9\n",
    "\n",
    "%cd $DATA_HOME_DIR/valid/c0\n",
    "!shuf -n 10 -e * | xargs -i cp {} ~/kaggle/state-farm-distracted-driver-detection/sample/valid/c0\n",
    "\n",
    "%cd $DATA_HOME_DIR/valid/c1\n",
    "!shuf -n 10 -e * | xargs -i cp {} ~/kaggle/state-farm-distracted-driver-detection/sample/valid/c1\n",
    "\n",
    "%cd $DATA_HOME_DIR/valid/c2\n",
    "!shuf -n 10 -e * | xargs -i cp {} ~/kaggle/state-farm-distracted-driver-detection/sample/valid/c2\n",
    "\n",
    "%cd $DATA_HOME_DIR/valid/c3\n",
    "!shuf -n 10 -e * | xargs -i cp {} ~/kaggle/state-farm-distracted-driver-detection/sample/valid/c3\n",
    "\n",
    "%cd $DATA_HOME_DIR/valid/c4\n",
    "!shuf -n 10 -e * | xargs -i cp {} ~/kaggle/state-farm-distracted-driver-detection/sample/valid/c4\n",
    "\n",
    "%cd $DATA_HOME_DIR/valid/c5\n",
    "!shuf -n 10 -e * | xargs -i cp {} ~/kaggle/state-farm-distracted-driver-detection/sample/valid/c5\n",
    "\n",
    "%cd $DATA_HOME_DIR/valid/c6\n",
    "!shuf -n 10 -e * | xargs -i cp {} ~/kaggle/state-farm-distracted-driver-detection/sample/valid/c6\n",
    "\n",
    "%cd $DATA_HOME_DIR/valid/c7\n",
    "!shuf -n 10 -e * | xargs -i cp {} ~/kaggle/state-farm-distracted-driver-detection/sample/valid/c7\n",
    "\n",
    "%cd $DATA_HOME_DIR/valid/c8\n",
    "!shuf -n 10 -e * | xargs -i cp {} ~/kaggle/state-farm-distracted-driver-detection/sample/valid/c8\n",
    "\n",
    "%cd $DATA_HOME_DIR/valid/c9\n",
    "!shuf -n 10 -e * | xargs -i cp {} ~/kaggle/state-farm-distracted-driver-detection/sample/valid/c9\n",
    "\n",
    "%cd $DATA_HOME_DIR"
   ]
  },
  {
   "cell_type": "markdown",
   "metadata": {},
   "source": [
    "## Setting up batches\n",
    "Set up and validate batches"
   ]
  },
  {
   "cell_type": "markdown",
   "metadata": {},
   "source": [
    "Set up training and validation data."
   ]
  },
  {
   "cell_type": "code",
   "execution_count": 27,
   "metadata": {},
   "outputs": [
    {
     "name": "stdout",
     "output_type": "stream",
     "text": [
      "Found 1000 images belonging to 10 classes.\n",
      "Found 100 images belonging to 10 classes.\n"
     ]
    }
   ],
   "source": [
    "batch_size = 4\n",
    "\n",
    "train_batches = get_batches(path + 'train', batch_size = batch_size)\n",
    "val_batches = get_batches(path + 'valid', batch_size = batch_size, shuffle = False)"
   ]
  },
  {
   "cell_type": "markdown",
   "metadata": {},
   "source": [
    "Check images"
   ]
  },
  {
   "cell_type": "code",
   "execution_count": 28,
   "metadata": {},
   "outputs": [
    {
     "data": {
      "image/png": "[encoded data removed]",
      "text/plain": [
       "<matplotlib.figure.Figure at 0x1c5695779e8>"
      ]
     },
     "metadata": {},
     "output_type": "display_data"
    }
   ],
   "source": [
    "imgs, labels = next(train_batches)\n",
    "\n",
    "# This shows the 'ground truth'\n",
    "plots(imgs, titles = labels)"
   ]
  },
  {
   "cell_type": "markdown",
   "metadata": {},
   "source": [
    "Respecify batch size"
   ]
  },
  {
   "cell_type": "code",
   "execution_count": 29,
   "metadata": {},
   "outputs": [
    {
     "name": "stdout",
     "output_type": "stream",
     "text": [
      "Found 1000 images belonging to 10 classes.\n",
      "Found 100 images belonging to 10 classes.\n"
     ]
    }
   ],
   "source": [
    "batch_size = 32\n",
    "\n",
    "train_batches = get_batches(path + 'train', batch_size = batch_size)\n",
    "val_batches = get_batches(path + 'valid', batch_size = batch_size, shuffle = False)"
   ]
  },
  {
   "cell_type": "markdown",
   "metadata": {},
   "source": [
    "## Simple linear model\n",
    "Testing the performance of a simple linear model, so as to have a base line to compare to."
   ]
  },
  {
   "cell_type": "markdown",
   "metadata": {},
   "source": [
    "We define a simple linear function. We add batch normalisation to the first layer to avoid having to do it manually."
   ]
  },
  {
   "cell_type": "code",
   "execution_count": 30,
   "metadata": {
    "collapsed": true
   },
   "outputs": [],
   "source": [
    "# Input tensor\n",
    "inputs = Input(shape = (225, 300, 3))\n",
    "\n",
    "# Create simple linear network. Start with batchnormalisation layer,\n",
    "# such that we do not need this \n",
    "x = BatchNormalization()(inputs)\n",
    "x = Flatten()(x)\n",
    "predictions = Dense(10, activation = 'softmax')(x)\n",
    "\n",
    "# Create model\n",
    "model = Model(inputs = inputs, outputs = predictions)\n",
    "model.compile(optimizer = Adam(lr = 0.001),\n",
    "              loss = 'categorical_crossentropy',\n",
    "              metrics = ['accuracy'])"
   ]
  },
  {
   "cell_type": "markdown",
   "metadata": {},
   "source": [
    "Train the model"
   ]
  },
  {
   "cell_type": "code",
   "execution_count": 31,
   "metadata": {},
   "outputs": [
    {
     "name": "stdout",
     "output_type": "stream",
     "text": [
      "Epoch 1/2\n",
      "31/31 [==============================] - 9s - loss: 13.3420 - acc: 0.1341 - val_loss: 14.4391 - val_acc: 0.1042\n",
      "Epoch 2/2\n",
      "31/31 [==============================] - 7s - loss: 14.4214 - acc: 0.1028 - val_loss: 14.2218 - val_acc: 0.1176\n"
     ]
    },
    {
     "data": {
      "text/plain": [
       "<keras.callbacks.History at 0x1c6ce27f320>"
      ]
     },
     "execution_count": 31,
     "metadata": {},
     "output_type": "execute_result"
    }
   ],
   "source": [
    "model.fit_generator(train_batches,\n",
    "                    steps_per_epoch = np.int(train_batches.samples / train_batches.batch_size),\n",
    "                    epochs = 2,\n",
    "                    validation_data = val_batches,\n",
    "                    validation_steps = np.int(val_batches.samples / val_batches.batch_size))"
   ]
  },
  {
   "cell_type": "markdown",
   "metadata": {},
   "source": [
    "Seems like we are stabilising close to random guessing. We can check the model specification to check that we have the desired number of parameters."
   ]
  },
  {
   "cell_type": "code",
   "execution_count": 32,
   "metadata": {},
   "outputs": [
    {
     "name": "stdout",
     "output_type": "stream",
     "text": [
      "_________________________________________________________________\n",
      "Layer (type)                 Output Shape              Param #   \n",
      "=================================================================\n",
      "input_5 (InputLayer)         (None, 225, 300, 3)       0         \n",
      "_________________________________________________________________\n",
      "batch_normalization_5 (Batch (None, 225, 300, 3)       12        \n",
      "_________________________________________________________________\n",
      "flatten_5 (Flatten)          (None, 202500)            0         \n",
      "_________________________________________________________________\n",
      "dense_5 (Dense)              (None, 10)                2025010   \n",
      "=================================================================\n",
      "Total params: 2,025,022\n",
      "Trainable params: 2,025,016\n",
      "Non-trainable params: 6\n",
      "_________________________________________________________________\n"
     ]
    }
   ],
   "source": [
    "model.summary()"
   ]
  },
  {
   "cell_type": "markdown",
   "metadata": {},
   "source": [
    "We have a desired high number of parameters. As we are stabilising on random guessing, we might just be assigning two different classes to the data set. That is our learning rate might be too high."
   ]
  },
  {
   "cell_type": "code",
   "execution_count": null,
   "metadata": {},
   "outputs": [],
   "source": [
    "val_preds = model.predict_generator(val_batches, val_batches.samples / val_batches.batch_size)\n",
    "val_preds.sum(axis = 0)"
   ]
  },
  {
   "cell_type": "markdown",
   "metadata": {},
   "source": [
    "We are actually just assigning two single values for each itteration. That is no good. Let's rerun with a lower learning rate."
   ]
  },
  {
   "cell_type": "code",
   "execution_count": null,
   "metadata": {},
   "outputs": [],
   "source": [
    "inputs = Input(shape = (225, 300, 3))\n",
    "\n",
    "x = BatchNormalization()(inputs)\n",
    "x = Flatten()(x)\n",
    "predictions = Dense(10, activation = 'softmax')(x)\n",
    "\n",
    "model = Model(inputs = inputs, outputs = predictions)\n",
    "model.compile(optimizer = Adam(lr = 1e-5),\n",
    "              loss = 'categorical_crossentropy',\n",
    "              metrics = ['accuracy'])\n",
    "\n",
    "model.fit_generator(train_batches,\n",
    "                    steps_per_epoch = np.int(train_batches.samples / train_batches.batch_size),\n",
    "                    epochs = 2,\n",
    "                    validation_data = val_batches,\n",
    "                    validation_steps = np.int(val_batches.samples / val_batches.batch_size))"
   ]
  },
  {
   "cell_type": "markdown",
   "metadata": {},
   "source": [
    "That certainly did the trick. We then increase the learning rate and see, where that gets us."
   ]
  },
  {
   "cell_type": "code",
   "execution_count": null,
   "metadata": {},
   "outputs": [],
   "source": [
    "# Increase the learning rate\n",
    "model.optimizer.lr = 0.001\n",
    "\n",
    "model.fit_generator(train_batches,\n",
    "                    steps_per_epoch = np.int(train_batches.samples / train_batches.batch_size),\n",
    "                    epochs = 4,\n",
    "                    validation_data = val_batches,\n",
    "                    validation_steps = np.int(val_batches.samples / val_batches.batch_size))"
   ]
  },
  {
   "cell_type": "markdown",
   "metadata": {},
   "source": [
    "So we are able to model the training set quite well. But, we are overfitting a lot.  Lets consider the confusion matrix. "
   ]
  },
  {
   "cell_type": "code",
   "execution_count": null,
   "metadata": {
    "collapsed": true
   },
   "outputs": [],
   "source": [
    "def test(model, path, batch_size = 5):\n",
    "    \n",
    "    test_batches = get_batches(path, shuffle = False, batch_size = batch_size, class_mode = None)\n",
    "    \n",
    "    return test_batches, model.predict_generator(test_batches, np.int(test_batches.samples / test_batches.batch_size))"
   ]
  },
  {
   "cell_type": "code",
   "execution_count": null,
   "metadata": {},
   "outputs": [],
   "source": [
    "val_batch_test, val_predictions_test = test(model, path + 'valid')"
   ]
  },
  {
   "cell_type": "code",
   "execution_count": null,
   "metadata": {},
   "outputs": [],
   "source": [
    "cm = confusion_matrix(val_batch_test.classes, np.argmax(val_predictions_test, axis = 1))\n",
    "plot_confusion_matrix(cm, val_batch_test.class_indices)"
   ]
  },
  {
   "cell_type": "markdown",
   "metadata": {},
   "source": [
    "This model, tough having high fit on the training set perform rather bad on the validation data. So let's improve it."
   ]
  },
  {
   "cell_type": "markdown",
   "metadata": {
    "heading_collapsed": true
   },
   "source": [
    "## L2 regularisation\n",
    "\n",
    "Our model is overfitting a lot, so let's add l2 regularisation and see if it improves things."
   ]
  },
  {
   "cell_type": "code",
   "execution_count": null,
   "metadata": {
    "hidden": true
   },
   "outputs": [],
   "source": [
    "inputs = Input(shape = (225, 300, 3))\n",
    "\n",
    "x = BatchNormalization()(inputs)\n",
    "x = Flatten()(x)\n",
    "predictions = Dense(10, activation = 'softmax', kernel_regularizer = l2(0.01))(x)\n",
    "\n",
    "model = Model(inputs = inputs, outputs = predictions)\n",
    "model.compile(optimizer = Adam(lr = 1e-5),\n",
    "              loss = 'categorical_crossentropy',\n",
    "              metrics = ['accuracy'])\n",
    "\n",
    "model.fit_generator(train_batches,\n",
    "                    steps_per_epoch = np.int(train_batches.samples / train_batches.batch_size),\n",
    "                    epochs = 2,\n",
    "                    validation_data = val_batches,\n",
    "                    validation_steps = np.int(val_batches.samples / val_batches.batch_size))"
   ]
  },
  {
   "cell_type": "markdown",
   "metadata": {
    "hidden": true
   },
   "source": [
    "Train for a few more epochs with higher learning rate"
   ]
  },
  {
   "cell_type": "code",
   "execution_count": null,
   "metadata": {
    "hidden": true
   },
   "outputs": [],
   "source": [
    "# Increase the learning rate\n",
    "model.optimizer.lr = 0.001\n",
    "\n",
    "model.fit_generator(train_batches,\n",
    "                    steps_per_epoch = np.int(train_batches.samples / train_batches.batch_size),\n",
    "                    epochs = 4,\n",
    "                    validation_data = val_batches,\n",
    "                    validation_steps = np.int(val_batches.samples / val_batches.batch_size))"
   ]
  },
  {
   "cell_type": "markdown",
   "metadata": {
    "hidden": true
   },
   "source": [
    "Slight improvement there, but still not a satisfying result."
   ]
  },
  {
   "cell_type": "markdown",
   "metadata": {
    "heading_collapsed": true
   },
   "source": [
    "## Adding a hidden layer\n",
    "\n",
    "Make a deeper network by adding a single hidden layer"
   ]
  },
  {
   "cell_type": "code",
   "execution_count": null,
   "metadata": {
    "hidden": true
   },
   "outputs": [],
   "source": [
    "inputs = Input(shape = (225, 300, 3))\n",
    "\n",
    "x = BatchNormalization()(inputs)\n",
    "x = Flatten()(x)\n",
    "x = Dense(500, activation = 'relu')(x)\n",
    "predictions = Dense(10, activation = 'softmax', kernel_regularizer = l2(0.01))(x)\n",
    "\n",
    "model = Model(inputs = inputs, outputs = predictions)\n",
    "model.compile(optimizer = Adam(lr = 1e-5),\n",
    "              loss = 'categorical_crossentropy',\n",
    "              metrics = ['accuracy'])\n",
    "\n",
    "model.fit_generator(train_batches,\n",
    "                    steps_per_epoch = np.int(train_batches.samples / train_batches.batch_size),\n",
    "                    epochs = 2,\n",
    "                    validation_data = val_batches,\n",
    "                    validation_steps = np.int(val_batches.samples / val_batches.batch_size))"
   ]
  },
  {
   "cell_type": "markdown",
   "metadata": {
    "hidden": true
   },
   "source": [
    "Retrain again with a higher learning rate"
   ]
  },
  {
   "cell_type": "code",
   "execution_count": null,
   "metadata": {
    "hidden": true
   },
   "outputs": [],
   "source": [
    "# Increase the learning rate\n",
    "model.optimizer.lr = 0.01\n",
    "\n",
    "model.fit_generator(train_batches,\n",
    "                    steps_per_epoch = np.int(train_batches.samples / train_batches.batch_size),\n",
    "                    epochs = 4,\n",
    "                    validation_data = val_batches,\n",
    "                    validation_steps = np.int(val_batches.samples / val_batches.batch_size))"
   ]
  },
  {
   "cell_type": "markdown",
   "metadata": {
    "hidden": true
   },
   "source": [
    "Not much help there. We already have a lot of parameters, so a hidden layer is not going to do much for image recognintion. A convolutional layer might be more efficient."
   ]
  },
  {
   "cell_type": "markdown",
   "metadata": {
    "heading_collapsed": true
   },
   "source": [
    "## A convolutional layer\n",
    "\n",
    "Make a model with a single convolutional layer."
   ]
  },
  {
   "cell_type": "code",
   "execution_count": null,
   "metadata": {
    "hidden": true
   },
   "outputs": [],
   "source": [
    "inputs = Input(shape = (225, 300, 3))\n",
    "\n",
    "norm_layer = BatchNormalization()(inputs)\n",
    "conv_layer_1 = ZeroPadding2D((1, 1))(norm_layer)\n",
    "conv_layer_1 = Conv2D(32, kernel_size = (3, 3), strides = (1, 1), activation = 'relu')(conv_layer_1)\n",
    "conv_layer_1 = BatchNormalization(axis = 1)(conv_layer_1)\n",
    "conv_layer_1 = MaxPooling2D((3, 3))(conv_layer_1)\n",
    "conv_layer_2 = ZeroPadding2D((1, 1))(conv_layer_1)\n",
    "conv_layer_2 = Conv2D(64, kernel_size = (3, 3), strides = (1, 1), activation = 'relu')(conv_layer_2)\n",
    "conv_layer_2 = BatchNormalization(axis = 1)(conv_layer_2)\n",
    "conv_layer_2 = MaxPooling2D((3, 3))(conv_layer_2)\n",
    "flat_layer = Flatten()(conv_layer_2)\n",
    "dense_layer_1 = Dense(200, activation = 'relu')(flat_layer)\n",
    "dense_layer_1 = BatchNormalization()(dense_layer_1)\n",
    "predictions = Dense(10, activation = 'softmax')(dense_layer_1)\n",
    "\n",
    "model = Model(inputs = inputs, outputs = predictions)\n",
    "model.compile(optimizer = Adam(lr = 1e-4),\n",
    "              loss = 'categorical_crossentropy',\n",
    "              metrics = ['accuracy'])\n",
    "\n",
    "model.fit_generator(train_batches,\n",
    "                    steps_per_epoch = np.int(train_batches.samples / train_batches.batch_size),\n",
    "                    epochs = 2,\n",
    "                    validation_data = val_batches,\n",
    "                    validation_steps = np.int(val_batches.samples / val_batches.batch_size))"
   ]
  },
  {
   "cell_type": "code",
   "execution_count": null,
   "metadata": {
    "hidden": true
   },
   "outputs": [],
   "source": [
    "# Increase the learning rate\n",
    "model.optimizer.lr = 0.001\n",
    "\n",
    "model.fit_generator(train_batches,\n",
    "                    steps_per_epoch = np.int(train_batches.samples / train_batches.batch_size),\n",
    "                    epochs = 4,\n",
    "                    validation_data = val_batches,\n",
    "                    validation_steps = np.int(val_batches.samples / val_batches.batch_size))"
   ]
  },
  {
   "cell_type": "code",
   "execution_count": null,
   "metadata": {
    "hidden": true
   },
   "outputs": [],
   "source": [
    "model.summary()"
   ]
  },
  {
   "cell_type": "markdown",
   "metadata": {
    "hidden": true
   },
   "source": [
    "Clearly the model converges to 1 with accuracy. Thus we need to do something about the overfitting."
   ]
  },
  {
   "cell_type": "markdown",
   "metadata": {
    "heading_collapsed": true
   },
   "source": [
    "## Augmenting the data\n",
    "\n",
    "To allieve the overfitting, we can augment the data. One should consider various combinations of the generator parameters, holding other parameters equal. Here we just specify the final generator."
   ]
  },
  {
   "cell_type": "markdown",
   "metadata": {
    "hidden": true
   },
   "source": [
    "We the define the final generator, and consider it."
   ]
  },
  {
   "cell_type": "code",
   "execution_count": null,
   "metadata": {
    "collapsed": true,
    "hidden": true
   },
   "outputs": [],
   "source": [
    "gen = image.ImageDataGenerator(rotation_range = 15,\n",
    "                               width_shift_range = 0.1,\n",
    "                               height_shift_range = 0.05,\n",
    "                               shear_range = 0.1,\n",
    "                               channel_shift_range = 20)"
   ]
  },
  {
   "cell_type": "markdown",
   "metadata": {
    "hidden": true
   },
   "source": [
    "We then consider an example to sanity check the generator."
   ]
  },
  {
   "cell_type": "code",
   "execution_count": null,
   "metadata": {
    "collapsed": true,
    "hidden": true
   },
   "outputs": [],
   "source": [
    "# Create a 'batch' of a single image\n",
    "img = np.expand_dims(imread('train/c0/img_99971.jpg'), 0)\n",
    "\n",
    "# Request the generator to create batches from this image\n",
    "aug_iter = gen.flow(img)"
   ]
  },
  {
   "cell_type": "markdown",
   "metadata": {
    "hidden": true
   },
   "source": [
    "We then get eight examples of the augmented images."
   ]
  },
  {
   "cell_type": "code",
   "execution_count": null,
   "metadata": {
    "collapsed": true,
    "hidden": true
   },
   "outputs": [],
   "source": [
    "# Get eight examples of these augmented images\n",
    "aug_imgs = [next(aug_iter)[0].astype(np.uint8) for i in range(8)]"
   ]
  },
  {
   "cell_type": "markdown",
   "metadata": {
    "hidden": true
   },
   "source": [
    "The original image:"
   ]
  },
  {
   "cell_type": "code",
   "execution_count": null,
   "metadata": {
    "hidden": true
   },
   "outputs": [],
   "source": [
    "plt.imshow(img[0])"
   ]
  },
  {
   "cell_type": "markdown",
   "metadata": {
    "hidden": true
   },
   "source": [
    "And our augmented images"
   ]
  },
  {
   "cell_type": "code",
   "execution_count": null,
   "metadata": {
    "hidden": true
   },
   "outputs": [],
   "source": [
    "plots(aug_imgs, (20, 7), 2)"
   ]
  },
  {
   "cell_type": "markdown",
   "metadata": {},
   "source": [
    "## CNN with augmented data\n",
    "We retrain the model with augmented data. Start by setting the data."
   ]
  },
  {
   "cell_type": "code",
   "execution_count": null,
   "metadata": {},
   "outputs": [],
   "source": [
    "batch_size = 32\n",
    "\n",
    "train_batches = get_batches(path + 'train', gen = gen, batch_size = batch_size)\n",
    "val_batches = get_batches(path + 'valid', batch_size = batch_size, shuffle = False)"
   ]
  },
  {
   "cell_type": "markdown",
   "metadata": {},
   "source": [
    "Then re-run the model with the aumented batches."
   ]
  },
  {
   "cell_type": "code",
   "execution_count": 33,
   "metadata": {},
   "outputs": [
    {
     "name": "stdout",
     "output_type": "stream",
     "text": [
      "Epoch 1/2\n",
      "31/31 [==============================] - 9s - loss: 1.7776 - acc: 0.4618 - val_loss: 1.9145 - val_acc: 0.3676\n",
      "Epoch 2/2\n",
      "31/31 [==============================] - 7s - loss: 0.4732 - acc: 0.9013 - val_loss: 2.2908 - val_acc: 0.2353\n"
     ]
    },
    {
     "data": {
      "text/plain": [
       "<keras.callbacks.History at 0x1c56da3feb8>"
      ]
     },
     "execution_count": 33,
     "metadata": {},
     "output_type": "execute_result"
    }
   ],
   "source": [
    "inputs = Input(shape = (225, 300, 3))\n",
    "\n",
    "norm_layer = BatchNormalization()(inputs)\n",
    "conv_layer_1 = ZeroPadding2D((1, 1))(norm_layer)\n",
    "conv_layer_1 = Conv2D(32, kernel_size = (3, 3), strides = (1, 1), activation = 'relu')(conv_layer_1)\n",
    "conv_layer_1 = BatchNormalization()(conv_layer_1)\n",
    "conv_layer_1 = MaxPooling2D((3, 3))(conv_layer_1)\n",
    "conv_layer_2 = ZeroPadding2D((1, 1))(conv_layer_1)\n",
    "conv_layer_2 = Conv2D(64, kernel_size = (3, 3), strides = (1, 1), activation = 'relu')(conv_layer_2)\n",
    "conv_layer_2 = BatchNormalization()(conv_layer_2)\n",
    "conv_layer_2 = MaxPooling2D((3, 3))(conv_layer_2)\n",
    "flat_layer = Flatten()(conv_layer_2)\n",
    "dense_layer_1 = Dense(200, activation = 'relu')(flat_layer)\n",
    "dense_layer_1 = BatchNormalization()(dense_layer_1)\n",
    "predictions = Dense(10, activation = 'softmax')(dense_layer_1)\n",
    "\n",
    "model = Model(inputs = inputs, outputs = predictions)\n",
    "model.compile(optimizer = Adam(lr = 1e-4),\n",
    "              loss = 'categorical_crossentropy',\n",
    "              metrics = ['accuracy'])\n",
    "\n",
    "model.fit_generator(train_batches,\n",
    "                    steps_per_epoch = np.int(train_batches.samples / train_batches.batch_size),\n",
    "                    epochs = 2,\n",
    "                    validation_data = val_batches,\n",
    "                    validation_steps = np.int(val_batches.samples / val_batches.batch_size))"
   ]
  },
  {
   "cell_type": "markdown",
   "metadata": {},
   "source": [
    "The training accuracy gets better, but the validation accuracy gets worse. Not good. However, this might be due to the low learning rate, so we try to adjust it and continue training for more epochs."
   ]
  },
  {
   "cell_type": "code",
   "execution_count": 34,
   "metadata": {},
   "outputs": [
    {
     "name": "stdout",
     "output_type": "stream",
     "text": [
      "Epoch 1/4\n",
      "31/31 [==============================] - 8s - loss: 0.1574 - acc: 0.9828 - val_loss: 2.6331 - val_acc: 0.1471\n",
      "Epoch 2/4\n",
      "31/31 [==============================] - 7s - loss: 0.0574 - acc: 0.9980 - val_loss: 2.8549 - val_acc: 0.0147\n",
      "Epoch 3/4\n",
      "31/31 [==============================] - 7s - loss: 0.0305 - acc: 1.0000 - val_loss: 2.9976 - val_acc: 0.0000e+00\n",
      "Epoch 4/4\n",
      "31/31 [==============================] - 7s - loss: 0.0190 - acc: 1.0000 - val_loss: 3.0298 - val_acc: 0.0147\n"
     ]
    },
    {
     "data": {
      "text/plain": [
       "<keras.callbacks.History at 0x1c57a288438>"
      ]
     },
     "execution_count": 34,
     "metadata": {},
     "output_type": "execute_result"
    }
   ],
   "source": [
    "# Increase the learning rate\n",
    "model.optimizer.lr = 0.0001\n",
    "\n",
    "model.fit_generator(train_batches,\n",
    "                    steps_per_epoch = np.int(train_batches.samples / train_batches.batch_size),\n",
    "                    epochs = 4,\n",
    "                    validation_data = val_batches,\n",
    "                    validation_steps = np.int(val_batches.samples / val_batches.batch_size))"
   ]
  },
  {
   "cell_type": "markdown",
   "metadata": {},
   "source": [
    "Much better. Then it's just time to increase the number of epochs and see where it gets us."
   ]
  },
  {
   "cell_type": "code",
   "execution_count": null,
   "metadata": {},
   "outputs": [],
   "source": [
    "model.fit_generator(train_batches,\n",
    "                    steps_per_epoch = np.int(train_batches.samples / train_batches.batch_size),\n",
    "                    epochs = 24,\n",
    "                    validation_data = val_batches,\n",
    "                    validation_steps = np.int(val_batches.samples / val_batches.batch_size))"
   ]
  },
  {
   "cell_type": "markdown",
   "metadata": {},
   "source": [
    "Lets run even more and see if we can get the valuation accuracy over 0.6"
   ]
  },
  {
   "cell_type": "code",
   "execution_count": null,
   "metadata": {},
   "outputs": [],
   "source": [
    "model.fit_generator(train_batches,\n",
    "                    steps_per_epoch = np.int(train_batches.samples / train_batches.batch_size),\n",
    "                    epochs = 24,\n",
    "                    validation_data = val_batches,\n",
    "                    validation_steps = np.int(val_batches.samples / val_batches.batch_size))"
   ]
  },
  {
   "cell_type": "markdown",
   "metadata": {},
   "source": [
    "Seems like we can't improve much more using the sample data set. The next step is to add dropout, where we have to use the entire dataset anyway. Let's submit to Kaggle and get a baseline performance indications"
   ]
  },
  {
   "cell_type": "markdown",
   "metadata": {
    "collapsed": true,
    "heading_collapsed": true
   },
   "source": [
    "## Submitting to Kaggle"
   ]
  },
  {
   "cell_type": "code",
   "execution_count": null,
   "metadata": {
    "collapsed": true,
    "hidden": true
   },
   "outputs": [],
   "source": [
    "# Define clipping in case we have to correct predictions when eval measure is skewed\n",
    "def do_clip(arr, mx):\n",
    "    return np.clip(arr, (1 - mx) / 9, mx)"
   ]
  },
  {
   "cell_type": "code",
   "execution_count": null,
   "metadata": {
    "collapsed": true,
    "hidden": true
   },
   "outputs": [],
   "source": [
    "test_batches = get_batches('test', shuffle = False, batch_size = 2, class_mode = None)\n",
    "\n",
    "test_pred = model.predict_generator(test_batches, np.int(test_batches.samples / test_batches.batch_size))"
   ]
  },
  {
   "cell_type": "code",
   "execution_count": null,
   "metadata": {
    "collapsed": true,
    "hidden": true
   },
   "outputs": [],
   "source": [
    "classes = sorted(val_batches.class_indices, key = val_batches.class_indices.get)"
   ]
  },
  {
   "cell_type": "code",
   "execution_count": null,
   "metadata": {
    "collapsed": true,
    "hidden": true
   },
   "outputs": [],
   "source": [
    "submission = pd.DataFrame(test_pred, columns = classes)\n",
    "submission.insert(0, 'img', [a[8:] for a in test_batches.filenames])\n",
    "submission.head()"
   ]
  },
  {
   "cell_type": "code",
   "execution_count": null,
   "metadata": {
    "collapsed": true,
    "hidden": true
   },
   "outputs": [],
   "source": [
    "submission_file_name = 'results/CNN-augmented-data-small-sample.gz'\n",
    "submission.to_csv(submission_file_name, index = False, compression = 'gzip')"
   ]
  },
  {
   "cell_type": "markdown",
   "metadata": {
    "hidden": true
   },
   "source": [
    "Next we turn towards adding dropout and training on the entire dataset."
   ]
  },
  {
   "cell_type": "markdown",
   "metadata": {},
   "source": [
    "## CNN with batch norm and dropout\n",
    "To further restrict overfitting we add dropout, which means we have to train on the entire dataset, which is quite time consuming. As sucj we reduce the target size, to reduce the number of parameters in order to improve the execution time."
   ]
  },
  {
   "cell_type": "markdown",
   "metadata": {},
   "source": [
    "Set up new batches"
   ]
  },
  {
   "cell_type": "code",
   "execution_count": null,
   "metadata": {},
   "outputs": [],
   "source": [
    "path = ''\n",
    "\n",
    "batch_size = 32\n",
    "\n",
    "gen = image.ImageDataGenerator(rotation_range = 15,\n",
    "                               width_shift_range = 0.1,\n",
    "                               height_shift_range = 0.05,\n",
    "                               shear_range = 0.1,\n",
    "                               channel_shift_range = 20)\n",
    "\n",
    "train_batches = get_batches(path + 'train', gen = gen, batch_size = batch_size, target_size = (225, 300))\n",
    "val_batches = get_batches(path + 'valid', batch_size = batch_size, target_size = (225, 300), shuffle = False)"
   ]
  },
  {
   "cell_type": "markdown",
   "metadata": {},
   "source": [
    "We add dropout and make the model a tiny bit deeper."
   ]
  },
  {
   "cell_type": "code",
   "execution_count": null,
   "metadata": {},
   "outputs": [],
   "source": [
    "inputs = Input(shape = (225, 300, 3))\n",
    "\n",
    "norm_layer = BatchNormalization(axis = 1)(inputs)\n",
    "\n",
    "# Conv. layer 1\n",
    "conv_layer_1 = ZeroPadding2D((1, 1))(norm_layer)\n",
    "conv_layer_1 = Dropout(0.1)(conv_layer_1)\n",
    "conv_layer_1 = Conv2D(32, kernel_size = (3, 3), strides = (1, 1), activation = 'relu')(conv_layer_1)\n",
    "conv_layer_1 = BatchNormalization()(conv_layer_1)\n",
    "conv_layer_1 = MaxPooling2D((3, 3))(conv_layer_1)\n",
    "\n",
    "# Conv. layer 2\n",
    "conv_layer_2 = ZeroPadding2D((1, 1))(conv_layer_1)\n",
    "conv_layer_2 = Dropout(0.2)(conv_layer_2)\n",
    "conv_layer_2 = Conv2D(64, kernel_size = (3, 3), strides = (1, 1), activation = 'relu')(conv_layer_2)\n",
    "conv_layer_2 = BatchNormalization()(conv_layer_2)\n",
    "conv_layer_2 = MaxPooling2D((3, 3))(conv_layer_2)\n",
    "\n",
    "# Conv. layer 3\n",
    "conv_layer_3 = ZeroPadding2D((1, 1))(conv_layer_2)\n",
    "conv_layer_3 = Dropout(0.3)(conv_layer_3)\n",
    "conv_layer_3 = Conv2D(128, kernel_size = (3, 3), strides = (1, 1), activation = 'relu')(conv_layer_3)\n",
    "conv_layer_3 = BatchNormalization()(conv_layer_3)\n",
    "conv_layer_3 = MaxPooling2D((3, 3))(conv_layer_3)\n",
    "\n",
    "# Flat layer\n",
    "flat_layer = Flatten()(conv_layer_3)\n",
    "\n",
    "# Dense layer 1\n",
    "dense_layer_1 = Dropout(0.5)(flat_layer)\n",
    "dense_layer_1 = Dense(200, activation = 'relu')(dense_layer_1)\n",
    "\n",
    "\n",
    "# Dense layer 2\n",
    "dense_layer_2 = BatchNormalization()(dense_layer_1)\n",
    "dense_layer_2 = Dropout(0.5)(dense_layer_2)\n",
    "dense_layer_2 = Dense(200, activation = 'relu')(dense_layer_2)\n",
    "\n",
    "# Dense layer 3\n",
    "dense_layer_3 = BatchNormalization()(dense_layer_2)\n",
    "dense_layer_3 = Dropout(0.5)(dense_layer_3)\n",
    "predictions = Dense(10, activation = 'softmax')(dense_layer_3)\n",
    "\n",
    "model = Model(inputs = inputs, outputs = predictions)\n",
    "model.compile(optimizer = Adam(lr = 1e-5),\n",
    "              loss = 'categorical_crossentropy',\n",
    "              metrics = ['accuracy'])\n",
    "\n",
    "model.fit_generator(train_batches,\n",
    "                    steps_per_epoch = np.int(train_batches.samples / train_batches.batch_size),\n",
    "                    epochs = 2,\n",
    "                    validation_data = val_batches,\n",
    "                    validation_steps = np.int(val_batches.samples / val_batches.batch_size))"
   ]
  },
  {
   "cell_type": "markdown",
   "metadata": {},
   "source": [
    "Our training is progressing extremely slowly. It might indicate that we have a bit much dropout. Given the data, dropout in the last dense layers might be enough. As such we remove the conv dropout and try and rerun."
   ]
  },
  {
   "cell_type": "code",
   "execution_count": null,
   "metadata": {},
   "outputs": [],
   "source": [
    "inputs = Input(shape = (225, 300, 3))\n",
    "\n",
    "norm_layer = BatchNormalization()(inputs)\n",
    "\n",
    "# Conv. layer 1\n",
    "conv_layer_1 = ZeroPadding2D((1, 1))(norm_layer)\n",
    "conv_layer_1 = Conv2D(32, kernel_size = (3, 3), strides = (1, 1), activation = 'relu')(conv_layer_1)\n",
    "conv_layer_1 = BatchNormalization()(conv_layer_1)\n",
    "conv_layer_1 = MaxPooling2D((3, 3))(conv_layer_1)\n",
    "\n",
    "# Conv. layer 2\n",
    "conv_layer_2 = ZeroPadding2D((1, 1))(conv_layer_1)\n",
    "conv_layer_2 = Conv2D(64, kernel_size = (3, 3), strides = (1, 1), activation = 'relu')(conv_layer_2)\n",
    "conv_layer_2 = BatchNormalization()(conv_layer_2)\n",
    "conv_layer_2 = MaxPooling2D((3, 3))(conv_layer_2)\n",
    "\n",
    "# Conv. layer 3\n",
    "conv_layer_3 = ZeroPadding2D((1, 1))(conv_layer_2)\n",
    "conv_layer_3 = Conv2D(128, kernel_size = (3, 3), strides = (1, 1), activation = 'relu')(conv_layer_3)\n",
    "conv_layer_3 = BatchNormalization()(conv_layer_3)\n",
    "conv_layer_3 = MaxPooling2D((3, 3))(conv_layer_3)\n",
    "\n",
    "# Flat layer\n",
    "flat_layer = Flatten()(conv_layer_3)\n",
    "\n",
    "# Dense layer 1\n",
    "dense_layer_1 = Dense(200, activation = 'relu')(flat_layer)\n",
    "\n",
    "# Dense layer 2\n",
    "dense_layer_2 = BatchNormalization()(dense_layer_1)\n",
    "dense_layer_2 = Dropout(0.5)(dense_layer_2)\n",
    "dense_layer_2 = Dense(200, activation = 'relu')(dense_layer_2)\n",
    "\n",
    "# Dense layer 3\n",
    "dense_layer_3 = BatchNormalization()(dense_layer_2)\n",
    "dense_layer_3 = Dropout(0.5)(dense_layer_3)\n",
    "predictions = Dense(10, activation = 'softmax')(dense_layer_3)\n",
    "\n",
    "model = Model(inputs = inputs, outputs = predictions)\n",
    "model.compile(optimizer = Adam(lr = 1e-4),\n",
    "              loss = 'categorical_crossentropy',\n",
    "              metrics = ['accuracy'])\n",
    "\n",
    "model.fit_generator(train_batches,\n",
    "                    steps_per_epoch = np.int(train_batches.samples / train_batches.batch_size),\n",
    "                    epochs = 2,\n",
    "                    validation_data = val_batches,\n",
    "                    validation_steps = np.int(val_batches.samples / val_batches.batch_size))"
   ]
  },
  {
   "cell_type": "markdown",
   "metadata": {},
   "source": [
    "Looks more promising. We even seem to be overfitting a bit now. Let's run a bit more."
   ]
  },
  {
   "cell_type": "code",
   "execution_count": null,
   "metadata": {},
   "outputs": [],
   "source": [
    "model.optimizer.lr = 1e-4\n",
    "\n",
    "model.fit_generator(train_batches,\n",
    "                    steps_per_epoch = np.int(train_batches.samples / train_batches.batch_size),\n",
    "                    epochs = 2,\n",
    "                    validation_data = val_batches,\n",
    "                    validation_steps = np.int(val_batches.samples / val_batches.batch_size))"
   ]
  },
  {
   "cell_type": "markdown",
   "metadata": {},
   "source": [
    "Now we're heading in the right direction. And the overfitting is even gone. Let's run at an even lower learning rate some more epochs and see how far we can get."
   ]
  },
  {
   "cell_type": "code",
   "execution_count": null,
   "metadata": {},
   "outputs": [],
   "source": [
    "model.optimizer.lr = 1e-5\n",
    "\n",
    "model.fit_generator(train_batches,\n",
    "                    steps_per_epoch = np.int(train_batches.samples / train_batches.batch_size),\n",
    "                    epochs = 6,\n",
    "                    validation_data = val_batches,\n",
    "                    validation_steps = np.int(val_batches.samples / val_batches.batch_size))"
   ]
  },
  {
   "cell_type": "markdown",
   "metadata": {},
   "source": [
    "Now we start to overfit, and it seems that the valuaration accuracy levels out.So in the area of 0.76-0.78 is the best we can do. We"
   ]
  },
  {
   "cell_type": "code",
   "execution_count": null,
   "metadata": {
    "collapsed": true
   },
   "outputs": [],
   "source": [
    "model.save_weights('models/cnn-dense-dropout.h5')"
   ]
  },
  {
   "cell_type": "markdown",
   "metadata": {},
   "source": [
    "So now we are starting to overfit. The accuracy increases, and the validation accuracy remains fairly constant.\n",
    "We might have had better succes, if we had sticked to the model with more dropout, but due to the slow increase in accuracy, training would have taken considerable long time.\n",
    "The result would propably be the same at any rate. This is due to the rather low number of training images in this problem (especially considering the number of test images). We are only training on a small number of drivers."
   ]
  },
  {
   "cell_type": "markdown",
   "metadata": {
    "collapsed": true
   },
   "source": [
    "This warrents a return to a VGG style model, which we first considered. Let's see if we can't improve on that model further by updating at least the dense layer to more modern standards."
   ]
  },
  {
   "cell_type": "markdown",
   "metadata": {},
   "source": [
    "Before doing that, we submit our current model to Kaggle, to get a better idea of how we are doing."
   ]
  },
  {
   "cell_type": "markdown",
   "metadata": {
    "heading_collapsed": true
   },
   "source": [
    "### Submitting to Kaggle"
   ]
  },
  {
   "cell_type": "code",
   "execution_count": null,
   "metadata": {
    "collapsed": true,
    "hidden": true
   },
   "outputs": [],
   "source": [
    "test_batches = get_batches('test', shuffle = False, batch_size = 2, target_size = (224, 224), class_mode = None)\n",
    "\n",
    "test_pred = model.predict_generator(test_batches, np.int(test_batches.samples / test_batches.batch_size))"
   ]
  },
  {
   "cell_type": "code",
   "execution_count": null,
   "metadata": {
    "collapsed": true,
    "hidden": true
   },
   "outputs": [],
   "source": [
    "classes = sorted(val_batches.class_indices, key = val_batches.class_indices.get)"
   ]
  },
  {
   "cell_type": "markdown",
   "metadata": {
    "hidden": true
   },
   "source": [
    "To get the best result on Kaggle, we do some clipping."
   ]
  },
  {
   "cell_type": "code",
   "execution_count": null,
   "metadata": {
    "collapsed": true,
    "hidden": true
   },
   "outputs": [],
   "source": [
    "def do_clip(arr, mx): return np.clip(arr, (1 - mx) / 9, mx)"
   ]
  },
  {
   "cell_type": "code",
   "execution_count": null,
   "metadata": {
    "collapsed": true,
    "hidden": true
   },
   "outputs": [],
   "source": [
    "valid_batches = get_batches('valid', shuffle = False, batch_size = 50, target_size = (224, 224), class_mode = None)\n",
    "\n",
    "valid_pred = model.predict_generator(valid_batches, np.int(valid_batches.samples / valid_batches.batch_size))"
   ]
  },
  {
   "cell_type": "markdown",
   "metadata": {
    "hidden": true
   },
   "source": [
    "Time to test the best level op clipping."
   ]
  },
  {
   "cell_type": "code",
   "execution_count": null,
   "metadata": {
    "collapsed": true,
    "hidden": true
   },
   "outputs": [],
   "source": [
    "test_clip = []\n",
    "for i in np.arange(0.70, 1.0, 0.01):\n",
    "    test_clip.append([i, categorical_crossentropy(to_categorical(valid_batches.classes), do_clip(valid_pred, i)).eval().mean()])\n",
    "\n",
    "min(test_clip, key = lambda x: x[1])"
   ]
  },
  {
   "cell_type": "code",
   "execution_count": null,
   "metadata": {
    "collapsed": true,
    "hidden": true
   },
   "outputs": [],
   "source": [
    "sumbit_pred = do_clip(test_pred, 0.89)"
   ]
  },
  {
   "cell_type": "markdown",
   "metadata": {
    "hidden": true
   },
   "source": [
    "And make the submission"
   ]
  },
  {
   "cell_type": "code",
   "execution_count": null,
   "metadata": {
    "collapsed": true,
    "hidden": true
   },
   "outputs": [],
   "source": [
    "submission = pd.DataFrame(sumbit_pred, columns = classes)\n",
    "submission.insert(0, 'img', [a[8:] for a in test_batches.filenames])\n",
    "submission.head()"
   ]
  },
  {
   "cell_type": "code",
   "execution_count": null,
   "metadata": {
    "collapsed": true,
    "hidden": true
   },
   "outputs": [],
   "source": [
    "submission_file_name = 'results/CNN-augmented-batch-norm-full-data.gz'\n",
    "submission.to_csv(submission_file_name, index = False, compression = 'gzip')"
   ]
  },
  {
   "cell_type": "markdown",
   "metadata": {
    "hidden": true
   },
   "source": [
    "This lands us on a solid 0.93 for a 516 position on the leaderboard."
   ]
  },
  {
   "cell_type": "markdown",
   "metadata": {},
   "source": [
    "## Improved VGG style network\n",
    "We return to the VGG style network (see other notebook), but try to improve it."
   ]
  },
  {
   "cell_type": "markdown",
   "metadata": {
    "collapsed": true
   },
   "source": [
    "We start by defining the vgg16 model again. First the layers and preprocessing."
   ]
  },
  {
   "cell_type": "code",
   "execution_count": null,
   "metadata": {
    "collapsed": true
   },
   "outputs": [],
   "source": [
    "def ConvBlock(layers, model_in, filters, name):\n",
    "    \n",
    "    model_out = model_in\n",
    "    for i in range(layers): \n",
    "        model_out = ZeroPadding2D((1, 1))(model_out)\n",
    "        model_out = Conv2D(filters,\n",
    "                           kernel_size = (3, 3),\n",
    "                           strides = (1, 1),\n",
    "                           activation = 'relu',\n",
    "                           name = name + '_' + str(i))(model_out)\n",
    "    \n",
    "    model_out = MaxPooling2D((2, 2), strides = (2, 2))(model_out)\n",
    "    \n",
    "    return model_out\n",
    "    \n",
    "def FCBlock(model_in, name):\n",
    "    \n",
    "    model_out = Dense(4096, activation = 'relu', name = name)(model_in)\n",
    "    model_out = Dropout(0.5)(model_out)\n",
    "    \n",
    "    return model_out\n",
    "    \n",
    "# Mean of each channel as provided by VGG researchers (i.e. hard coded)\n",
    "vgg_mean = np.array([123.68, 116.779, 103.939]).reshape((1, 1, 3))\n",
    "\n",
    "def vgg_preprocess(x):\n",
    "    \n",
    "    x = x - vgg_mean # subtract mean\n",
    "    return x[:, ::-1] # reverse axis bgr->rgb"
   ]
  },
  {
   "cell_type": "markdown",
   "metadata": {},
   "source": [
    "Next the actual vgg16 model"
   ]
  },
  {
   "cell_type": "code",
   "execution_count": null,
   "metadata": {
    "collapsed": true
   },
   "outputs": [],
   "source": [
    "def VGG_16():\n",
    "    \n",
    "    # Define input\n",
    "    inputs = Input(shape = (224, 224, 3))\n",
    "    \n",
    "    # Normalise first layer\n",
    "    norm_layer = Lambda(vgg_preprocess,\n",
    "                        output_shape = (224, 224, 3))(inputs)\n",
    "\n",
    "    # Define convolutional layers\n",
    "    conv_layer_1 = ConvBlock(2, norm_layer, 64, name = 'conv_layer_1')\n",
    "    conv_layer_2 = ConvBlock(2, conv_layer_1, 128, name = 'conv_layer_2')\n",
    "    conv_layer_3 = ConvBlock(3, conv_layer_2, 256, name = 'conv_layer_3')\n",
    "    conv_layer_4 = ConvBlock(3, conv_layer_3, 512, name = 'conv_layer_4')\n",
    "    conv_layer_5 = ConvBlock(3, conv_layer_4, 512, name = 'conv_layer_5')\n",
    "\n",
    "    # Flatten\n",
    "    flat_layer = Flatten()(conv_layer_5)\n",
    "    \n",
    "    # Fully connected layers\n",
    "    fc_layer_1 = FCBlock(flat_layer, name = 'fc_layer_1')\n",
    "    fc_layer_2 = FCBlock(fc_layer_1, name = 'fc_layer_2')\n",
    "    \n",
    "    # Prediction layer\n",
    "    predictions = Dense(1000, activation = 'softmax', name = 'prediction')(fc_layer_2)\n",
    "    \n",
    "    # Define model\n",
    "    model = Model(inputs = inputs, outputs = predictions)\n",
    "    \n",
    "    return model"
   ]
  },
  {
   "cell_type": "markdown",
   "metadata": {},
   "source": [
    "Then we run the model."
   ]
  },
  {
   "cell_type": "code",
   "execution_count": null,
   "metadata": {},
   "outputs": [],
   "source": [
    "model = VGG_16()\n",
    "\n",
    "model.summary()"
   ]
  },
  {
   "cell_type": "markdown",
   "metadata": {},
   "source": [
    "And assign the weights"
   ]
  },
  {
   "cell_type": "code",
   "execution_count": null,
   "metadata": {
    "collapsed": true
   },
   "outputs": [],
   "source": [
    "# Assign the weights\n",
    "model.load_weights('weights/vgg16.h5')"
   ]
  },
  {
   "cell_type": "markdown",
   "metadata": {},
   "source": [
    "Then we define the convolutional layer."
   ]
  },
  {
   "cell_type": "code",
   "execution_count": null,
   "metadata": {
    "collapsed": true
   },
   "outputs": [],
   "source": [
    "# Define convolutional layers\n",
    "last_conv_idx = [i for i, l in enumerate(model.layers) if type(l) is Conv2D][-1]\n",
    "conv_layers = model.layers[:last_conv_idx + 1]"
   ]
  },
  {
   "cell_type": "markdown",
   "metadata": {},
   "source": [
    "We then define a model using only the convolutional layers."
   ]
  },
  {
   "cell_type": "code",
   "execution_count": null,
   "metadata": {},
   "outputs": [],
   "source": [
    "conv_model = Sequential(conv_layers)\n",
    "conv_model.summary()"
   ]
  },
  {
   "cell_type": "markdown",
   "metadata": {},
   "source": [
    "We then precompute the convolutional layers in order to save time. We set shuffle to false, such that we get all images pre computed and we don't get the same images several times."
   ]
  },
  {
   "cell_type": "code",
   "execution_count": null,
   "metadata": {
    "collapsed": true
   },
   "outputs": [],
   "source": [
    "def save_array(fname, arr):\n",
    "    c = bcolz.carray(arr, rootdir = fname, mode = 'w')\n",
    "    c.flush()\n",
    "      \n",
    "def load_array(fname):\n",
    "    return bcolz.open(fname)[:]"
   ]
  },
  {
   "cell_type": "code",
   "execution_count": null,
   "metadata": {},
   "outputs": [],
   "source": [
    "path = ''\n",
    "\n",
    "train_batches = get_batches(path + 'train', batch_size = 44, target_size = (224, 224), shuffle = False)\n",
    "\n",
    "valid_batches = get_batches(path + 'valid', batch_size = 50, target_size = (224, 224), shuffle = False)\n",
    "\n",
    "test_batches = get_batches(path + 'test', batch_size = 2, target_size = (224, 224), shuffle = False, class_mode = None)"
   ]
  },
  {
   "cell_type": "code",
   "execution_count": null,
   "metadata": {},
   "outputs": [],
   "source": [
    "conv_feat = conv_model.predict_generator(train_batches, np.int(train_batches.samples / train_batches.batch_size))\n",
    "save_array(path + 'results/conv_computed/conv_feat.dat', conv_feat)\n",
    "\n",
    "del conv_feat\n",
    "gc.collect()"
   ]
  },
  {
   "cell_type": "code",
   "execution_count": null,
   "metadata": {},
   "outputs": [],
   "source": [
    "conv_val_feat = conv_model.predict_generator(valid_batches, np.int(valid_batches.samples / valid_batches.batch_size))\n",
    "save_array(path + 'results/conv_computed/conv_val_feat.dat', conv_val_feat)\n",
    "\n",
    "del conv_val_feat\n",
    "gc.collect()"
   ]
  },
  {
   "cell_type": "markdown",
   "metadata": {},
   "source": [
    "We then save the computed layers."
   ]
  },
  {
   "cell_type": "code",
   "execution_count": null,
   "metadata": {},
   "outputs": [],
   "source": [
    "conv_test_feat = conv_model.predict_generator(test_batches, np.int(test_batches.samples / test_batches.batch_size))\n",
    "save_array(path + 'results/conv_computed/conv_test_feat.dat', conv_test_feat)\n",
    "\n",
    "del conv_test_feat\n",
    "gc.collect()"
   ]
  },
  {
   "cell_type": "markdown",
   "metadata": {},
   "source": [
    "Load the layers"
   ]
  },
  {
   "cell_type": "code",
   "execution_count": null,
   "metadata": {},
   "outputs": [],
   "source": [
    "conv_feat = load_array(path + 'results/conv_computed/conv_feat.dat')\n",
    "conv_val_feat = load_array(path + 'results/conv_computed/conv_val_feat.dat')"
   ]
  },
  {
   "cell_type": "markdown",
   "metadata": {
    "heading_collapsed": true
   },
   "source": [
    "## VGG model with batchnorm dense laysers on pretrained conv layers\n",
    "\n",
    "Since we've pre-computed the output of the last convolutional layer, we need to create a network that takes that as input, and predicts our 10 classes. Let's try using a simplified version of VGG's dense layers."
   ]
  },
  {
   "cell_type": "code",
   "execution_count": null,
   "metadata": {
    "collapsed": true,
    "hidden": true
   },
   "outputs": [],
   "source": [
    "def batch_norm_model(base_model, p):\n",
    "    \n",
    "    inputs = Input(shape = base_model[-1].output_shape[1:])\n",
    "    pooling = MaxPooling2D((2, 2), strides = (2, 2))(inputs)\n",
    "        \n",
    "    flat_layer = Flatten()(pooling)\n",
    "        \n",
    "    dense_layer_1 = Dropout(p / 2)(flat_layer)\n",
    "    dense_layer_1 = Dense(128, activation='relu')(dense_layer_1)\n",
    "    dense_layer_2 = BatchNormalization()(dense_layer_1)\n",
    "    dense_layer_2 = Dropout(p / 2)(dense_layer_2)\n",
    "    dense_layer_2 = Dense(128, activation='relu')(dense_layer_2)\n",
    "    dense_layer_3 = BatchNormalization()(dense_layer_2)\n",
    "    dense_layer_3 = Dropout(p)(dense_layer_3)\n",
    "    dense_layer_3 = Dense(10, activation='softmax')(dense_layer_3)\n",
    "    \n",
    "    model = Model(inputs = inputs, outputs = dense_layer_3)\n",
    "    \n",
    "    return model\n",
    "\n",
    "p = 0.8\n",
    "\n",
    "batch_size = 32"
   ]
  },
  {
   "cell_type": "markdown",
   "metadata": {
    "hidden": true
   },
   "source": [
    "Lets define and compile the model."
   ]
  },
  {
   "cell_type": "code",
   "execution_count": null,
   "metadata": {
    "hidden": true
   },
   "outputs": [],
   "source": [
    "bn_model = batch_norm_model(conv_layers, p)\n",
    "\n",
    "bn_model.compile(optimizer = Adam(lr = 0.001),\n",
    "                 loss = 'categorical_crossentropy',\n",
    "                 metrics = ['accuracy'])\n",
    "\n",
    "bn_model.fit(x = conv_feat,\n",
    "             y = to_categorical(train_batches.classes),\n",
    "             batch_size = batch_size,\n",
    "             epochs = 1,\n",
    "             validation_data = (conv_val_feat, to_categorical(valid_batches.classes)))"
   ]
  },
  {
   "cell_type": "markdown",
   "metadata": {
    "hidden": true
   },
   "source": [
    "Great result! Time to increase the learning rate"
   ]
  },
  {
   "cell_type": "code",
   "execution_count": null,
   "metadata": {
    "hidden": true
   },
   "outputs": [],
   "source": [
    "bn_model.optimizer.lr = 0.01\n",
    "\n",
    "bn_model.fit(x = conv_feat,\n",
    "             y = to_categorical(train_batches.classes),\n",
    "             batch_size = batch_size,\n",
    "             epochs = 2,\n",
    "             validation_data = (conv_val_feat, to_categorical(valid_batches.classes)))"
   ]
  },
  {
   "cell_type": "markdown",
   "metadata": {
    "hidden": true
   },
   "source": [
    "Great result around the 0.8 accuracy mark. We'll see if we can improve it by adding 5 epochs worth of augmented data (that we precompute)."
   ]
  },
  {
   "cell_type": "markdown",
   "metadata": {
    "heading_collapsed": true
   },
   "source": [
    "## VGG model with precomputed augmentation and dropout.\n",
    "\n",
    "We precompute some augmented data in order to improve our model."
   ]
  },
  {
   "cell_type": "code",
   "execution_count": null,
   "metadata": {
    "hidden": true
   },
   "outputs": [],
   "source": [
    "gen_t = image.ImageDataGenerator(rotation_range = 15,\n",
    "                                 height_shift_range = 0.05,\n",
    "                                 shear_range = 0.1,\n",
    "                                 channel_shift_range = 20,\n",
    "                                 width_shift_range = 0.1)\n",
    "\n",
    "da_batches = get_batches(path + 'train', gen_t,\n",
    "                         batch_size = 44,\n",
    "                         shuffle = False,\n",
    "                         target_size = (224, 224))"
   ]
  },
  {
   "cell_type": "markdown",
   "metadata": {
    "hidden": true
   },
   "source": [
    "We use those to create a dataset of convolutional features 5x bigger than the training set."
   ]
  },
  {
   "cell_type": "code",
   "execution_count": null,
   "metadata": {
    "hidden": true
   },
   "outputs": [],
   "source": [
    "da_conv_feat = conv_model.predict_generator(da_batches, np.int(da_batches.samples / da_batches.batch_size) * 3)\n",
    "save_array(path + 'results/conv_computed/da_conv_feat.dat', da_conv_feat)\n",
    "\n",
    "del da_conv_feat\n",
    "gc.collect()"
   ]
  },
  {
   "cell_type": "markdown",
   "metadata": {
    "hidden": true
   },
   "source": [
    "We then load the augmented data"
   ]
  },
  {
   "cell_type": "code",
   "execution_count": null,
   "metadata": {
    "collapsed": true,
    "hidden": true
   },
   "outputs": [],
   "source": [
    "da_conv_feat = load_array(path + 'results/conv_computed/da_conv_feat.dat')"
   ]
  },
  {
   "cell_type": "markdown",
   "metadata": {
    "hidden": true
   },
   "source": [
    "We combine the augmented data with the real data"
   ]
  },
  {
   "cell_type": "code",
   "execution_count": null,
   "metadata": {
    "collapsed": true,
    "hidden": true
   },
   "outputs": [],
   "source": [
    "da_conv_feat = np.concatenate([da_conv_feat, conv_feat])"
   ]
  },
  {
   "cell_type": "markdown",
   "metadata": {
    "hidden": true
   },
   "source": [
    "We can then run the model again, but we try to use some bigger dense layers and some more dropout."
   ]
  },
  {
   "cell_type": "code",
   "execution_count": null,
   "metadata": {
    "collapsed": true,
    "hidden": true
   },
   "outputs": [],
   "source": [
    "def batch_norm_model_bigger(base_model, p):\n",
    "    \n",
    "    inputs = Input(shape = base_model[-1].output_shape[1:])\n",
    "    pooling = MaxPooling2D((2, 2), strides = (2, 2))(inputs)\n",
    "        \n",
    "    flat_layer = Flatten()(pooling)\n",
    "        \n",
    "    dense_layer_1 = Dropout(p)(flat_layer)\n",
    "    dense_layer_1 = Dense(256, activation='relu')(dense_layer_1)\n",
    "    dense_layer_2 = BatchNormalization()(dense_layer_1)\n",
    "    dense_layer_2 = Dropout(p)(dense_layer_2)\n",
    "    dense_layer_2 = Dense(256, activation='relu')(dense_layer_2)\n",
    "    dense_layer_3 = BatchNormalization()(dense_layer_2)\n",
    "    dense_layer_3 = Dropout(p)(dense_layer_3)\n",
    "    dense_layer_3 = Dense(10, activation='softmax')(dense_layer_3)\n",
    "    \n",
    "    model = Model(inputs = inputs, outputs = dense_layer_3)\n",
    "    \n",
    "    return model\n",
    "\n",
    "p = 0.8\n",
    "\n",
    "batch_size = 32"
   ]
  },
  {
   "cell_type": "markdown",
   "metadata": {
    "hidden": true
   },
   "source": [
    "We define and combine the model"
   ]
  },
  {
   "cell_type": "code",
   "execution_count": null,
   "metadata": {
    "hidden": true
   },
   "outputs": [],
   "source": [
    "bn_model_bigger = batch_norm_model_bigger(conv_layers, p)\n",
    "\n",
    "bn_model_bigger.compile(optimizer = Adam(lr = 0.001),\n",
    "                        loss = 'categorical_crossentropy',\n",
    "                        metrics = ['accuracy'])\n",
    "\n",
    "bn_model_bigger.fit(x = da_conv_feat,\n",
    "                    # Note we have increased the data 6 fold\n",
    "                    y = np.concatenate([to_categorical(train_batches.classes)] * 4),\n",
    "                    batch_size = batch_size,\n",
    "                    epochs = 1,\n",
    "                    validation_data = (conv_val_feat, to_categorical(valid_batches.classes)))"
   ]
  },
  {
   "cell_type": "markdown",
   "metadata": {
    "hidden": true
   },
   "source": [
    "We increase the learning rate and run some more epochs."
   ]
  },
  {
   "cell_type": "code",
   "execution_count": null,
   "metadata": {
    "hidden": true
   },
   "outputs": [],
   "source": [
    "bn_model_bigger.optimizer.lr = 0.01\n",
    "\n",
    "bn_model_bigger.fit(x = da_conv_feat,\n",
    "                    # Note we have increased the data 6 fold\n",
    "                    y = np.concatenate([to_categorical(train_batches.classes)] * 4),\n",
    "                    batch_size = batch_size,\n",
    "                    epochs = 4,\n",
    "                    validation_data = (conv_val_feat, to_categorical(valid_batches.classes)))"
   ]
  },
  {
   "cell_type": "markdown",
   "metadata": {
    "hidden": true
   },
   "source": [
    "And lower the learning rate again and run some more."
   ]
  },
  {
   "cell_type": "code",
   "execution_count": null,
   "metadata": {
    "hidden": true
   },
   "outputs": [],
   "source": [
    "bn_model_bigger.optimizer.lr = 0.0001\n",
    "\n",
    "bn_model_bigger.fit(x = da_conv_feat,\n",
    "                    # Note we have increased the data 6 fold\n",
    "                    y = np.concatenate([to_categorical(train_batches.classes)] * 4),\n",
    "                    batch_size = batch_size,\n",
    "                    epochs = 4,\n",
    "                    validation_data = (conv_val_feat, to_categorical(valid_batches.classes)))"
   ]
  },
  {
   "cell_type": "markdown",
   "metadata": {
    "hidden": true
   },
   "source": [
    "Great starting point. We save the weights here."
   ]
  },
  {
   "cell_type": "code",
   "execution_count": null,
   "metadata": {
    "collapsed": true,
    "hidden": true
   },
   "outputs": [],
   "source": [
    "bn_model.save_weights(path + 'models/vgg_model_augmented.h5')"
   ]
  },
  {
   "cell_type": "markdown",
   "metadata": {
    "heading_collapsed": true
   },
   "source": [
    "## Pseudolabeling\n",
    "\n",
    "We're going to try using a combination of [pseudo labeling](http://deeplearning.net/wp-content/uploads/2013/03/pseudo_label_final.pdf) and [knowledge distillation](https://arxiv.org/abs/1503.02531) to allow us to use unlabeled data (i.e. do semi-supervised learning). For our initial experiment we'll use the validation set as the unlabeled data, so that we can see that it is working without using the test set. At a later date we'll try using the test set."
   ]
  },
  {
   "cell_type": "code",
   "execution_count": null,
   "metadata": {
    "collapsed": true,
    "hidden": true
   },
   "outputs": [],
   "source": [
    "val_pseudo = bn_model_bigger.predict(conv_val_feat, batch_size = 50)"
   ]
  },
  {
   "cell_type": "markdown",
   "metadata": {
    "hidden": true
   },
   "source": [
    "We concatenate thse pseudo labels with our training labels"
   ]
  },
  {
   "cell_type": "code",
   "execution_count": null,
   "metadata": {
    "collapsed": true,
    "hidden": true
   },
   "outputs": [],
   "source": [
    "comb_pseudo = np.concatenate([np.concatenate([to_categorical(train_batches.classes)] * 4), val_pseudo])\n",
    "comb_feat = np.concatenate([da_conv_feat, conv_val_feat])"
   ]
  },
  {
   "cell_type": "code",
   "execution_count": null,
   "metadata": {
    "hidden": true
   },
   "outputs": [],
   "source": [
    "print(comb_feat.shape)\n",
    "print(comb_pseudo.shape)"
   ]
  },
  {
   "cell_type": "markdown",
   "metadata": {
    "hidden": true
   },
   "source": [
    "And fine tune our model using the data"
   ]
  },
  {
   "cell_type": "code",
   "execution_count": null,
   "metadata": {
    "hidden": true
   },
   "outputs": [],
   "source": [
    "bn_model_bigger.fit(x = comb_feat,\n",
    "                    # Note we have increased the data 6 fold\n",
    "                    y = comb_pseudo,\n",
    "                    batch_size = batch_size,\n",
    "                    epochs = 1,\n",
    "                    validation_data = (conv_val_feat, to_categorical(valid_batches.classes)))"
   ]
  },
  {
   "cell_type": "code",
   "execution_count": null,
   "metadata": {
    "hidden": true
   },
   "outputs": [],
   "source": [
    "bn_model_bigger.fit(x = comb_feat,\n",
    "                    # Note we have increased the data 6 fold\n",
    "                    y = comb_pseudo,\n",
    "                    batch_size = batch_size,\n",
    "                    epochs = 4,\n",
    "                    validation_data = (conv_val_feat, to_categorical(valid_batches.classes)))"
   ]
  },
  {
   "cell_type": "markdown",
   "metadata": {
    "hidden": true
   },
   "source": [
    "Lets try with a very low learning rate"
   ]
  },
  {
   "cell_type": "code",
   "execution_count": null,
   "metadata": {
    "hidden": true
   },
   "outputs": [],
   "source": [
    "bn_model_bigger.optimizer.lr = 0.00001\n",
    "\n",
    "bn_model_bigger.fit(x = comb_feat,\n",
    "                    # Note we have increased the data 6 fold\n",
    "                    y = comb_pseudo,\n",
    "                    batch_size = batch_size,\n",
    "                    epochs = 4,\n",
    "                    validation_data = (conv_val_feat, to_categorical(valid_batches.classes)))"
   ]
  },
  {
   "cell_type": "markdown",
   "metadata": {
    "hidden": true
   },
   "source": [
    "That was a great improvement. Lets expand further using the test set."
   ]
  },
  {
   "cell_type": "code",
   "execution_count": null,
   "metadata": {
    "collapsed": true,
    "hidden": true
   },
   "outputs": [],
   "source": [
    "conv_test_feat = load_array(path + 'results/conv_computed/conv_test_feat.dat')\n",
    "\n",
    "val_pseudo_test = bn_model_bigger.predict(conv_test_feat, batch_size = 2)"
   ]
  },
  {
   "cell_type": "markdown",
   "metadata": {
    "hidden": true
   },
   "source": [
    "Concatenate the data"
   ]
  },
  {
   "cell_type": "code",
   "execution_count": null,
   "metadata": {
    "collapsed": true,
    "hidden": true
   },
   "outputs": [],
   "source": [
    "comb_pseudo_all = np.concatenate([comb_pseudo, val_pseudo_test])\n",
    "comb_feat_all = np.concatenate([comb_feat, conv_test_feat])"
   ]
  },
  {
   "cell_type": "markdown",
   "metadata": {
    "hidden": true
   },
   "source": [
    "And fine tune our model using the data"
   ]
  },
  {
   "cell_type": "code",
   "execution_count": null,
   "metadata": {
    "hidden": true
   },
   "outputs": [],
   "source": [
    "bn_model_bigger.fit(x = comb_feat_all,\n",
    "                    # Note we have increased the data 6 fold\n",
    "                    y = comb_pseudo_all,\n",
    "                    batch_size = batch_size,\n",
    "                    epochs = 1,\n",
    "                    validation_data = (conv_val_feat, to_categorical(valid_batches.classes)))"
   ]
  },
  {
   "cell_type": "code",
   "execution_count": null,
   "metadata": {
    "hidden": true
   },
   "outputs": [],
   "source": [
    "bn_model_bigger.fit(x = comb_feat_all,\n",
    "                    # Note we have increased the data 6 fold\n",
    "                    y = comb_pseudo_all,\n",
    "                    batch_size = batch_size,\n",
    "                    epochs = 4,\n",
    "                    validation_data = (conv_val_feat, to_categorical(valid_batches.classes)))"
   ]
  },
  {
   "cell_type": "code",
   "execution_count": null,
   "metadata": {
    "hidden": true
   },
   "outputs": [],
   "source": [
    "bn_model_bigger.fit(x = comb_feat_all,\n",
    "                    # Note we have increased the data 6 fold\n",
    "                    y = comb_pseudo_all,\n",
    "                    batch_size = batch_size,\n",
    "                    epochs = 4,\n",
    "                    validation_data = (conv_val_feat, to_categorical(valid_batches.classes)))"
   ]
  },
  {
   "cell_type": "markdown",
   "metadata": {
    "heading_collapsed": true
   },
   "source": [
    "## Final submission to Kaggle\n",
    "\n",
    "We submit the final VGG model to Kaggle."
   ]
  },
  {
   "cell_type": "code",
   "execution_count": null,
   "metadata": {
    "collapsed": true,
    "hidden": true
   },
   "outputs": [],
   "source": []
  }
 ],
 "metadata": {
  "anaconda-cloud": {},
  "kernelspec": {
   "display_name": "Python 3",
   "language": "python",
   "name": "python3"
  },
  "language_info": {
   "codemirror_mode": {
    "name": "ipython",
    "version": 3
   },
   "file_extension": ".py",
   "mimetype": "text/x-python",
   "name": "python",
   "nbconvert_exporter": "python",
   "pygments_lexer": "ipython3",
   "version": "3.5.3"
  }
 },
 "nbformat": 4,
 "nbformat_minor": 1
}
